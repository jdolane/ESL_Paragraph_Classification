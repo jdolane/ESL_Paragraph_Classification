{
 "cells": [
  {
   "cell_type": "markdown",
   "id": "c8f37062",
   "metadata": {},
   "source": [
    "# Clean the ASAG Dataset"
   ]
  },
  {
   "cell_type": "markdown",
   "id": "ea5e7d80",
   "metadata": {},
   "source": [
    "Since the data has been cleanly scraped from XML files, there's not a lot of cleaning to be done. However, to remain consistent with the PELIC dataset, we'll make sure that all answers contain at least one subject and one verb."
   ]
  },
  {
   "cell_type": "code",
   "execution_count": 1,
   "id": "c6827121",
   "metadata": {},
   "outputs": [],
   "source": [
    "# import libraries\n",
    "import pandas as pd\n",
    "import spacy"
   ]
  },
  {
   "cell_type": "code",
   "execution_count": 2,
   "id": "80204846",
   "metadata": {},
   "outputs": [],
   "source": [
    "nlp = spacy.load(\"en_core_web_sm\")"
   ]
  },
  {
   "cell_type": "code",
   "execution_count": 3,
   "id": "fcfedcff",
   "metadata": {},
   "outputs": [],
   "source": [
    "df = pd.read_csv('../data/ASAG_compiled.csv').drop(['Unnamed: 0'],axis=1)"
   ]
  },
  {
   "cell_type": "code",
   "execution_count": 4,
   "id": "cbd94682",
   "metadata": {},
   "outputs": [
    {
     "name": "stdout",
     "output_type": "stream",
     "text": [
      "<class 'pandas.core.frame.DataFrame'>\n",
      "RangeIndex: 299 entries, 0 to 298\n",
      "Data columns (total 19 columns):\n",
      " #   Column           Non-Null Count  Dtype  \n",
      "---  ------           --------------  -----  \n",
      " 0   file_name        299 non-null    object \n",
      " 1   age_participant  299 non-null    int64  \n",
      " 2   sex_participant  299 non-null    object \n",
      " 3   education        299 non-null    object \n",
      " 4   L1               299 non-null    object \n",
      " 5   sex_examiner1    299 non-null    object \n",
      " 6   sex_examiner2    299 non-null    object \n",
      " 7   sex_examiner3    299 non-null    object \n",
      " 8   setting          299 non-null    object \n",
      " 9   question         299 non-null    object \n",
      " 10  word_limit       299 non-null    object \n",
      " 11  level_course     299 non-null    int64  \n",
      " 12  answer           299 non-null    object \n",
      " 13  grade_examiner1  299 non-null    int64  \n",
      " 14  grade_examiner2  297 non-null    float64\n",
      " 15  grade_examiner3  299 non-null    int64  \n",
      " 16  level            299 non-null    int64  \n",
      " 17  question_type    299 non-null    object \n",
      " 18  dataset          299 non-null    object \n",
      "dtypes: float64(1), int64(5), object(13)\n",
      "memory usage: 44.5+ KB\n"
     ]
    }
   ],
   "source": [
    "df.info()"
   ]
  },
  {
   "cell_type": "code",
   "execution_count": 5,
   "id": "7687baa1",
   "metadata": {},
   "outputs": [],
   "source": [
    "# Define a function to filter the data for answers that contain at least one subject and verb\n",
    "def contains_subject_and_verb(text):\n",
    "    '''\n",
    "    Checks to see if a document contains\n",
    "    at least one subject and one verb\n",
    "    '''\n",
    "    doc = nlp(text)\n",
    "    # Check if the text contains at least one subject and one verb\n",
    "    return any(token.dep_ == \"nsubj\" for token in doc) and any(token.pos_ == \"VERB\" for token in doc)\n",
    "\n",
    "def filter_rows_with_subject_and_verb(df):\n",
    "    '''\n",
    "    Applies the contains_subject_and_verb function\n",
    "    '''\n",
    "    # Apply the contains_subject_and_verb function to each row in the 'answer' column\n",
    "    mask = df['answer'].apply(contains_subject_and_verb)\n",
    "    # Filter the DataFrame to keep only the rows where the condition is True\n",
    "    return df[mask]"
   ]
  },
  {
   "cell_type": "code",
   "execution_count": 6,
   "id": "bd202750",
   "metadata": {},
   "outputs": [],
   "source": [
    "# Apply the function\n",
    "df = filter_rows_with_subject_and_verb(df)"
   ]
  },
  {
   "cell_type": "code",
   "execution_count": 7,
   "id": "d3cea8c1",
   "metadata": {},
   "outputs": [
    {
     "name": "stdout",
     "output_type": "stream",
     "text": [
      "<class 'pandas.core.frame.DataFrame'>\n",
      "Index: 268 entries, 0 to 298\n",
      "Data columns (total 19 columns):\n",
      " #   Column           Non-Null Count  Dtype  \n",
      "---  ------           --------------  -----  \n",
      " 0   file_name        268 non-null    object \n",
      " 1   age_participant  268 non-null    int64  \n",
      " 2   sex_participant  268 non-null    object \n",
      " 3   education        268 non-null    object \n",
      " 4   L1               268 non-null    object \n",
      " 5   sex_examiner1    268 non-null    object \n",
      " 6   sex_examiner2    268 non-null    object \n",
      " 7   sex_examiner3    268 non-null    object \n",
      " 8   setting          268 non-null    object \n",
      " 9   question         268 non-null    object \n",
      " 10  word_limit       268 non-null    object \n",
      " 11  level_course     268 non-null    int64  \n",
      " 12  answer           268 non-null    object \n",
      " 13  grade_examiner1  268 non-null    int64  \n",
      " 14  grade_examiner2  267 non-null    float64\n",
      " 15  grade_examiner3  268 non-null    int64  \n",
      " 16  level            268 non-null    int64  \n",
      " 17  question_type    268 non-null    object \n",
      " 18  dataset          268 non-null    object \n",
      "dtypes: float64(1), int64(5), object(13)\n",
      "memory usage: 41.9+ KB\n"
     ]
    }
   ],
   "source": [
    "df.info()"
   ]
  },
  {
   "cell_type": "code",
   "execution_count": 8,
   "id": "f09ddfed",
   "metadata": {},
   "outputs": [],
   "source": [
    "df.to_csv('../data/ASAG_cleaned.csv')"
   ]
  }
 ],
 "metadata": {
  "kernelspec": {
   "display_name": "Python 3 (ipykernel)",
   "language": "python",
   "name": "python3"
  },
  "language_info": {
   "codemirror_mode": {
    "name": "ipython",
    "version": 3
   },
   "file_extension": ".py",
   "mimetype": "text/x-python",
   "name": "python",
   "nbconvert_exporter": "python",
   "pygments_lexer": "ipython3",
   "version": "3.11.5"
  }
 },
 "nbformat": 4,
 "nbformat_minor": 5
}
