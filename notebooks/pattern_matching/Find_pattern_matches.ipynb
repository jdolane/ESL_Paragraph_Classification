{
 "cells": [
  {
   "cell_type": "markdown",
   "id": "be43ec55",
   "metadata": {},
   "source": [
    "# Find pattern matches\n",
    "This notebook is for finding linguistic patterns in in the answer column. The patterns are stored in patterns.json. Simply input the csv file path and name, name the csv file that will be output, and run the cell."
   ]
  },
  {
   "cell_type": "code",
   "execution_count": 13,
   "id": "6f61a69b",
   "metadata": {},
   "outputs": [],
   "source": [
    "import pandas as pd\n",
    "import json\n",
    "import spacy\n",
    "from spacy.matcher import DependencyMatcher\n",
    "\n",
    "# Add the file path and name for the csv\n",
    "file = '../data/...csv'\n",
    "\n",
    "# Read the csv into a df\n",
    "df = pd.read_csv(file).drop(['Unnamed: 0'],axis=1)\n",
    "\n",
    "# Open the pattern JSON file\n",
    "with open(\"../data/patterns.json\", \"r\") as file:\n",
    "    patterns_dict = json.load(file)\n",
    "\n",
    "# Load spacy and add the matcher\n",
    "nlp = spacy.load(\"en_core_web_sm\")\n",
    "matcher = DependencyMatcher(nlp.vocab)\n",
    "\n",
    "# Add the patterns to the matcher\n",
    "for pattern_name, pattern_list in patterns_dict.items():\n",
    "    matcher.add(f'{pattern_name}', [pattern_list])\n",
    "\n",
    "# Get the pattern names\n",
    "pattern_names = list(patterns_dict.keys())\n",
    "\n",
    "# Add a column to the DataFrame for each pattern name\n",
    "for pattern_name in pattern_names:\n",
    "    df[pattern_name] = 0\n",
    "\n",
    "# Define a function to count the patterns in the answers\n",
    "def count_patterns(text, matcher):\n",
    "    \"\"\"Count the number of pattern matches in the text.\"\"\"\n",
    "    doc = nlp(text)\n",
    "    matches = matcher(doc)\n",
    "    counts = {pattern_name: 0 for pattern_name in patterns_dict.keys()}\n",
    "    for match_id, token_ids in matches:\n",
    "        pattern_name = matcher.vocab.strings[match_id]\n",
    "        counts[pattern_name] += 1\n",
    "    return counts\n",
    "        \n",
    "for index, row in df.iterrows():\n",
    "    answer_text = row['answer']\n",
    "    pattern_counts = count_patterns(answer_text, matcher)\n",
    "    for pattern_name, count in pattern_counts.items():\n",
    "        df.at[index, pattern_name] = count\n",
    "        \n",
    "# Write the new df to a csv\n",
    "df.to_csv('../data/')"
   ]
  }
 ],
 "metadata": {
  "kernelspec": {
   "display_name": "Python 3 (ipykernel)",
   "language": "python",
   "name": "python3"
  },
  "language_info": {
   "codemirror_mode": {
    "name": "ipython",
    "version": 3
   },
   "file_extension": ".py",
   "mimetype": "text/x-python",
   "name": "python",
   "nbconvert_exporter": "python",
   "pygments_lexer": "ipython3",
   "version": "3.11.5"
  }
 },
 "nbformat": 4,
 "nbformat_minor": 5
}
