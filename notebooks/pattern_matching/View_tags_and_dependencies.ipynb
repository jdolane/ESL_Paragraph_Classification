{
 "cells": [
  {
   "cell_type": "markdown",
   "id": "44c24ebb",
   "metadata": {},
   "source": [
    "# View Tags and Dependencies\n",
    "The function in the notebook is used for viewing tags, dependencies, and parts of speech in example phrases."
   ]
  },
  {
   "cell_type": "code",
   "execution_count": 1,
   "id": "1dfd9359",
   "metadata": {},
   "outputs": [],
   "source": [
    "import spacy\n",
    "nlp = spacy.load(\"en_core_web_sm\")"
   ]
  },
  {
   "cell_type": "code",
   "execution_count": 2,
   "id": "de5150ef",
   "metadata": {},
   "outputs": [],
   "source": [
    "def print_token_info(doc):\n",
    "    for token in doc:\n",
    "        print(\"Text:\", token.text)\n",
    "        print(\"Lemma:\", token.lemma_)  # Include the lemma\n",
    "        print(\"POS:\", token.pos_)\n",
    "        print(\"Head:\", token.head.tag_)\n",
    "        print(\"Tag:\", token.tag_)\n",
    "        print(\"Teg exp:\", spacy.explain(token.tag_))\n",
    "        print(\"Dependency:\", token.dep_)\n",
    "        print(\"Explanation:\", spacy.explain(token.dep_))\n",
    "        print(\"\")"
   ]
  },
  {
   "cell_type": "code",
   "execution_count": 3,
   "id": "95e99314",
   "metadata": {},
   "outputs": [
    {
     "name": "stdout",
     "output_type": "stream",
     "text": [
      "Text: He\n",
      "Lemma: he\n",
      "POS: PRON\n",
      "Head: VBN\n",
      "Tag: PRP\n",
      "Teg exp: pronoun, personal\n",
      "Dependency: nsubj\n",
      "Explanation: nominal subject\n",
      "\n",
      "Text: has\n",
      "Lemma: have\n",
      "POS: AUX\n",
      "Head: VBN\n",
      "Tag: VBZ\n",
      "Teg exp: verb, 3rd person singular present\n",
      "Dependency: aux\n",
      "Explanation: auxiliary\n",
      "\n",
      "Text: been\n",
      "Lemma: be\n",
      "POS: AUX\n",
      "Head: VBN\n",
      "Tag: VBN\n",
      "Teg exp: verb, past participle\n",
      "Dependency: ROOT\n",
      "Explanation: root\n",
      "\n"
     ]
    }
   ],
   "source": [
    "text = \"He has been\"\n",
    "doc = nlp(text)\n",
    "print_token_info(doc)"
   ]
  },
  {
   "cell_type": "code",
   "execution_count": 5,
   "id": "14872c46",
   "metadata": {},
   "outputs": [
    {
     "name": "stdout",
     "output_type": "stream",
     "text": [
      "Text: He\n",
      "Lemma: he\n",
      "POS: PRON\n",
      "Head: VBG\n",
      "Tag: PRP\n",
      "Teg exp: pronoun, personal\n",
      "Dependency: nsubj\n",
      "Explanation: nominal subject\n",
      "\n",
      "Text: was\n",
      "Lemma: be\n",
      "POS: AUX\n",
      "Head: VBG\n",
      "Tag: VBD\n",
      "Teg exp: verb, past tense\n",
      "Dependency: aux\n",
      "Explanation: auxiliary\n",
      "\n",
      "Text: going\n",
      "Lemma: go\n",
      "POS: VERB\n",
      "Head: VBG\n",
      "Tag: VBG\n",
      "Teg exp: verb, gerund or present participle\n",
      "Dependency: ROOT\n",
      "Explanation: root\n",
      "\n"
     ]
    }
   ],
   "source": [
    "text = \"He was going\"\n",
    "doc = nlp(text)\n",
    "print_token_info(doc)"
   ]
  },
  {
   "cell_type": "code",
   "execution_count": 4,
   "id": "0d7a8bed",
   "metadata": {},
   "outputs": [
    {
     "name": "stdout",
     "output_type": "stream",
     "text": [
      "Text: They\n",
      "Lemma: they\n",
      "POS: PRON\n",
      "Head: VBN\n",
      "Tag: PRP\n",
      "Teg exp: pronoun, personal\n",
      "Dependency: nsubjpass\n",
      "Explanation: nominal subject (passive)\n",
      "\n",
      "Text: have\n",
      "Lemma: have\n",
      "POS: AUX\n",
      "Head: VBN\n",
      "Tag: VBP\n",
      "Teg exp: verb, non-3rd person singular present\n",
      "Dependency: aux\n",
      "Explanation: auxiliary\n",
      "\n",
      "Text: been\n",
      "Lemma: be\n",
      "POS: AUX\n",
      "Head: VBN\n",
      "Tag: VBN\n",
      "Teg exp: verb, past participle\n",
      "Dependency: aux\n",
      "Explanation: auxiliary\n",
      "\n",
      "Text: getting\n",
      "Lemma: getting\n",
      "POS: AUX\n",
      "Head: VBN\n",
      "Tag: VBG\n",
      "Teg exp: verb, gerund or present participle\n",
      "Dependency: auxpass\n",
      "Explanation: auxiliary (passive)\n",
      "\n",
      "Text: burned\n",
      "Lemma: burn\n",
      "POS: VERB\n",
      "Head: VBN\n",
      "Tag: VBN\n",
      "Teg exp: verb, past participle\n",
      "Dependency: ROOT\n",
      "Explanation: root\n",
      "\n"
     ]
    }
   ],
   "source": [
    "text = \"They have been getting burned\"\n",
    "doc = nlp(text)\n",
    "print_token_info(doc)"
   ]
  },
  {
   "cell_type": "code",
   "execution_count": 11,
   "id": "80a1b96b",
   "metadata": {},
   "outputs": [
    {
     "name": "stdout",
     "output_type": "stream",
     "text": [
      "Text: I\n",
      "Lemma: I\n",
      "POS: PRON\n",
      "Head: VBN\n",
      "Tag: PRP\n",
      "Teg exp: pronoun, personal\n",
      "Dependency: nsubjpass\n",
      "Explanation: nominal subject (passive)\n",
      "\n",
      "Text: should\n",
      "Lemma: should\n",
      "POS: AUX\n",
      "Head: VBN\n",
      "Tag: MD\n",
      "Teg exp: verb, modal auxiliary\n",
      "Dependency: aux\n",
      "Explanation: auxiliary\n",
      "\n",
      "Text: have\n",
      "Lemma: have\n",
      "POS: AUX\n",
      "Head: VBN\n",
      "Tag: VB\n",
      "Teg exp: verb, base form\n",
      "Dependency: aux\n",
      "Explanation: auxiliary\n",
      "\n",
      "Text: been\n",
      "Lemma: be\n",
      "POS: AUX\n",
      "Head: VBN\n",
      "Tag: VBN\n",
      "Teg exp: verb, past participle\n",
      "Dependency: auxpass\n",
      "Explanation: auxiliary (passive)\n",
      "\n",
      "Text: banned\n",
      "Lemma: ban\n",
      "POS: VERB\n",
      "Head: VBN\n",
      "Tag: VBN\n",
      "Teg exp: verb, past participle\n",
      "Dependency: ROOT\n",
      "Explanation: root\n",
      "\n"
     ]
    }
   ],
   "source": [
    "text = \"I should have been banned\"\n",
    "doc = nlp(text)\n",
    "print_token_info(doc)"
   ]
  },
  {
   "cell_type": "code",
   "execution_count": 10,
   "id": "a0a1387c",
   "metadata": {},
   "outputs": [
    {
     "name": "stdout",
     "output_type": "stream",
     "text": [
      "Text: I\n",
      "Lemma: I\n",
      "POS: PRON\n",
      "Head: VBN\n",
      "Tag: PRP\n",
      "Teg exp: pronoun, personal\n",
      "Dependency: nsubjpass\n",
      "Explanation: nominal subject (passive)\n",
      "\n",
      "Text: have\n",
      "Lemma: have\n",
      "POS: AUX\n",
      "Head: VBN\n",
      "Tag: VBP\n",
      "Teg exp: verb, non-3rd person singular present\n",
      "Dependency: aux\n",
      "Explanation: auxiliary\n",
      "\n",
      "Text: been\n",
      "Lemma: be\n",
      "POS: AUX\n",
      "Head: VBN\n",
      "Tag: VBN\n",
      "Teg exp: verb, past participle\n",
      "Dependency: auxpass\n",
      "Explanation: auxiliary (passive)\n",
      "\n",
      "Text: inaugurated\n",
      "Lemma: inaugurate\n",
      "POS: VERB\n",
      "Head: VBN\n",
      "Tag: VBN\n",
      "Teg exp: verb, past participle\n",
      "Dependency: ROOT\n",
      "Explanation: root\n",
      "\n"
     ]
    }
   ],
   "source": [
    "text = \"I have been inaugurated\"\n",
    "doc = nlp(text)\n",
    "print_token_info(doc)"
   ]
  },
  {
   "cell_type": "code",
   "execution_count": 8,
   "id": "dce7a49a",
   "metadata": {},
   "outputs": [
    {
     "name": "stdout",
     "output_type": "stream",
     "text": [
      "Text: I\n",
      "Lemma: I\n",
      "POS: PRON\n",
      "Head: VBN\n",
      "Tag: PRP\n",
      "Teg exp: pronoun, personal\n",
      "Dependency: nsubj\n",
      "Explanation: nominal subject\n",
      "\n",
      "Text: should\n",
      "Lemma: should\n",
      "POS: AUX\n",
      "Head: VBN\n",
      "Tag: MD\n",
      "Teg exp: verb, modal auxiliary\n",
      "Dependency: aux\n",
      "Explanation: auxiliary\n",
      "\n",
      "Text: have\n",
      "Lemma: have\n",
      "POS: AUX\n",
      "Head: VBN\n",
      "Tag: VB\n",
      "Teg exp: verb, base form\n",
      "Dependency: aux\n",
      "Explanation: auxiliary\n",
      "\n",
      "Text: left\n",
      "Lemma: leave\n",
      "POS: VERB\n",
      "Head: VBN\n",
      "Tag: VBN\n",
      "Teg exp: verb, past participle\n",
      "Dependency: ROOT\n",
      "Explanation: root\n",
      "\n"
     ]
    }
   ],
   "source": [
    "text = \"I should have left\"\n",
    "doc = nlp(text)\n",
    "print_token_info(doc)"
   ]
  },
  {
   "cell_type": "code",
   "execution_count": 7,
   "id": "c4050abf",
   "metadata": {},
   "outputs": [
    {
     "name": "stdout",
     "output_type": "stream",
     "text": [
      "Text: He\n",
      "Lemma: he\n",
      "POS: PRON\n",
      "Head: VBN\n",
      "Tag: PRP\n",
      "Teg exp: pronoun, personal\n",
      "Dependency: nsubj\n",
      "Explanation: nominal subject\n",
      "\n",
      "Text: has\n",
      "Lemma: have\n",
      "POS: AUX\n",
      "Head: VBN\n",
      "Tag: VBZ\n",
      "Teg exp: verb, 3rd person singular present\n",
      "Dependency: aux\n",
      "Explanation: auxiliary\n",
      "\n",
      "Text: been\n",
      "Lemma: be\n",
      "POS: AUX\n",
      "Head: VBN\n",
      "Tag: VBN\n",
      "Teg exp: verb, past participle\n",
      "Dependency: ROOT\n",
      "Explanation: root\n",
      "\n"
     ]
    }
   ],
   "source": [
    "text = \"He has been\"\n",
    "doc = nlp(text)\n",
    "print_token_info(doc)"
   ]
  },
  {
   "cell_type": "code",
   "execution_count": 6,
   "id": "f35e4f6d",
   "metadata": {},
   "outputs": [
    {
     "name": "stdout",
     "output_type": "stream",
     "text": [
      "Text: He\n",
      "Lemma: he\n",
      "POS: PRON\n",
      "Head: VBN\n",
      "Tag: PRP\n",
      "Teg exp: pronoun, personal\n",
      "Dependency: nsubjpass\n",
      "Explanation: nominal subject (passive)\n",
      "\n",
      "Text: is\n",
      "Lemma: be\n",
      "POS: AUX\n",
      "Head: VBN\n",
      "Tag: VBZ\n",
      "Teg exp: verb, 3rd person singular present\n",
      "Dependency: aux\n",
      "Explanation: auxiliary\n",
      "\n",
      "Text: getting\n",
      "Lemma: getting\n",
      "POS: AUX\n",
      "Head: VBN\n",
      "Tag: VBG\n",
      "Teg exp: verb, gerund or present participle\n",
      "Dependency: auxpass\n",
      "Explanation: auxiliary (passive)\n",
      "\n",
      "Text: called\n",
      "Lemma: call\n",
      "POS: VERB\n",
      "Head: VBN\n",
      "Tag: VBN\n",
      "Teg exp: verb, past participle\n",
      "Dependency: ROOT\n",
      "Explanation: root\n",
      "\n"
     ]
    }
   ],
   "source": [
    "text = \"He is getting called\"\n",
    "doc = nlp(text)\n",
    "print_token_info(doc)"
   ]
  },
  {
   "cell_type": "code",
   "execution_count": 53,
   "id": "51c4e47e",
   "metadata": {},
   "outputs": [
    {
     "name": "stdout",
     "output_type": "stream",
     "text": [
      "Text: He\n",
      "Lemma: he\n",
      "POS: PRON\n",
      "Head: VBD\n",
      "Tag: PRP\n",
      "Teg exp: pronoun, personal\n",
      "Dependency: nsubj\n",
      "Explanation: nominal subject\n",
      "\n",
      "Text: went\n",
      "Lemma: go\n",
      "POS: VERB\n",
      "Head: VBD\n",
      "Tag: VBD\n",
      "Teg exp: verb, past tense\n",
      "Dependency: ROOT\n",
      "Explanation: root\n",
      "\n"
     ]
    }
   ],
   "source": [
    "text = \"He went\"\n",
    "doc = nlp(text)\n",
    "print_token_info(doc)"
   ]
  },
  {
   "cell_type": "code",
   "execution_count": 51,
   "id": "e95327b3",
   "metadata": {},
   "outputs": [
    {
     "name": "stdout",
     "output_type": "stream",
     "text": [
      "Text: It\n",
      "Lemma: it\n",
      "POS: PRON\n",
      "Head: VBN\n",
      "Tag: PRP\n",
      "Teg exp: pronoun, personal\n",
      "Dependency: nsubjpass\n",
      "Explanation: nominal subject (passive)\n",
      "\n",
      "Text: should\n",
      "Lemma: should\n",
      "POS: AUX\n",
      "Head: VBN\n",
      "Tag: MD\n",
      "Teg exp: verb, modal auxiliary\n",
      "Dependency: aux\n",
      "Explanation: auxiliary\n",
      "\n",
      "Text: be\n",
      "Lemma: be\n",
      "POS: AUX\n",
      "Head: VBN\n",
      "Tag: VB\n",
      "Teg exp: verb, base form\n",
      "Dependency: auxpass\n",
      "Explanation: auxiliary (passive)\n",
      "\n",
      "Text: made\n",
      "Lemma: make\n",
      "POS: VERB\n",
      "Head: VBN\n",
      "Tag: VBN\n",
      "Teg exp: verb, past participle\n",
      "Dependency: ROOT\n",
      "Explanation: root\n",
      "\n"
     ]
    }
   ],
   "source": [
    "text = \"It should be made\"\n",
    "doc = nlp(text)\n",
    "print_token_info(doc)"
   ]
  },
  {
   "cell_type": "code",
   "execution_count": 47,
   "id": "263882f7",
   "metadata": {},
   "outputs": [
    {
     "name": "stdout",
     "output_type": "stream",
     "text": [
      "Text: He\n",
      "Lemma: he\n",
      "POS: PRON\n",
      "Head: VB\n",
      "Tag: PRP\n",
      "Teg exp: pronoun, personal\n",
      "Dependency: nsubj\n",
      "Explanation: nominal subject\n",
      "\n",
      "Text: could\n",
      "Lemma: could\n",
      "POS: AUX\n",
      "Head: VB\n",
      "Tag: MD\n",
      "Teg exp: verb, modal auxiliary\n",
      "Dependency: aux\n",
      "Explanation: auxiliary\n",
      "\n",
      "Text: n't\n",
      "Lemma: not\n",
      "POS: PART\n",
      "Head: VB\n",
      "Tag: RB\n",
      "Teg exp: adverb\n",
      "Dependency: neg\n",
      "Explanation: negation modifier\n",
      "\n",
      "Text: go\n",
      "Lemma: go\n",
      "POS: VERB\n",
      "Head: VB\n",
      "Tag: VB\n",
      "Teg exp: verb, base form\n",
      "Dependency: ROOT\n",
      "Explanation: root\n",
      "\n"
     ]
    }
   ],
   "source": [
    "text = \"He couldn't go\"\n",
    "doc = nlp(text)\n",
    "print_token_info(doc)"
   ]
  },
  {
   "cell_type": "code",
   "execution_count": 45,
   "id": "09bf4482",
   "metadata": {},
   "outputs": [
    {
     "name": "stdout",
     "output_type": "stream",
     "text": [
      "Text: He\n",
      "Lemma: he\n",
      "POS: PRON\n",
      "Head: VB\n",
      "Tag: PRP\n",
      "Teg exp: pronoun, personal\n",
      "Dependency: nsubj\n",
      "Explanation: nominal subject\n",
      "\n",
      "Text: can\n",
      "Lemma: can\n",
      "POS: AUX\n",
      "Head: VB\n",
      "Tag: MD\n",
      "Teg exp: verb, modal auxiliary\n",
      "Dependency: aux\n",
      "Explanation: auxiliary\n",
      "\n",
      "Text: go\n",
      "Lemma: go\n",
      "POS: VERB\n",
      "Head: VB\n",
      "Tag: VB\n",
      "Teg exp: verb, base form\n",
      "Dependency: ROOT\n",
      "Explanation: root\n",
      "\n"
     ]
    }
   ],
   "source": [
    "text = \"He can go\"\n",
    "doc = nlp(text)\n",
    "print_token_info(doc)"
   ]
  },
  {
   "cell_type": "code",
   "execution_count": 43,
   "id": "5a7eb20b",
   "metadata": {},
   "outputs": [
    {
     "name": "stdout",
     "output_type": "stream",
     "text": [
      "Text: I\n",
      "Lemma: I\n",
      "POS: PRON\n",
      "Head: VB\n",
      "Tag: PRP\n",
      "Teg exp: pronoun, personal\n",
      "Dependency: nsubj\n",
      "Explanation: nominal subject\n",
      "\n",
      "Text: do\n",
      "Lemma: do\n",
      "POS: AUX\n",
      "Head: VB\n",
      "Tag: VBP\n",
      "Teg exp: verb, non-3rd person singular present\n",
      "Dependency: aux\n",
      "Explanation: auxiliary\n",
      "\n",
      "Text: look\n",
      "Lemma: look\n",
      "POS: VERB\n",
      "Head: VB\n",
      "Tag: VB\n",
      "Teg exp: verb, base form\n",
      "Dependency: ROOT\n",
      "Explanation: root\n",
      "\n"
     ]
    }
   ],
   "source": [
    "text = \"I do look\"\n",
    "doc = nlp(text)\n",
    "print_token_info(doc)"
   ]
  },
  {
   "cell_type": "code",
   "execution_count": 41,
   "id": "8e8cdf7d",
   "metadata": {},
   "outputs": [
    {
     "name": "stdout",
     "output_type": "stream",
     "text": [
      "Text: You\n",
      "Lemma: you\n",
      "POS: PRON\n",
      "Head: VB\n",
      "Tag: PRP\n",
      "Teg exp: pronoun, personal\n",
      "Dependency: nsubj\n",
      "Explanation: nominal subject\n",
      "\n",
      "Text: should\n",
      "Lemma: should\n",
      "POS: AUX\n",
      "Head: VB\n",
      "Tag: MD\n",
      "Teg exp: verb, modal auxiliary\n",
      "Dependency: aux\n",
      "Explanation: auxiliary\n",
      "\n",
      "Text: look\n",
      "Lemma: look\n",
      "POS: VERB\n",
      "Head: VB\n",
      "Tag: VB\n",
      "Teg exp: verb, base form\n",
      "Dependency: ROOT\n",
      "Explanation: root\n",
      "\n"
     ]
    }
   ],
   "source": [
    "text = \"You should look\"\n",
    "doc = nlp(text)\n",
    "print_token_info(doc)"
   ]
  },
  {
   "cell_type": "code",
   "execution_count": 40,
   "id": "835a603e",
   "metadata": {},
   "outputs": [
    {
     "name": "stdout",
     "output_type": "stream",
     "text": [
      "Text: I\n",
      "Lemma: I\n",
      "POS: PRON\n",
      "Head: VB\n",
      "Tag: PRP\n",
      "Teg exp: pronoun, personal\n",
      "Dependency: nsubj\n",
      "Explanation: nominal subject\n",
      "\n",
      "Text: did\n",
      "Lemma: do\n",
      "POS: AUX\n",
      "Head: VB\n",
      "Tag: VBD\n",
      "Teg exp: verb, past tense\n",
      "Dependency: aux\n",
      "Explanation: auxiliary\n",
      "\n",
      "Text: n't\n",
      "Lemma: not\n",
      "POS: PART\n",
      "Head: VB\n",
      "Tag: RB\n",
      "Teg exp: adverb\n",
      "Dependency: neg\n",
      "Explanation: negation modifier\n",
      "\n",
      "Text: go\n",
      "Lemma: go\n",
      "POS: VERB\n",
      "Head: VB\n",
      "Tag: VB\n",
      "Teg exp: verb, base form\n",
      "Dependency: ROOT\n",
      "Explanation: root\n",
      "\n"
     ]
    }
   ],
   "source": [
    "text = \"I didn't go\"\n",
    "doc = nlp(text)\n",
    "print_token_info(doc)"
   ]
  },
  {
   "cell_type": "code",
   "execution_count": 39,
   "id": "db1d4c43",
   "metadata": {},
   "outputs": [
    {
     "name": "stdout",
     "output_type": "stream",
     "text": [
      "Text: I\n",
      "Lemma: I\n",
      "POS: PRON\n",
      "Head: VBD\n",
      "Tag: PRP\n",
      "Teg exp: pronoun, personal\n",
      "Dependency: nsubj\n",
      "Explanation: nominal subject\n",
      "\n",
      "Text: went\n",
      "Lemma: go\n",
      "POS: VERB\n",
      "Head: VBD\n",
      "Tag: VBD\n",
      "Teg exp: verb, past tense\n",
      "Dependency: ROOT\n",
      "Explanation: root\n",
      "\n"
     ]
    }
   ],
   "source": [
    "text = \"I went\"\n",
    "doc = nlp(text)\n",
    "print_token_info(doc)"
   ]
  },
  {
   "cell_type": "code",
   "execution_count": 36,
   "id": "f342593a",
   "metadata": {},
   "outputs": [
    {
     "name": "stdout",
     "output_type": "stream",
     "text": [
      "Text: I\n",
      "Lemma: I\n",
      "POS: PRON\n",
      "Head: VBG\n",
      "Tag: PRP\n",
      "Teg exp: pronoun, personal\n",
      "Dependency: nsubj\n",
      "Explanation: nominal subject\n",
      "\n",
      "Text: have\n",
      "Lemma: have\n",
      "POS: AUX\n",
      "Head: VBG\n",
      "Tag: VBP\n",
      "Teg exp: verb, non-3rd person singular present\n",
      "Dependency: aux\n",
      "Explanation: auxiliary\n",
      "\n",
      "Text: been\n",
      "Lemma: be\n",
      "POS: AUX\n",
      "Head: VBG\n",
      "Tag: VBN\n",
      "Teg exp: verb, past participle\n",
      "Dependency: aux\n",
      "Explanation: auxiliary\n",
      "\n",
      "Text: working\n",
      "Lemma: work\n",
      "POS: VERB\n",
      "Head: VBG\n",
      "Tag: VBG\n",
      "Teg exp: verb, gerund or present participle\n",
      "Dependency: ROOT\n",
      "Explanation: root\n",
      "\n"
     ]
    }
   ],
   "source": [
    "text = \"I have been working\"\n",
    "doc = nlp(text)\n",
    "print_token_info(doc)"
   ]
  },
  {
   "cell_type": "code",
   "execution_count": 35,
   "id": "65af67cd",
   "metadata": {},
   "outputs": [
    {
     "name": "stdout",
     "output_type": "stream",
     "text": [
      "Text: I\n",
      "Lemma: I\n",
      "POS: PRON\n",
      "Head: VBN\n",
      "Tag: PRP\n",
      "Teg exp: pronoun, personal\n",
      "Dependency: nsubj\n",
      "Explanation: nominal subject\n",
      "\n",
      "Text: have\n",
      "Lemma: have\n",
      "POS: AUX\n",
      "Head: VBN\n",
      "Tag: VBP\n",
      "Teg exp: verb, non-3rd person singular present\n",
      "Dependency: aux\n",
      "Explanation: auxiliary\n",
      "\n",
      "Text: arrived\n",
      "Lemma: arrive\n",
      "POS: VERB\n",
      "Head: VBN\n",
      "Tag: VBN\n",
      "Teg exp: verb, past participle\n",
      "Dependency: ROOT\n",
      "Explanation: root\n",
      "\n"
     ]
    }
   ],
   "source": [
    "text = \"I have arrived\"\n",
    "doc = nlp(text)\n",
    "print_token_info(doc)"
   ]
  },
  {
   "cell_type": "code",
   "execution_count": 34,
   "id": "a21010bf",
   "metadata": {},
   "outputs": [
    {
     "name": "stdout",
     "output_type": "stream",
     "text": [
      "Text: I\n",
      "Lemma: I\n",
      "POS: PRON\n",
      "Head: VBG\n",
      "Tag: PRP\n",
      "Teg exp: pronoun, personal\n",
      "Dependency: nsubj\n",
      "Explanation: nominal subject\n",
      "\n",
      "Text: should\n",
      "Lemma: should\n",
      "POS: AUX\n",
      "Head: VBG\n",
      "Tag: MD\n",
      "Teg exp: verb, modal auxiliary\n",
      "Dependency: aux\n",
      "Explanation: auxiliary\n",
      "\n",
      "Text: be\n",
      "Lemma: be\n",
      "POS: AUX\n",
      "Head: VBG\n",
      "Tag: VB\n",
      "Teg exp: verb, base form\n",
      "Dependency: aux\n",
      "Explanation: auxiliary\n",
      "\n",
      "Text: swimming\n",
      "Lemma: swim\n",
      "POS: VERB\n",
      "Head: VBG\n",
      "Tag: VBG\n",
      "Teg exp: verb, gerund or present participle\n",
      "Dependency: ROOT\n",
      "Explanation: root\n",
      "\n"
     ]
    }
   ],
   "source": [
    "text = \"I should be swimming\"\n",
    "doc = nlp(text)\n",
    "print_token_info(doc)"
   ]
  },
  {
   "cell_type": "code",
   "execution_count": 33,
   "id": "8a60b99b",
   "metadata": {},
   "outputs": [
    {
     "name": "stdout",
     "output_type": "stream",
     "text": [
      "Text: I\n",
      "Lemma: I\n",
      "POS: PRON\n",
      "Head: VBG\n",
      "Tag: PRP\n",
      "Teg exp: pronoun, personal\n",
      "Dependency: nsubj\n",
      "Explanation: nominal subject\n",
      "\n",
      "Text: have\n",
      "Lemma: have\n",
      "POS: AUX\n",
      "Head: VBG\n",
      "Tag: VBP\n",
      "Teg exp: verb, non-3rd person singular present\n",
      "Dependency: aux\n",
      "Explanation: auxiliary\n",
      "\n",
      "Text: been\n",
      "Lemma: be\n",
      "POS: AUX\n",
      "Head: VBG\n",
      "Tag: VBN\n",
      "Teg exp: verb, past participle\n",
      "Dependency: aux\n",
      "Explanation: auxiliary\n",
      "\n",
      "Text: swimming\n",
      "Lemma: swim\n",
      "POS: VERB\n",
      "Head: VBG\n",
      "Tag: VBG\n",
      "Teg exp: verb, gerund or present participle\n",
      "Dependency: ROOT\n",
      "Explanation: root\n",
      "\n"
     ]
    }
   ],
   "source": [
    "text = \"I have been swimming\"\n",
    "doc = nlp(text)\n",
    "print_token_info(doc)"
   ]
  },
  {
   "cell_type": "code",
   "execution_count": 30,
   "id": "e628a27e",
   "metadata": {},
   "outputs": [
    {
     "name": "stdout",
     "output_type": "stream",
     "text": [
      "Text: I\n",
      "POS: PRON\n",
      "Head: VBG\n",
      "Tag: PRP\n",
      "Teg exp: pronoun, personal\n",
      "Dependency: nsubj\n",
      "Explanation: nominal subject\n",
      "\n",
      "Text: am\n",
      "POS: AUX\n",
      "Head: VBG\n",
      "Tag: VBP\n",
      "Teg exp: verb, non-3rd person singular present\n",
      "Dependency: aux\n",
      "Explanation: auxiliary\n",
      "\n",
      "Text: swimming\n",
      "POS: VERB\n",
      "Head: VBG\n",
      "Tag: VBG\n",
      "Teg exp: verb, gerund or present participle\n",
      "Dependency: ROOT\n",
      "Explanation: root\n",
      "\n"
     ]
    }
   ],
   "source": [
    "text = \"I am swimming\"\n",
    "doc = nlp(text)\n",
    "print_token_info(doc)"
   ]
  },
  {
   "cell_type": "code",
   "execution_count": 29,
   "id": "ef6ecd1f",
   "metadata": {},
   "outputs": [
    {
     "name": "stdout",
     "output_type": "stream",
     "text": [
      "Text: She\n",
      "POS: PRON\n",
      "Head: VBG\n",
      "Tag: PRP\n",
      "Teg exp: pronoun, personal\n",
      "Dependency: nsubj\n",
      "Explanation: nominal subject\n",
      "\n",
      "Text: is\n",
      "POS: AUX\n",
      "Head: VBG\n",
      "Tag: VBZ\n",
      "Teg exp: verb, 3rd person singular present\n",
      "Dependency: aux\n",
      "Explanation: auxiliary\n",
      "\n",
      "Text: swimming\n",
      "POS: VERB\n",
      "Head: VBG\n",
      "Tag: VBG\n",
      "Teg exp: verb, gerund or present participle\n",
      "Dependency: ROOT\n",
      "Explanation: root\n",
      "\n"
     ]
    }
   ],
   "source": [
    "text = \"She is swimming\"\n",
    "doc = nlp(text)\n",
    "print_token_info(doc)"
   ]
  },
  {
   "cell_type": "code",
   "execution_count": 26,
   "id": "ed4c18f4",
   "metadata": {},
   "outputs": [
    {
     "name": "stdout",
     "output_type": "stream",
     "text": [
      "Text: is\n",
      "POS: AUX\n",
      "Head: VBN\n",
      "Tag: VBZ\n",
      "Teg exp: verb, 3rd person singular present\n",
      "Dependency: auxpass\n",
      "Explanation: auxiliary (passive)\n",
      "\n",
      "Text: made\n",
      "POS: VERB\n",
      "Head: VBN\n",
      "Tag: VBN\n",
      "Teg exp: verb, past participle\n",
      "Dependency: ROOT\n",
      "Explanation: root\n",
      "\n"
     ]
    }
   ],
   "source": [
    "text = \"It is made in Canada.\"\n",
    "doc = nlp(text)\n",
    "print_token_info(doc)"
   ]
  },
  {
   "cell_type": "code",
   "execution_count": 17,
   "id": "66064618",
   "metadata": {},
   "outputs": [
    {
     "name": "stdout",
     "output_type": "stream",
     "text": [
      "Text: run\n",
      "POS: VERB\n",
      "Head: VBP\n",
      "Tag: VBP\n",
      "Teg exp: verb, non-3rd person singular present\n",
      "Dependency: ROOT\n",
      "Explanation: root\n",
      "\n"
     ]
    }
   ],
   "source": [
    "text = \"I run every morning.\"\n",
    "doc = nlp(text)\n",
    "print_token_info(doc)"
   ]
  },
  {
   "cell_type": "code",
   "execution_count": 18,
   "id": "9dd421b7",
   "metadata": {},
   "outputs": [
    {
     "name": "stdout",
     "output_type": "stream",
     "text": [
      "Text: is\n",
      "POS: AUX\n",
      "Head: VBZ\n",
      "Tag: VBZ\n",
      "Teg exp: verb, 3rd person singular present\n",
      "Dependency: ROOT\n",
      "Explanation: root\n",
      "\n"
     ]
    }
   ],
   "source": [
    "text = \"Susan is a nurse.\"\n",
    "doc = nlp(text)\n",
    "print_token_info(doc)"
   ]
  },
  {
   "cell_type": "code",
   "execution_count": 19,
   "id": "b9fae239",
   "metadata": {},
   "outputs": [
    {
     "name": "stdout",
     "output_type": "stream",
     "text": [
      "Text: Have\n",
      "POS: AUX\n",
      "Head: VBN\n",
      "Tag: VBP\n",
      "Teg exp: verb, non-3rd person singular present\n",
      "Dependency: aux\n",
      "Explanation: auxiliary\n",
      "\n",
      "Text: been\n",
      "POS: AUX\n",
      "Head: VBN\n",
      "Tag: VBN\n",
      "Teg exp: verb, past participle\n",
      "Dependency: ROOT\n",
      "Explanation: root\n",
      "\n"
     ]
    }
   ],
   "source": [
    "text = \"Have you been to France?\"\n",
    "doc = nlp(text)\n",
    "print_token_info(doc)"
   ]
  },
  {
   "cell_type": "code",
   "execution_count": 20,
   "id": "5f48158e",
   "metadata": {},
   "outputs": [
    {
     "name": "stdout",
     "output_type": "stream",
     "text": [
      "Text: Do\n",
      "POS: AUX\n",
      "Head: VB\n",
      "Tag: VBP\n",
      "Teg exp: verb, non-3rd person singular present\n",
      "Dependency: aux\n",
      "Explanation: auxiliary\n",
      "\n",
      "Text: own\n",
      "POS: VERB\n",
      "Head: VB\n",
      "Tag: VB\n",
      "Teg exp: verb, base form\n",
      "Dependency: ROOT\n",
      "Explanation: root\n",
      "\n"
     ]
    }
   ],
   "source": [
    "text = \"Do you own a car?\"\n",
    "doc = nlp(text)\n",
    "print_token_info(doc)"
   ]
  },
  {
   "cell_type": "code",
   "execution_count": 22,
   "id": "09489b5b",
   "metadata": {},
   "outputs": [
    {
     "name": "stdout",
     "output_type": "stream",
     "text": [
      "Text: boil\n",
      "POS: VERB\n",
      "Head: VBD\n",
      "Tag: VBP\n",
      "Teg exp: verb, non-3rd person singular present\n",
      "Dependency: ccomp\n",
      "Explanation: clausal complement\n",
      "\n",
      "Text: put\n",
      "POS: VERB\n",
      "Head: VBD\n",
      "Tag: VBD\n",
      "Teg exp: verb, past tense\n",
      "Dependency: ROOT\n",
      "Explanation: root\n",
      "\n"
     ]
    }
   ],
   "source": [
    "text = \"First we boil the water, then we put some of the hot water at the top.\"\n",
    "doc = nlp(text)\n",
    "print_token_info(doc)"
   ]
  },
  {
   "cell_type": "code",
   "execution_count": 23,
   "id": "063b5a2a",
   "metadata": {},
   "outputs": [
    {
     "name": "stdout",
     "output_type": "stream",
     "text": [
      "Text: Pour\n",
      "POS: VERB\n",
      "Head: VB\n",
      "Tag: VB\n",
      "Teg exp: verb, base form\n",
      "Dependency: nsubj\n",
      "Explanation: nominal subject\n",
      "\n",
      "Text: donw\n",
      "POS: VERB\n",
      "Head: VB\n",
      "Tag: VB\n",
      "Teg exp: verb, base form\n",
      "Dependency: ROOT\n",
      "Explanation: root\n",
      "\n"
     ]
    }
   ],
   "source": [
    "text = \"Pour donw the hot again\"\n",
    "doc = nlp(text)\n",
    "print_token_info(doc)"
   ]
  },
  {
   "cell_type": "code",
   "execution_count": 25,
   "id": "3ff4583d",
   "metadata": {},
   "outputs": [
    {
     "name": "stdout",
     "output_type": "stream",
     "text": [
      "Text: Make\n",
      "POS: VERB\n",
      "Head: VB\n",
      "Tag: VB\n",
      "Teg exp: verb, base form\n",
      "Dependency: advcl\n",
      "Explanation: adverbial clause modifier\n",
      "\n",
      "Text: have\n",
      "POS: VERB\n",
      "Head: NN\n",
      "Tag: VBP\n",
      "Teg exp: verb, non-3rd person singular present\n",
      "Dependency: relcl\n",
      "Explanation: relative clause modifier\n",
      "\n",
      "Text: feel\n",
      "POS: VERB\n",
      "Head: VBP\n",
      "Tag: VB\n",
      "Teg exp: verb, base form\n",
      "Dependency: xcomp\n",
      "Explanation: open clausal complement\n",
      "\n",
      "Text: can\n",
      "POS: AUX\n",
      "Head: VB\n",
      "Tag: MD\n",
      "Teg exp: verb, modal auxiliary\n",
      "Dependency: aux\n",
      "Explanation: auxiliary\n",
      "\n",
      "Text: make\n",
      "POS: VERB\n",
      "Head: VB\n",
      "Tag: VB\n",
      "Teg exp: verb, base form\n",
      "Dependency: ROOT\n",
      "Explanation: root\n",
      "\n",
      "Text: start\n",
      "POS: VERB\n",
      "Head: VB\n",
      "Tag: VB\n",
      "Teg exp: verb, base form\n",
      "Dependency: ROOT\n",
      "Explanation: root\n",
      "\n",
      "Text: boiling\n",
      "POS: VERB\n",
      "Head: IN\n",
      "Tag: VBG\n",
      "Teg exp: verb, gerund or present participle\n",
      "Dependency: pcomp\n",
      "Explanation: complement of preposition\n",
      "\n",
      "Text: get\n",
      "POS: VERB\n",
      "Head: VBP\n",
      "Tag: VBP\n",
      "Teg exp: verb, non-3rd person singular present\n",
      "Dependency: ROOT\n",
      "Explanation: root\n",
      "\n",
      "Text: like\n",
      "POS: VERB\n",
      "Head: VB\n",
      "Tag: VBP\n",
      "Teg exp: verb, non-3rd person singular present\n",
      "Dependency: advcl\n",
      "Explanation: adverbial clause modifier\n",
      "\n",
      "Text: can\n",
      "POS: AUX\n",
      "Head: VB\n",
      "Tag: MD\n",
      "Teg exp: verb, modal auxiliary\n",
      "Dependency: aux\n",
      "Explanation: auxiliary\n",
      "\n",
      "Text: include\n",
      "POS: VERB\n",
      "Head: VBP\n",
      "Tag: VB\n",
      "Teg exp: verb, base form\n",
      "Dependency: conj\n",
      "Explanation: conjunct\n",
      "\n",
      "Text: Add\n",
      "POS: VERB\n",
      "Head: VB\n",
      "Tag: VB\n",
      "Teg exp: verb, base form\n",
      "Dependency: ROOT\n",
      "Explanation: root\n",
      "\n",
      "Text: will\n",
      "POS: AUX\n",
      "Head: VB\n",
      "Tag: MD\n",
      "Teg exp: verb, modal auxiliary\n",
      "Dependency: aux\n",
      "Explanation: auxiliary\n",
      "\n",
      "Text: have\n",
      "POS: VERB\n",
      "Head: VB\n",
      "Tag: VB\n",
      "Teg exp: verb, base form\n",
      "Dependency: conj\n",
      "Explanation: conjunct\n",
      "\n"
     ]
    }
   ],
   "source": [
    "text = \"How To Make a Nice Tea\\n\\n You have to feel it, soo you can make it. First, start with boiling some water. Second, get your cup and some sukar ready and if you like some other flavours you can include that too. Finally, Add the hot water with carfull in the cup and squeese you will have tea.\\n\\n\\nMy Regardsss.\"\n",
    "doc = nlp(text)\n",
    "print_token_info(doc)"
   ]
  },
  {
   "cell_type": "code",
   "execution_count": null,
   "id": "8ffe7801",
   "metadata": {},
   "outputs": [],
   "source": []
  }
 ],
 "metadata": {
  "kernelspec": {
   "display_name": "Python 3 (ipykernel)",
   "language": "python",
   "name": "python3"
  },
  "language_info": {
   "codemirror_mode": {
    "name": "ipython",
    "version": 3
   },
   "file_extension": ".py",
   "mimetype": "text/x-python",
   "name": "python",
   "nbconvert_exporter": "python",
   "pygments_lexer": "ipython3",
   "version": "3.11.5"
  }
 },
 "nbformat": 4,
 "nbformat_minor": 5
}
