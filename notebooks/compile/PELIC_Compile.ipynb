{
 "cells": [
  {
   "cell_type": "markdown",
   "id": "84fe5d15",
   "metadata": {},
   "source": [
    "# Compile the PELIC Dataset"
   ]
  },
  {
   "cell_type": "code",
   "execution_count": 1,
   "id": "585ab03f",
   "metadata": {},
   "outputs": [],
   "source": [
    "# import libraries\n",
    "import pandas as pd"
   ]
  },
  {
   "cell_type": "code",
   "execution_count": 2,
   "id": "1d0bfb49",
   "metadata": {},
   "outputs": [],
   "source": [
    "# Define file path\n",
    "path = '../data/PELIC-dataset/corpus_files/'\n",
    "# Read the data\n",
    "question = pd.read_csv(path + 'question.csv')\n",
    "answer = pd.read_csv(path + 'answer.csv')\n",
    "student_info = pd.read_csv(path + 'student_information.csv')\n",
    "course = pd.read_csv(path + 'course.csv')\n",
    "scores = pd.read_csv(path + 'test_scores.csv')"
   ]
  },
  {
   "cell_type": "code",
   "execution_count": 3,
   "id": "9c30bf2e",
   "metadata": {},
   "outputs": [],
   "source": [
    "# Merge the DataFrames on 'question_id' and 'anon_id'\n",
    "merged_df = pd.merge(answer, question, on='question_id', how='left')\n",
    "merged_df = pd.merge(merged_df, student_info, on='anon_id', how='left')\n",
    "merged_df = pd.merge(merged_df, course, on='course_id', how='left')\n",
    "merged_df = pd.merge(merged_df, scores, on='anon_id', how='left')"
   ]
  },
  {
   "cell_type": "code",
   "execution_count": 4,
   "id": "7f009b35",
   "metadata": {},
   "outputs": [],
   "source": [
    "# Rename some columns to maintain consistency with other data sets\n",
    "merged_df.rename(columns={'stem': 'question'}, inplace=True)\n",
    "merged_df.rename(columns={'text': 'answer'}, inplace=True)\n",
    "merged_df.rename(columns={'native_language': 'L1'}, inplace=True)\n",
    "merged_df.rename(columns={'level_id': 'level'}, inplace=True)"
   ]
  },
  {
   "cell_type": "code",
   "execution_count": 5,
   "id": "270e9fa1",
   "metadata": {},
   "outputs": [],
   "source": [
    "# Map the question types\n",
    "question_type_mapping = {\n",
    "    1: 'Paragraph writing',\n",
    "    2: 'Short answer',\n",
    "    3: 'Multiple choice',\n",
    "    4: 'Essay',\n",
    "    5: 'Fill-in-the-blank',\n",
    "    6: 'Sentence completion',\n",
    "    7: 'Word bank',\n",
    "    8: 'Chart',\n",
    "    9: 'Word selection',\n",
    "    10: 'Audio recording'\n",
    "}\n",
    "\n",
    "# Create the new 'question_type' column by mapping 'question_type_id' using the mapping dictionary\n",
    "merged_df['question_type'] = merged_df['question_type_id'].map(question_type_mapping)"
   ]
  },
  {
   "cell_type": "code",
   "execution_count": 6,
   "id": "7badf8da",
   "metadata": {},
   "outputs": [
    {
     "name": "stdout",
     "output_type": "stream",
     "text": [
      "<class 'pandas.core.frame.DataFrame'>\n",
      "RangeIndex: 47667 entries, 0 to 47666\n",
      "Data columns (total 47 columns):\n",
      " #   Column                      Non-Null Count  Dtype  \n",
      "---  ------                      --------------  -----  \n",
      " 0   answer_id                   47667 non-null  int64  \n",
      " 1   question_id                 47667 non-null  int64  \n",
      " 2   anon_id                     47667 non-null  object \n",
      " 3   course_id                   47667 non-null  int64  \n",
      " 4   version                     47667 non-null  int64  \n",
      " 5   created_date                47667 non-null  object \n",
      " 6   text_len                    47667 non-null  int64  \n",
      " 7   answer                      47664 non-null  object \n",
      " 8   tokens                      47667 non-null  object \n",
      " 9   tok_lem_POS                 47667 non-null  object \n",
      " 10  question_type_id            47538 non-null  float64\n",
      " 11  question                    47241 non-null  object \n",
      " 12  allow_text                  47538 non-null  float64\n",
      " 13  gender                      47667 non-null  object \n",
      " 14  birth_year                  38601 non-null  float64\n",
      " 15  L1                          47667 non-null  object \n",
      " 16  language_used_at_home       38590 non-null  object \n",
      " 17  non_native_language_1       37567 non-null  object \n",
      " 18  yrs_of_study_lang1          37688 non-null  object \n",
      " 19  study_in_classroom_lang1    37688 non-null  object \n",
      " 20  ways_of_study_lang1         37688 non-null  object \n",
      " 21  non_native_language_2       12746 non-null  object \n",
      " 22  yrs_of_study_lang2          12831 non-null  object \n",
      " 23  study_in_classroom_lang2    37688 non-null  object \n",
      " 24  ways_of_study_lang2         12831 non-null  object \n",
      " 25  non_native_language_3       1983 non-null   object \n",
      " 26  yrs_of_study_lang3          2377 non-null   object \n",
      " 27  study_in_classroom_lang3    37688 non-null  object \n",
      " 28  ways_of_study_lang3         2377 non-null   object \n",
      " 29  course_history              38601 non-null  object \n",
      " 30  yrs_of_english_learning     38547 non-null  object \n",
      " 31  yrs_in_english_environment  38547 non-null  object \n",
      " 32  age                         38601 non-null  float64\n",
      " 33  class_id                    47667 non-null  object \n",
      " 34  level                       47667 non-null  int64  \n",
      " 35  semester_x                  47667 non-null  object \n",
      " 36  section                     47667 non-null  object \n",
      " 37  semester_y                  45536 non-null  object \n",
      " 38  LCT_Form                    37741 non-null  float64\n",
      " 39  LCT_Score                   45610 non-null  float64\n",
      " 40  MTELP_Form                  35801 non-null  object \n",
      " 41  MTELP_I                     45610 non-null  float64\n",
      " 42  MTELP_II                    45610 non-null  float64\n",
      " 43  MTELP_III                   45610 non-null  float64\n",
      " 44  MTELP_Conv_Score            45610 non-null  float64\n",
      " 45  Writing_Sample              45610 non-null  float64\n",
      " 46  question_type               47538 non-null  object \n",
      "dtypes: float64(11), int64(6), object(30)\n",
      "memory usage: 17.1+ MB\n"
     ]
    }
   ],
   "source": [
    "# Look at the columns, their types, and which columns have null values\n",
    "merged_df.info()"
   ]
  },
  {
   "cell_type": "code",
   "execution_count": 7,
   "id": "97b72b8c",
   "metadata": {},
   "outputs": [],
   "source": [
    "merged_df.to_csv('../data/PELIC_compiled.csv')"
   ]
  }
 ],
 "metadata": {
  "kernelspec": {
   "display_name": "Python 3 (ipykernel)",
   "language": "python",
   "name": "python3"
  },
  "language_info": {
   "codemirror_mode": {
    "name": "ipython",
    "version": 3
   },
   "file_extension": ".py",
   "mimetype": "text/x-python",
   "name": "python",
   "nbconvert_exporter": "python",
   "pygments_lexer": "ipython3",
   "version": "3.11.5"
  }
 },
 "nbformat": 4,
 "nbformat_minor": 5
}
