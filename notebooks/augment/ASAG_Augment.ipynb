{
 "cells": [
  {
   "cell_type": "markdown",
   "id": "d5f20674",
   "metadata": {},
   "source": [
    "# Add the Augmented Data to the ASAG Dataset\n",
    "This notebook is for adding the augmented data to the ASAG dataset"
   ]
  },
  {
   "cell_type": "code",
   "execution_count": 1,
   "id": "cae25ac2",
   "metadata": {},
   "outputs": [],
   "source": [
    "# Import libraries\n",
    "import pandas as pd"
   ]
  },
  {
   "cell_type": "code",
   "execution_count": 2,
   "id": "528d650a",
   "metadata": {},
   "outputs": [],
   "source": [
    "# Read augmented data files into dataframes\n",
    "asag = pd.read_csv('../data/ASAG_cleaned.csv').drop(['Unnamed: 0'],axis=1)\n",
    "level_2 = pd.read_csv('../data/ASAG_level_2_augmented.csv').drop(['Unnamed: 0'],axis=1)\n",
    "level_5 = pd.read_csv('../data/ASAG_level_5_augmented.csv').drop(['Unnamed: 0'],axis=1)"
   ]
  },
  {
   "cell_type": "code",
   "execution_count": 3,
   "id": "0309635b",
   "metadata": {},
   "outputs": [],
   "source": [
    "# Add a column to the original ASAG dataframe to indicate that the answers in it\n",
    "# are the non-augmented ones\n",
    "asag['is_augmented'] = 0"
   ]
  },
  {
   "cell_type": "code",
   "execution_count": 4,
   "id": "de8c1438",
   "metadata": {},
   "outputs": [
    {
     "name": "stdout",
     "output_type": "stream",
     "text": [
      "<class 'pandas.core.frame.DataFrame'>\n",
      "RangeIndex: 268 entries, 0 to 267\n",
      "Data columns (total 20 columns):\n",
      " #   Column           Non-Null Count  Dtype  \n",
      "---  ------           --------------  -----  \n",
      " 0   file_name        268 non-null    object \n",
      " 1   age_participant  268 non-null    int64  \n",
      " 2   sex_participant  268 non-null    object \n",
      " 3   education        268 non-null    object \n",
      " 4   L1               268 non-null    object \n",
      " 5   sex_examiner1    268 non-null    object \n",
      " 6   sex_examiner2    268 non-null    object \n",
      " 7   sex_examiner3    268 non-null    object \n",
      " 8   setting          268 non-null    object \n",
      " 9   question         268 non-null    object \n",
      " 10  word_limit       268 non-null    object \n",
      " 11  level_course     268 non-null    int64  \n",
      " 12  answer           268 non-null    object \n",
      " 13  grade_examiner1  268 non-null    int64  \n",
      " 14  grade_examiner2  267 non-null    float64\n",
      " 15  grade_examiner3  268 non-null    int64  \n",
      " 16  level            268 non-null    int64  \n",
      " 17  question_type    268 non-null    object \n",
      " 18  dataset          268 non-null    object \n",
      " 19  is_augmented     268 non-null    int64  \n",
      "dtypes: float64(1), int64(6), object(13)\n",
      "memory usage: 42.0+ KB\n"
     ]
    }
   ],
   "source": [
    "asag.info()"
   ]
  },
  {
   "cell_type": "code",
   "execution_count": 5,
   "id": "c83aba72",
   "metadata": {},
   "outputs": [
    {
     "data": {
      "text/plain": [
       "level\n",
       "3    97\n",
       "4    67\n",
       "2    54\n",
       "5    28\n",
       "1    17\n",
       "6     5\n",
       "Name: count, dtype: int64"
      ]
     },
     "execution_count": 5,
     "metadata": {},
     "output_type": "execute_result"
    }
   ],
   "source": [
    "asag.level.value_counts()"
   ]
  },
  {
   "cell_type": "code",
   "execution_count": 6,
   "id": "6a875c78",
   "metadata": {},
   "outputs": [],
   "source": [
    "# Add a column to level 2 to indicate that the answers are augmented\n",
    "level_2['is_augmented'] = 1\n",
    "# Change the answer column to the augmented answer\n",
    "level_2['answer'] = level_2['augmented_answer']\n",
    "# Drop the augmented answer column\n",
    "level_2 = level_2.drop(['augmented_answer'],axis=1)\n",
    "# Choose only the first two augmented answers, since this is all we will need for balancing\n",
    "level_2 = level_2.loc[0:1]"
   ]
  },
  {
   "cell_type": "code",
   "execution_count": 7,
   "id": "0a647f18",
   "metadata": {},
   "outputs": [
    {
     "name": "stdout",
     "output_type": "stream",
     "text": [
      "<class 'pandas.core.frame.DataFrame'>\n",
      "RangeIndex: 2 entries, 0 to 1\n",
      "Data columns (total 20 columns):\n",
      " #   Column           Non-Null Count  Dtype  \n",
      "---  ------           --------------  -----  \n",
      " 0   file_name        2 non-null      object \n",
      " 1   age_participant  2 non-null      int64  \n",
      " 2   sex_participant  2 non-null      object \n",
      " 3   education        2 non-null      object \n",
      " 4   L1               2 non-null      object \n",
      " 5   sex_examiner1    2 non-null      object \n",
      " 6   sex_examiner2    2 non-null      object \n",
      " 7   sex_examiner3    2 non-null      object \n",
      " 8   setting          2 non-null      object \n",
      " 9   question         2 non-null      object \n",
      " 10  word_limit       2 non-null      object \n",
      " 11  level_course     2 non-null      int64  \n",
      " 12  answer           2 non-null      object \n",
      " 13  grade_examiner1  2 non-null      int64  \n",
      " 14  grade_examiner2  2 non-null      float64\n",
      " 15  grade_examiner3  2 non-null      int64  \n",
      " 16  level            2 non-null      int64  \n",
      " 17  question_type    2 non-null      object \n",
      " 18  dataset          2 non-null      object \n",
      " 19  is_augmented     2 non-null      int64  \n",
      "dtypes: float64(1), int64(6), object(13)\n",
      "memory usage: 452.0+ bytes\n"
     ]
    }
   ],
   "source": [
    "level_2.info()"
   ]
  },
  {
   "cell_type": "code",
   "execution_count": 8,
   "id": "8f8a8234",
   "metadata": {},
   "outputs": [
    {
     "data": {
      "text/plain": [
       "0    And that's why i always want you to know, i'm ...\n",
       "1    My mother is a big man. I have one sister and ...\n",
       "Name: answer, dtype: object"
      ]
     },
     "execution_count": 8,
     "metadata": {},
     "output_type": "execute_result"
    }
   ],
   "source": [
    "level_2.answer.head()"
   ]
  },
  {
   "cell_type": "code",
   "execution_count": 9,
   "id": "5471ef92",
   "metadata": {},
   "outputs": [],
   "source": [
    "# Add a column to level 5 to indicate that the answers are augmented\n",
    "level_5['is_augmented'] = 1\n",
    "# Move the augmented answers to the answer column\n",
    "level_5['answer'] = level_5['augmented_answer']\n",
    "# Drop the augmented answer column\n",
    "level_5 = level_5.drop(['augmented_answer'],axis=1)\n",
    "# We're keeping the whole dataframe here because we'll need it all for balancing"
   ]
  },
  {
   "cell_type": "code",
   "execution_count": 10,
   "id": "dc1696a1",
   "metadata": {},
   "outputs": [
    {
     "name": "stdout",
     "output_type": "stream",
     "text": [
      "<class 'pandas.core.frame.DataFrame'>\n",
      "RangeIndex: 28 entries, 0 to 27\n",
      "Data columns (total 20 columns):\n",
      " #   Column           Non-Null Count  Dtype  \n",
      "---  ------           --------------  -----  \n",
      " 0   file_name        28 non-null     object \n",
      " 1   age_participant  28 non-null     int64  \n",
      " 2   sex_participant  28 non-null     object \n",
      " 3   education        28 non-null     object \n",
      " 4   L1               28 non-null     object \n",
      " 5   sex_examiner1    28 non-null     object \n",
      " 6   sex_examiner2    28 non-null     object \n",
      " 7   sex_examiner3    28 non-null     object \n",
      " 8   setting          28 non-null     object \n",
      " 9   question         28 non-null     object \n",
      " 10  word_limit       28 non-null     object \n",
      " 11  level_course     28 non-null     int64  \n",
      " 12  answer           28 non-null     object \n",
      " 13  grade_examiner1  28 non-null     int64  \n",
      " 14  grade_examiner2  27 non-null     float64\n",
      " 15  grade_examiner3  28 non-null     int64  \n",
      " 16  level            28 non-null     int64  \n",
      " 17  question_type    28 non-null     object \n",
      " 18  dataset          28 non-null     object \n",
      " 19  is_augmented     28 non-null     int64  \n",
      "dtypes: float64(1), int64(6), object(13)\n",
      "memory usage: 4.5+ KB\n"
     ]
    }
   ],
   "source": [
    "level_5.info()"
   ]
  },
  {
   "cell_type": "code",
   "execution_count": 11,
   "id": "d7c4b296",
   "metadata": {},
   "outputs": [
    {
     "data": {
      "text/plain": [
       "0    I love this book because it is a story about c...\n",
       "1    I think that Japan's economy is recovering. I ...\n",
       "2    You need to think about your career. \\nSo, her...\n",
       "3    The researchers analysed a large number of soc...\n",
       "4    You may be online with people who are online w...\n",
       "Name: answer, dtype: object"
      ]
     },
     "execution_count": 11,
     "metadata": {},
     "output_type": "execute_result"
    }
   ],
   "source": [
    "level_5.answer.head()"
   ]
  },
  {
   "cell_type": "code",
   "execution_count": 12,
   "id": "ec8b71a3",
   "metadata": {},
   "outputs": [],
   "source": [
    "# Concatenate the three dataframes and reset the index\n",
    "df = pd.concat([asag,level_2,level_5]).reset_index(drop=True)"
   ]
  },
  {
   "cell_type": "code",
   "execution_count": 13,
   "id": "65b87734",
   "metadata": {},
   "outputs": [
    {
     "name": "stdout",
     "output_type": "stream",
     "text": [
      "<class 'pandas.core.frame.DataFrame'>\n",
      "RangeIndex: 298 entries, 0 to 297\n",
      "Data columns (total 20 columns):\n",
      " #   Column           Non-Null Count  Dtype  \n",
      "---  ------           --------------  -----  \n",
      " 0   file_name        298 non-null    object \n",
      " 1   age_participant  298 non-null    int64  \n",
      " 2   sex_participant  298 non-null    object \n",
      " 3   education        298 non-null    object \n",
      " 4   L1               298 non-null    object \n",
      " 5   sex_examiner1    298 non-null    object \n",
      " 6   sex_examiner2    298 non-null    object \n",
      " 7   sex_examiner3    298 non-null    object \n",
      " 8   setting          298 non-null    object \n",
      " 9   question         298 non-null    object \n",
      " 10  word_limit       298 non-null    object \n",
      " 11  level_course     298 non-null    int64  \n",
      " 12  answer           298 non-null    object \n",
      " 13  grade_examiner1  298 non-null    int64  \n",
      " 14  grade_examiner2  296 non-null    float64\n",
      " 15  grade_examiner3  298 non-null    int64  \n",
      " 16  level            298 non-null    int64  \n",
      " 17  question_type    298 non-null    object \n",
      " 18  dataset          298 non-null    object \n",
      " 19  is_augmented     298 non-null    int64  \n",
      "dtypes: float64(1), int64(6), object(13)\n",
      "memory usage: 46.7+ KB\n"
     ]
    }
   ],
   "source": [
    "df.info()"
   ]
  },
  {
   "cell_type": "code",
   "execution_count": 14,
   "id": "5b8c58b9",
   "metadata": {},
   "outputs": [
    {
     "data": {
      "text/plain": [
       "level\n",
       "3    97\n",
       "4    67\n",
       "2    56\n",
       "5    56\n",
       "1    17\n",
       "6     5\n",
       "Name: count, dtype: int64"
      ]
     },
     "execution_count": 14,
     "metadata": {},
     "output_type": "execute_result"
    }
   ],
   "source": [
    "df.level.value_counts()"
   ]
  },
  {
   "cell_type": "code",
   "execution_count": 15,
   "id": "d3cf9ffe",
   "metadata": {},
   "outputs": [],
   "source": [
    "df.to_csv('../data/ASAG_augmented.csv')"
   ]
  }
 ],
 "metadata": {
  "kernelspec": {
   "display_name": "Python 3 (ipykernel)",
   "language": "python",
   "name": "python3"
  },
  "language_info": {
   "codemirror_mode": {
    "name": "ipython",
    "version": 3
   },
   "file_extension": ".py",
   "mimetype": "text/x-python",
   "name": "python",
   "nbconvert_exporter": "python",
   "pygments_lexer": "ipython3",
   "version": "3.11.5"
  }
 },
 "nbformat": 4,
 "nbformat_minor": 5
}
