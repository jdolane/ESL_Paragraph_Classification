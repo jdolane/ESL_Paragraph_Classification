{
 "cells": [
  {
   "cell_type": "markdown",
   "id": "aead0d06",
   "metadata": {},
   "source": [
    "# Augment the PELIC Dataset"
   ]
  },
  {
   "cell_type": "markdown",
   "id": "14a0f8ae",
   "metadata": {},
   "source": [
    "In this notebook, the augmented PELIC dataset is merged with the PELIC dataset."
   ]
  },
  {
   "cell_type": "code",
   "execution_count": 44,
   "id": "5cee1ccc",
   "metadata": {},
   "outputs": [],
   "source": [
    "import pandas as pd\n",
    "import matplotlib.pyplot as plt\n",
    "import seaborn as sns"
   ]
  },
  {
   "cell_type": "code",
   "execution_count": 35,
   "id": "f8749aa7",
   "metadata": {},
   "outputs": [],
   "source": [
    "pelic = pd.read_csv('../data/PELIC_cleaned.csv').drop(['Unnamed: 0'],axis=1)\n",
    "augmented = pd.read_csv('../data/PELIC_augmented_answers.csv').drop(['Unnamed: 0'],axis=1)"
   ]
  },
  {
   "cell_type": "code",
   "execution_count": 36,
   "id": "1c38eeb9",
   "metadata": {},
   "outputs": [],
   "source": [
    "pelic['is_augmented'] = 0"
   ]
  },
  {
   "cell_type": "code",
   "execution_count": 37,
   "id": "4922a69c",
   "metadata": {},
   "outputs": [
    {
     "name": "stdout",
     "output_type": "stream",
     "text": [
      "<class 'pandas.core.frame.DataFrame'>\n",
      "RangeIndex: 31099 entries, 0 to 31098\n",
      "Data columns (total 19 columns):\n",
      " #   Column            Non-Null Count  Dtype  \n",
      "---  ------            --------------  -----  \n",
      " 0   answer_id         31099 non-null  int64  \n",
      " 1   question_id       31099 non-null  int64  \n",
      " 2   anon_id           31099 non-null  object \n",
      " 3   course_id         31099 non-null  int64  \n",
      " 4   created_date      31099 non-null  object \n",
      " 5   text_len          31099 non-null  int64  \n",
      " 6   answer            31099 non-null  object \n",
      " 7   tokens            31099 non-null  object \n",
      " 8   tok_lem_POS       31099 non-null  object \n",
      " 9   question_type_id  31099 non-null  float64\n",
      " 10  question          31099 non-null  object \n",
      " 11  allow_text        31099 non-null  float64\n",
      " 12  gender            31099 non-null  object \n",
      " 13  L1                31099 non-null  object \n",
      " 14  class_id          31099 non-null  object \n",
      " 15  level             31099 non-null  int64  \n",
      " 16  question_type     31099 non-null  object \n",
      " 17  dataset           31099 non-null  object \n",
      " 18  is_augmented      31099 non-null  int64  \n",
      "dtypes: float64(2), int64(6), object(11)\n",
      "memory usage: 4.5+ MB\n"
     ]
    }
   ],
   "source": [
    "pelic.info()"
   ]
  },
  {
   "cell_type": "code",
   "execution_count": 38,
   "id": "21672bb1",
   "metadata": {},
   "outputs": [
    {
     "name": "stdout",
     "output_type": "stream",
     "text": [
      "<class 'pandas.core.frame.DataFrame'>\n",
      "RangeIndex: 849 entries, 0 to 848\n",
      "Data columns (total 19 columns):\n",
      " #   Column            Non-Null Count  Dtype  \n",
      "---  ------            --------------  -----  \n",
      " 0   answer_id         849 non-null    int64  \n",
      " 1   question_id       849 non-null    int64  \n",
      " 2   anon_id           849 non-null    object \n",
      " 3   course_id         849 non-null    int64  \n",
      " 4   created_date      849 non-null    object \n",
      " 5   text_len          849 non-null    int64  \n",
      " 6   answer            832 non-null    object \n",
      " 7   tokens            849 non-null    object \n",
      " 8   tok_lem_POS       849 non-null    object \n",
      " 9   question_type_id  849 non-null    float64\n",
      " 10  question          849 non-null    object \n",
      " 11  allow_text        849 non-null    float64\n",
      " 12  gender            849 non-null    object \n",
      " 13  L1                849 non-null    object \n",
      " 14  class_id          849 non-null    object \n",
      " 15  level             849 non-null    int64  \n",
      " 16  question_type     849 non-null    object \n",
      " 17  dataset           849 non-null    object \n",
      " 18  is_augmented      849 non-null    int64  \n",
      "dtypes: float64(2), int64(6), object(11)\n",
      "memory usage: 126.2+ KB\n"
     ]
    }
   ],
   "source": [
    "augmented.info()"
   ]
  },
  {
   "cell_type": "code",
   "execution_count": 39,
   "id": "7288255a",
   "metadata": {},
   "outputs": [],
   "source": [
    "df = pd.concat([pelic,augmented])"
   ]
  },
  {
   "cell_type": "code",
   "execution_count": 40,
   "id": "e761b1fa",
   "metadata": {},
   "outputs": [
    {
     "name": "stdout",
     "output_type": "stream",
     "text": [
      "<class 'pandas.core.frame.DataFrame'>\n",
      "Index: 31948 entries, 0 to 848\n",
      "Data columns (total 19 columns):\n",
      " #   Column            Non-Null Count  Dtype  \n",
      "---  ------            --------------  -----  \n",
      " 0   answer_id         31948 non-null  int64  \n",
      " 1   question_id       31948 non-null  int64  \n",
      " 2   anon_id           31948 non-null  object \n",
      " 3   course_id         31948 non-null  int64  \n",
      " 4   created_date      31948 non-null  object \n",
      " 5   text_len          31948 non-null  int64  \n",
      " 6   answer            31931 non-null  object \n",
      " 7   tokens            31948 non-null  object \n",
      " 8   tok_lem_POS       31948 non-null  object \n",
      " 9   question_type_id  31948 non-null  float64\n",
      " 10  question          31948 non-null  object \n",
      " 11  allow_text        31948 non-null  float64\n",
      " 12  gender            31948 non-null  object \n",
      " 13  L1                31948 non-null  object \n",
      " 14  class_id          31948 non-null  object \n",
      " 15  level             31948 non-null  int64  \n",
      " 16  question_type     31948 non-null  object \n",
      " 17  dataset           31948 non-null  object \n",
      " 18  is_augmented      31948 non-null  int64  \n",
      "dtypes: float64(2), int64(6), object(11)\n",
      "memory usage: 4.9+ MB\n"
     ]
    }
   ],
   "source": [
    "df.info()"
   ]
  },
  {
   "cell_type": "code",
   "execution_count": 45,
   "id": "a539852e",
   "metadata": {
    "scrolled": true
   },
   "outputs": [
    {
     "data": {
      "image/png": "[encoded data removed]",
      "text/plain": [
       "<Figure size 1000x600 with 1 Axes>"
      ]
     },
     "metadata": {},
     "output_type": "display_data"
    }
   ],
   "source": [
    "# Create a count plot\n",
    "plt.figure(figsize=(10, 6))\n",
    "sns.countplot(data=df, x='level', hue='is_augmented')\n",
    "\n",
    "# Add labels and title\n",
    "plt.xlabel('Level')\n",
    "plt.ylabel('Count')\n",
    "plt.title('Count of Augmented Rows by Level')\n",
    "\n",
    "# Display the plot\n",
    "plt.show()"
   ]
  },
  {
   "cell_type": "code",
   "execution_count": 46,
   "id": "d72ed092",
   "metadata": {},
   "outputs": [],
   "source": [
    "df.to_csv('../data/PELIC_augmented.csv')"
   ]
  },
  {
   "cell_type": "code",
   "execution_count": 51,
   "id": "4e2525b4",
   "metadata": {},
   "outputs": [
    {
     "name": "stdout",
     "output_type": "stream",
     "text": [
      "I met my friend Nife while I was studying in a middle school. I was happy when I met him because he was a good student in our school. We continued the middle and high school to gather in the same school. We were studying in the different classes in the middle school; however, in the high school we were studying in the same class. We went to many places in the free time while we were studying in the high school. When we finished from the high school, I went to K.S University and he went to I.M University. While we were enjoying in academic life, we made many achievement in these universities. I graduated when Nife was studying in the last semester in the university. After that, I got a job. Fortunately, it was nearby my home. I worked two years then I got scholarship from ministry of high education in my country. When I came here to U.S, my friend Nife arrange some documents to study at grad school in Malaysia.\n",
      "\n",
      "\n",
      "I think it's a good case.\n"
     ]
    }
   ],
   "source": [
    "print(df[df['is_augmented'] == 0].answer[0])\n",
    "print('\\n')\n",
    "print(df[df['is_augmented'] == 1].answer[0])"
   ]
  },
  {
   "cell_type": "code",
   "execution_count": 52,
   "id": "6a6d92c3",
   "metadata": {},
   "outputs": [
    {
     "name": "stdout",
     "output_type": "stream",
     "text": [
      "Ten years ago, I met a women on the train between the way was going to school,she was sitting next me.That day for school opened; She had a long back hair,a tan skin and a big brow eyes. I thought, she was so beautiful, and one thing as important she wear uniform similar me. When she took off the train,she said good bye with me. I feel better for first day of school. I was sitting until the last train stop it was near my school.I was finding the class when I met the women agin in that room. I saw the number of the room that was same me. While I was introducing my self to the women,, the teacher came in. Since we were the best friends until finished university.\n",
      "\n",
      "\n",
      "Police say the car is registered to the owner, but have not confirmed its identity.\n"
     ]
    }
   ],
   "source": [
    "print(df[df['is_augmented'] == 0].answer[1])\n",
    "print('\\n')\n",
    "print(df[df['is_augmented'] == 1].answer[1])"
   ]
  },
  {
   "cell_type": "code",
   "execution_count": 53,
   "id": "83344826",
   "metadata": {},
   "outputs": [
    {
     "name": "stdout",
     "output_type": "stream",
     "text": [
      "In my country we usually don't use tea bags. First we boil the water,then we put some of the hot water at the top.We add the tea at the top. We wait like 20 minutes with low heat for it to be ready.At last, we first poor the water with tea,then we add some pure hot water in it.\n",
      "\n",
      "\n",
      "It's my home.  I've got my business card.\n"
     ]
    }
   ],
   "source": [
    "print(df[df['is_augmented'] == 0].answer[2])\n",
    "print('\\n')\n",
    "print(df[df['is_augmented'] == 1].answer[2])"
   ]
  },
  {
   "cell_type": "code",
   "execution_count": 54,
   "id": "a8b365c9",
   "metadata": {},
   "outputs": [
    {
     "name": "stdout",
     "output_type": "stream",
     "text": [
      "I organized the instructions by time.\n",
      "\n",
      "\n",
      "Q: I've read that you've been very vocal about this, in the past, that you don't feel that it's really that bad.\n"
     ]
    }
   ],
   "source": [
    "print(df[df['is_augmented'] == 0].answer[3])\n",
    "print('\\n')\n",
    "print(df[df['is_augmented'] == 1].answer[3])"
   ]
  },
  {
   "cell_type": "code",
   "execution_count": 55,
   "id": "7ca20148",
   "metadata": {},
   "outputs": [
    {
     "name": "stdout",
     "output_type": "stream",
     "text": [
      "First, prepare a port, loose tea, and cup.\n",
      "Second, boil water in the port.\n",
      "Third, put loose tea in the cup.\n",
      "Fourth, pour water into the cup.\n",
      "Finally, after waiting for a few minutes, drink the tea. Loose tea won't float on the surface of the tea, so you don't have to pick the loose tea up.\n",
      "\n",
      "\n",
      "I have a dream that I want to be a doctor.  \n",
      "I have a dream that I want to be a politician.  \n",
      "I have a dream that I want to be a journalist.  \n",
      "I have a dream that I want to be a lawyer.\n"
     ]
    }
   ],
   "source": [
    "print(df[df['is_augmented'] == 0].answer[4])\n",
    "print('\\n')\n",
    "print(df[df['is_augmented'] == 1].answer[4])"
   ]
  },
  {
   "cell_type": "code",
   "execution_count": 56,
   "id": "c0d9d2f9",
   "metadata": {},
   "outputs": [
    {
     "name": "stdout",
     "output_type": "stream",
     "text": [
      "First, prepare your cup, loose tea or bag tea, and a port.\n",
      "Second, boil water.\n",
      "Third, put the loose tea or bag tea to your cup.\n",
      "Fourth, pour the water into the cup.\n",
      "And you can drink your tea.\n",
      "\n",
      "\n",
      "I have my own way of doing it.  \n",
      "\n",
      "But I am a man.\n"
     ]
    }
   ],
   "source": [
    "print(df[df['is_augmented'] == 0].answer[5])\n",
    "print('\\n')\n",
    "print(df[df['is_augmented'] == 1].answer[5])"
   ]
  },
  {
   "cell_type": "code",
   "execution_count": 57,
   "id": "60ce30b9",
   "metadata": {},
   "outputs": [
    {
     "name": "stdout",
     "output_type": "stream",
     "text": [
      "I organized the instructions by time, beacause to make tea people who want to make tea have to follow the instructions step by step. If they do the instructions randomly, they will not make tea.\n",
      "\n",
      "\n",
      "I am a writer who has been working as a journalist for about 20 years.  I have written several novels, two short stories and one short story.\n"
     ]
    }
   ],
   "source": [
    "print(df[df['is_augmented'] == 0].answer[6])\n",
    "print('\\n')\n",
    "print(df[df['is_augmented'] == 1].answer[6])"
   ]
  },
  {
   "cell_type": "code",
   "execution_count": null,
   "id": "17111704",
   "metadata": {},
   "outputs": [],
   "source": []
  }
 ],
 "metadata": {
  "kernelspec": {
   "display_name": "Python 3 (ipykernel)",
   "language": "python",
   "name": "python3"
  },
  "language_info": {
   "codemirror_mode": {
    "name": "ipython",
    "version": 3
   },
   "file_extension": ".py",
   "mimetype": "text/x-python",
   "name": "python",
   "nbconvert_exporter": "python",
   "pygments_lexer": "ipython3",
   "version": "3.11.5"
  }
 },
 "nbformat": 4,
 "nbformat_minor": 5
}
