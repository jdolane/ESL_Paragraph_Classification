{
 "cells": [
  {
   "cell_type": "markdown",
   "id": "5787106e",
   "metadata": {},
   "source": [
    "# Compile and clean the ASAG dataset\n",
    "This notebook is to compile and clean the ASAG dataset."
   ]
  },
  {
   "cell_type": "code",
   "execution_count": 1,
   "id": "b0274e7f",
   "metadata": {},
   "outputs": [],
   "source": [
    "# Import libraries\n",
    "import pandas as pd\n",
    "from bs4 import BeautifulSoup as bs\n",
    "import os\n",
    "import spacy"
   ]
  },
  {
   "cell_type": "code",
   "execution_count": 2,
   "id": "a57022f9",
   "metadata": {},
   "outputs": [],
   "source": [
    "path = '../data/cefr-asag-dataset-1.0.1/corpus/release-1.0/labelled/'"
   ]
  },
  {
   "cell_type": "code",
   "execution_count": 3,
   "id": "3ecb73e9",
   "metadata": {},
   "outputs": [],
   "source": [
    "nlp = spacy.load(\"en_core_web_sm\")"
   ]
  },
  {
   "cell_type": "code",
   "execution_count": 4,
   "id": "b731bd19",
   "metadata": {},
   "outputs": [],
   "source": [
    "# Create a function that reads the CEFR data from the XML files into a Pandas DataFrame\n",
    "def create_cefr_df(path):\n",
    "    '''\n",
    "    This function reads the CEFR data\n",
    "    from XML files in the directory\n",
    "    to a Pandas DataFrame\n",
    "    '''\n",
    "\n",
    "    # Define DataFrame columns\n",
    "    df_columns = ['file_name', 'age_participant','sex_participant', 'education', 'L1', 'sex_examiner1', 'sex_examiner2', 'sex_examiner3', 'setting', 'question', 'word_limit', 'level', 'answer', 'grade_examiner1', 'grade_examiner2', 'grade_examiner3', 'grade_majority_vote']\n",
    "\n",
    "    # Create an empty list to store dictionaries\n",
    "    all_data = []\n",
    "\n",
    "    # Loop through XML files in the directory\n",
    "    for filename in os.listdir(path):\n",
    "        if filename.endswith('.xml'):\n",
    "            file_path = os.path.join(path, filename)\n",
    "\n",
    "            # Read XML file\n",
    "            with open(file_path, 'r') as file:\n",
    "                contents = file.read()\n",
    "\n",
    "            # Parse XML\n",
    "            soup = bs(contents, 'xml')\n",
    "\n",
    "            # Extract data from XML\n",
    "            age_participant = soup.find('person', {'role': 'participant'})\n",
    "            sex_participant = age_participant.get('sex') if age_participant else None\n",
    "            age_participant = age_participant.get('age') if age_participant else None\n",
    "            education = soup.find('education').get('type') if soup.find('education') else None\n",
    "            L1 = soup.find('langKnown').get('tag') if soup.find('langKnown') else None\n",
    "            sex_examiner1 = soup.find('person', {'xml:id': 'examiner.1'}).get('sex') if soup.find('person', {'xml:id': 'examiner.1'}) else None\n",
    "            sex_examiner2 = soup.find('person', {'xml:id': 'examiner.2'}).get('sex') if soup.find('person', {'xml:id': 'examiner.2'}) else None\n",
    "            sex_examiner3 = soup.find('person', {'xml:id': 'examiner.3'}).get('sex') if soup.find('person', {'xml:id': 'examiner.3'}) else None\n",
    "            setting = soup.find('settingDesc').find('p').text if soup.find('settingDesc') else None\n",
    "            question = soup.find('div', {'type': 'question'}).find('p').text if soup.find('div', {'type': 'question'}) else None\n",
    "            word_limit = soup.find('note', {'type': 'word-limit'}).text if soup.find('note', {'type': 'word-limit'}) else None\n",
    "            level = soup.find('label', {'type': 'level'}).find('span').text if soup.find('label', {'type': 'level'}) else None\n",
    "            answer = soup.find('div', {'type': 'answer'}).find('p').text if soup.find('div', {'type': 'answer'}) else None\n",
    "            grade_examiner1 = soup.find('label', {'corresp': '#examiner.1'}).find('span').text if soup.find('label', {'corresp': '#examiner.1'}) else None\n",
    "            grade_examiner2 = soup.find('label', {'corresp': '#examiner.2'}).find('span').text if soup.find('label', {'corresp': '#examiner.2'}) else None\n",
    "            grade_examiner3 = soup.find('label', {'corresp': '#examiner.3'}).find('span').text if soup.find('label', {'corresp': '#examiner.3'}) else None\n",
    "            grade_majority_vote = soup.find('label', {'subtype': 'majority-vote'}).find('span').text if soup.find('label', {'subtype': 'majority-vote'}) else None\n",
    "\n",
    "            # Append data to list as a dictionary\n",
    "            all_data.append({\n",
    "                'file_name': filename,\n",
    "                'age_participant': age_participant,\n",
    "                'sex_participant': sex_participant,\n",
    "                'education': education,\n",
    "                'L1': L1,\n",
    "                'sex_examiner1': sex_examiner1,\n",
    "                'sex_examiner2': sex_examiner2,\n",
    "                'sex_examiner3': sex_examiner3,\n",
    "                'setting': setting,\n",
    "                'question': question,\n",
    "                'word_limit': word_limit,\n",
    "                'level': level,\n",
    "                'answer': answer,\n",
    "                'grade_examiner1': grade_examiner1,\n",
    "                'grade_examiner2': grade_examiner2,\n",
    "                'grade_examiner3': grade_examiner3,\n",
    "                'grade_majority_vote': grade_majority_vote\n",
    "            })\n",
    "\n",
    "    # Create DataFrame from the list of dictionaries\n",
    "    df_all = pd.DataFrame(all_data)\n",
    "\n",
    "    return df_all"
   ]
  },
  {
   "cell_type": "code",
   "execution_count": 5,
   "id": "111d3510",
   "metadata": {},
   "outputs": [
    {
     "data": {
      "text/html": [
       "<div>\n",
       "<style scoped>\n",
       "    .dataframe tbody tr th:only-of-type {\n",
       "        vertical-align: middle;\n",
       "    }\n",
       "\n",
       "    .dataframe tbody tr th {\n",
       "        vertical-align: top;\n",
       "    }\n",
       "\n",
       "    .dataframe thead th {\n",
       "        text-align: right;\n",
       "    }\n",
       "</style>\n",
       "<table border=\"1\" class=\"dataframe\">\n",
       "  <thead>\n",
       "    <tr style=\"text-align: right;\">\n",
       "      <th></th>\n",
       "      <th>file_name</th>\n",
       "      <th>age_participant</th>\n",
       "      <th>sex_participant</th>\n",
       "      <th>education</th>\n",
       "      <th>L1</th>\n",
       "      <th>sex_examiner1</th>\n",
       "      <th>sex_examiner2</th>\n",
       "      <th>sex_examiner3</th>\n",
       "      <th>setting</th>\n",
       "      <th>question</th>\n",
       "      <th>word_limit</th>\n",
       "      <th>level</th>\n",
       "      <th>answer</th>\n",
       "      <th>grade_examiner1</th>\n",
       "      <th>grade_examiner2</th>\n",
       "      <th>grade_examiner3</th>\n",
       "      <th>grade_majority_vote</th>\n",
       "    </tr>\n",
       "  </thead>\n",
       "  <tbody>\n",
       "    <tr>\n",
       "      <th>0</th>\n",
       "      <td>0001.xml</td>\n",
       "      <td>18</td>\n",
       "      <td>M</td>\n",
       "      <td>higher-secondary</td>\n",
       "      <td>fr</td>\n",
       "      <td>F</td>\n",
       "      <td>F</td>\n",
       "      <td>F</td>\n",
       "      <td>collected in a university-level language learn...</td>\n",
       "      <td>What are your daily habits? What time do you g...</td>\n",
       "      <td>(at least 30 words)</td>\n",
       "      <td>A1</td>\n",
       "      <td>everyday i get up at 8 a clock. I always turn ...</td>\n",
       "      <td>A1</td>\n",
       "      <td>A2</td>\n",
       "      <td>A2</td>\n",
       "      <td>A2</td>\n",
       "    </tr>\n",
       "    <tr>\n",
       "      <th>1</th>\n",
       "      <td>0002.xml</td>\n",
       "      <td>19</td>\n",
       "      <td>F</td>\n",
       "      <td>higher-secondary</td>\n",
       "      <td>fr</td>\n",
       "      <td>F</td>\n",
       "      <td>F</td>\n",
       "      <td>F</td>\n",
       "      <td>collected in a university-level language learn...</td>\n",
       "      <td>Describe your family.</td>\n",
       "      <td>(at least 30 words)</td>\n",
       "      <td>A1</td>\n",
       "      <td>My family is very small. I have a big borther....</td>\n",
       "      <td>A1</td>\n",
       "      <td>A1</td>\n",
       "      <td>A1</td>\n",
       "      <td>A1</td>\n",
       "    </tr>\n",
       "    <tr>\n",
       "      <th>2</th>\n",
       "      <td>0003.xml</td>\n",
       "      <td>22</td>\n",
       "      <td>F</td>\n",
       "      <td>lower-secondary</td>\n",
       "      <td>fr</td>\n",
       "      <td>F</td>\n",
       "      <td>F</td>\n",
       "      <td>F</td>\n",
       "      <td>collected in a university-level language learn...</td>\n",
       "      <td>Describe your family.</td>\n",
       "      <td>(at least 30 words)</td>\n",
       "      <td>A1</td>\n",
       "      <td>My name is {name}</td>\n",
       "      <td>A1</td>\n",
       "      <td>A1</td>\n",
       "      <td>A1</td>\n",
       "      <td>A1</td>\n",
       "    </tr>\n",
       "    <tr>\n",
       "      <th>3</th>\n",
       "      <td>0004.xml</td>\n",
       "      <td>21</td>\n",
       "      <td>F</td>\n",
       "      <td>higher-secondary</td>\n",
       "      <td>fr</td>\n",
       "      <td>F</td>\n",
       "      <td>F</td>\n",
       "      <td>F</td>\n",
       "      <td>collected in a university-level language learn...</td>\n",
       "      <td>Describe your hobbies.</td>\n",
       "      <td>(at least 30 words)</td>\n",
       "      <td>A1</td>\n",
       "      <td>Hi my name is {name},</td>\n",
       "      <td>A2</td>\n",
       "      <td>A2</td>\n",
       "      <td>A2</td>\n",
       "      <td>A2</td>\n",
       "    </tr>\n",
       "    <tr>\n",
       "      <th>4</th>\n",
       "      <td>0005.xml</td>\n",
       "      <td>18</td>\n",
       "      <td>F</td>\n",
       "      <td>higher-secondary</td>\n",
       "      <td>fr</td>\n",
       "      <td>F</td>\n",
       "      <td>F</td>\n",
       "      <td>F</td>\n",
       "      <td>collected in a university-level language learn...</td>\n",
       "      <td>Describe your family.</td>\n",
       "      <td>(at least 30 words)</td>\n",
       "      <td>A1</td>\n",
       "      <td>I have one sister, she is married and she has ...</td>\n",
       "      <td>A2</td>\n",
       "      <td>A1</td>\n",
       "      <td>A2</td>\n",
       "      <td>A2</td>\n",
       "    </tr>\n",
       "  </tbody>\n",
       "</table>\n",
       "</div>"
      ],
      "text/plain": [
       "  file_name age_participant sex_participant         education  L1  \\\n",
       "0  0001.xml              18               M  higher-secondary  fr   \n",
       "1  0002.xml              19               F  higher-secondary  fr   \n",
       "2  0003.xml              22               F   lower-secondary  fr   \n",
       "3  0004.xml              21               F  higher-secondary  fr   \n",
       "4  0005.xml              18               F  higher-secondary  fr   \n",
       "\n",
       "  sex_examiner1 sex_examiner2 sex_examiner3  \\\n",
       "0             F             F             F   \n",
       "1             F             F             F   \n",
       "2             F             F             F   \n",
       "3             F             F             F   \n",
       "4             F             F             F   \n",
       "\n",
       "                                             setting  \\\n",
       "0  collected in a university-level language learn...   \n",
       "1  collected in a university-level language learn...   \n",
       "2  collected in a university-level language learn...   \n",
       "3  collected in a university-level language learn...   \n",
       "4  collected in a university-level language learn...   \n",
       "\n",
       "                                            question           word_limit  \\\n",
       "0  What are your daily habits? What time do you g...  (at least 30 words)   \n",
       "1                              Describe your family.  (at least 30 words)   \n",
       "2                              Describe your family.  (at least 30 words)   \n",
       "3                             Describe your hobbies.  (at least 30 words)   \n",
       "4                              Describe your family.  (at least 30 words)   \n",
       "\n",
       "  level                                             answer grade_examiner1  \\\n",
       "0    A1  everyday i get up at 8 a clock. I always turn ...              A1   \n",
       "1    A1  My family is very small. I have a big borther....              A1   \n",
       "2    A1                                  My name is {name}              A1   \n",
       "3    A1                              Hi my name is {name},              A2   \n",
       "4    A1  I have one sister, she is married and she has ...              A2   \n",
       "\n",
       "  grade_examiner2 grade_examiner3 grade_majority_vote  \n",
       "0              A2              A2                  A2  \n",
       "1              A1              A1                  A1  \n",
       "2              A1              A1                  A1  \n",
       "3              A2              A2                  A2  \n",
       "4              A1              A2                  A2  "
      ]
     },
     "execution_count": 5,
     "metadata": {},
     "output_type": "execute_result"
    }
   ],
   "source": [
    "# Call the function and display the resulting DataFrame\n",
    "df = create_cefr_df(path)\n",
    "df.head()"
   ]
  },
  {
   "cell_type": "code",
   "execution_count": 6,
   "id": "a30b5a8e",
   "metadata": {},
   "outputs": [
    {
     "name": "stdout",
     "output_type": "stream",
     "text": [
      "<class 'pandas.core.frame.DataFrame'>\n",
      "RangeIndex: 299 entries, 0 to 298\n",
      "Data columns (total 17 columns):\n",
      " #   Column               Non-Null Count  Dtype \n",
      "---  ------               --------------  ----- \n",
      " 0   file_name            299 non-null    object\n",
      " 1   age_participant      299 non-null    object\n",
      " 2   sex_participant      299 non-null    object\n",
      " 3   education            299 non-null    object\n",
      " 4   L1                   299 non-null    object\n",
      " 5   sex_examiner1        299 non-null    object\n",
      " 6   sex_examiner2        299 non-null    object\n",
      " 7   sex_examiner3        299 non-null    object\n",
      " 8   setting              299 non-null    object\n",
      " 9   question             299 non-null    object\n",
      " 10  word_limit           299 non-null    object\n",
      " 11  level                299 non-null    object\n",
      " 12  answer               299 non-null    object\n",
      " 13  grade_examiner1      299 non-null    object\n",
      " 14  grade_examiner2      299 non-null    object\n",
      " 15  grade_examiner3      299 non-null    object\n",
      " 16  grade_majority_vote  299 non-null    object\n",
      "dtypes: object(17)\n",
      "memory usage: 39.8+ KB\n"
     ]
    }
   ],
   "source": [
    "df.info()"
   ]
  },
  {
   "cell_type": "code",
   "execution_count": 7,
   "id": "f9f67173",
   "metadata": {},
   "outputs": [],
   "source": [
    "# Replace levels with integers.\n",
    "replacement_dict = {\n",
    "    'A1': 1,\n",
    "    'A2': 2,\n",
    "    'B1': 3,\n",
    "    'B2': 4,\n",
    "    'C1': 5,\n",
    "    'C2': 6\n",
    "}\n",
    "\n",
    "# Perform the string replacements across the whole DataFrame\n",
    "df.replace(replacement_dict, inplace=True)"
   ]
  },
  {
   "cell_type": "code",
   "execution_count": 8,
   "id": "94c17323",
   "metadata": {},
   "outputs": [],
   "source": [
    "# Define a mapping dictionary for language codes to language names\n",
    "language_mapping = {\n",
    "    'fr': 'French',\n",
    "    'it': 'Italian',\n",
    "    'ru': 'Russian',\n",
    "    'es': 'Spanish',\n",
    "    'sw': 'Swahili',\n",
    "    'ar': 'Arabic',\n",
    "    'kab': 'Kabyle',\n",
    "    'fa': 'Persian',\n",
    "    'nl': 'Dutch',\n",
    "    'de': 'German',\n",
    "    'bg': 'Bulgarian'\n",
    "}\n",
    "\n",
    "# Assuming 'L1' column contains the language codes, replace them with language names\n",
    "df['L1'] = df['L1'].map(language_mapping)"
   ]
  },
  {
   "cell_type": "code",
   "execution_count": 9,
   "id": "75bb1da6",
   "metadata": {},
   "outputs": [],
   "source": [
    "# Create a new dataframe to store the transformed data\n",
    "columns = ['L1','question','answer','grade_majority_vote']\n",
    "df = df[columns]\n",
    "# Rename the column 'grade_majority_vote' to 'level'\n",
    "df.rename(columns={'grade_majority_vote': 'level'}, inplace=True)\n",
    "# To maintain consistency with PELIC, add a question_type column\n",
    "df['question_type'] = 'Paragraph writing'"
   ]
  },
  {
   "cell_type": "code",
   "execution_count": 10,
   "id": "54b2d8e6",
   "metadata": {},
   "outputs": [],
   "source": [
    "# Define a function to add the number of sentences per text\n",
    "def num_sentences(df):\n",
    "    # Create a copy of the DataFrame to avoid the SettingWithCopyWarning\n",
    "    df = df.copy()\n",
    "    # Iterate over rows in the DataFrame\n",
    "    for index, row in df.iterrows():\n",
    "        # Get the answer text from the DataFrame\n",
    "        answer_text = row['answer']\n",
    "        # Process the answer text with spaCy\n",
    "        doc = nlp(answer_text)\n",
    "        # Initialize variables to accumulate total tokens and count of sentences\n",
    "        num_sentences = 0\n",
    "        # Iterate over sentences and accumulate total tokens\n",
    "        for sentence in doc.sents:\n",
    "            num_sentences += 1\n",
    "        # Add num_sentences in the DataFrame\n",
    "        df.loc[index, 'num_sentences'] = num_sentences\n",
    "    return df"
   ]
  },
  {
   "cell_type": "code",
   "execution_count": 11,
   "id": "75a43810",
   "metadata": {},
   "outputs": [],
   "source": [
    "# Apply the function that adds a column to the df with the number of sentences\n",
    "df = num_sentences(df)"
   ]
  },
  {
   "cell_type": "code",
   "execution_count": 12,
   "id": "8443c5ef",
   "metadata": {},
   "outputs": [],
   "source": [
    "# Remove answers that contain only 1 or 2 sentences\n",
    "df = df[(df.num_sentences != 1) & (df.num_sentences != 2)]"
   ]
  },
  {
   "cell_type": "code",
   "execution_count": 13,
   "id": "4315d6b0",
   "metadata": {},
   "outputs": [
    {
     "data": {
      "text/plain": [
       "array([ 9.,  4.,  5.,  3.,  6.,  7., 11.,  8., 15., 10., 13., 14., 16.,\n",
       "       20., 18., 12.])"
      ]
     },
     "execution_count": 13,
     "metadata": {},
     "output_type": "execute_result"
    }
   ],
   "source": [
    "# Check to make sure that there are no answers with only 1 or 2 sentencs\n",
    "df.num_sentences.unique()"
   ]
  },
  {
   "cell_type": "code",
   "execution_count": 14,
   "id": "27e9bce4",
   "metadata": {},
   "outputs": [],
   "source": [
    "# Remove levels 1 and 6 from the dataframe\n",
    "df = df[(df.level != 1) & (df.level !=6)]"
   ]
  },
  {
   "cell_type": "code",
   "execution_count": 15,
   "id": "0502c46b",
   "metadata": {},
   "outputs": [
    {
     "name": "stdout",
     "output_type": "stream",
     "text": [
      "<class 'pandas.core.frame.DataFrame'>\n",
      "Index: 172 entries, 0 to 298\n",
      "Data columns (total 6 columns):\n",
      " #   Column         Non-Null Count  Dtype  \n",
      "---  ------         --------------  -----  \n",
      " 0   L1             172 non-null    object \n",
      " 1   question       172 non-null    object \n",
      " 2   answer         172 non-null    object \n",
      " 3   level          172 non-null    int64  \n",
      " 4   question_type  172 non-null    object \n",
      " 5   num_sentences  172 non-null    float64\n",
      "dtypes: float64(1), int64(1), object(4)\n",
      "memory usage: 9.4+ KB\n"
     ]
    }
   ],
   "source": [
    "df.info()"
   ]
  },
  {
   "cell_type": "code",
   "execution_count": 16,
   "id": "ba37c260",
   "metadata": {},
   "outputs": [
    {
     "data": {
      "text/plain": [
       "level\n",
       "3    71\n",
       "2    50\n",
       "4    38\n",
       "5    13\n",
       "Name: count, dtype: int64"
      ]
     },
     "execution_count": 16,
     "metadata": {},
     "output_type": "execute_result"
    }
   ],
   "source": [
    "df.level.value_counts()"
   ]
  },
  {
   "cell_type": "code",
   "execution_count": 17,
   "id": "790246d1",
   "metadata": {},
   "outputs": [],
   "source": [
    "# Save the df in a csv to be augmented in another notebook\n",
    "df.to_csv('../data/ASAG_cleaned.csv')"
   ]
  }
 ],
 "metadata": {
  "kernelspec": {
   "display_name": "Python 3 (ipykernel)",
   "language": "python",
   "name": "python3"
  },
  "language_info": {
   "codemirror_mode": {
    "name": "ipython",
    "version": 3
   },
   "file_extension": ".py",
   "mimetype": "text/x-python",
   "name": "python",
   "nbconvert_exporter": "python",
   "pygments_lexer": "ipython3",
   "version": "3.11.5"
  }
 },
 "nbformat": 4,
 "nbformat_minor": 5
}
