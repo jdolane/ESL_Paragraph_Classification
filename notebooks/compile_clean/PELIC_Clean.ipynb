{
 "cells": [
  {
   "cell_type": "markdown",
   "id": "d17fea38",
   "metadata": {},
   "source": [
    "# Clean the PELIC dataset\n",
    "This notebook is to clean the PELIC dataset."
   ]
  },
  {
   "cell_type": "code",
   "execution_count": 2,
   "id": "4ed4fa11",
   "metadata": {},
   "outputs": [],
   "source": [
    "# Import libraries\n",
    "import pandas as pd\n",
    "import spacy\n",
    "import matplotlib.pyplot as plt\n",
    "import seaborn as sns"
   ]
  },
  {
   "cell_type": "code",
   "execution_count": 81,
   "id": "39919262",
   "metadata": {},
   "outputs": [],
   "source": [
    "nlp = spacy.load('en_core_web_sm')"
   ]
  },
  {
   "cell_type": "code",
   "execution_count": 113,
   "id": "32f21910",
   "metadata": {},
   "outputs": [],
   "source": [
    "# Read the data\n",
    "df = pd.read_csv('../data/PELIC_compiled.csv').drop(['Unnamed: 0'], axis=1)"
   ]
  },
  {
   "cell_type": "code",
   "execution_count": 114,
   "id": "a939c9f8",
   "metadata": {},
   "outputs": [
    {
     "data": {
      "text/html": [
       "<div>\n",
       "<style scoped>\n",
       "    .dataframe tbody tr th:only-of-type {\n",
       "        vertical-align: middle;\n",
       "    }\n",
       "\n",
       "    .dataframe tbody tr th {\n",
       "        vertical-align: top;\n",
       "    }\n",
       "\n",
       "    .dataframe thead th {\n",
       "        text-align: right;\n",
       "    }\n",
       "</style>\n",
       "<table border=\"1\" class=\"dataframe\">\n",
       "  <thead>\n",
       "    <tr style=\"text-align: right;\">\n",
       "      <th></th>\n",
       "      <th>level</th>\n",
       "      <th>L1</th>\n",
       "      <th>question_type</th>\n",
       "      <th>question</th>\n",
       "      <th>answer</th>\n",
       "      <th>length</th>\n",
       "      <th>num_sentences</th>\n",
       "      <th>avg_sentence_length</th>\n",
       "      <th>total_tokens</th>\n",
       "    </tr>\n",
       "  </thead>\n",
       "  <tbody>\n",
       "    <tr>\n",
       "      <th>0</th>\n",
       "      <td>4</td>\n",
       "      <td>Arabic</td>\n",
       "      <td>Paragraph writing</td>\n",
       "      <td>Write a paragraph  about a relatioship that is...</td>\n",
       "      <td>I met my friend Nife while I was studying in a...</td>\n",
       "      <td>923.0</td>\n",
       "      <td>12.0</td>\n",
       "      <td>16.083333</td>\n",
       "      <td>193.0</td>\n",
       "    </tr>\n",
       "    <tr>\n",
       "      <th>1</th>\n",
       "      <td>4</td>\n",
       "      <td>Thai</td>\n",
       "      <td>Paragraph writing</td>\n",
       "      <td>Write a paragraph  about a relatioship that is...</td>\n",
       "      <td>Ten years ago, I met a women on the train betw...</td>\n",
       "      <td>668.0</td>\n",
       "      <td>10.0</td>\n",
       "      <td>15.600000</td>\n",
       "      <td>156.0</td>\n",
       "    </tr>\n",
       "    <tr>\n",
       "      <th>2</th>\n",
       "      <td>4</td>\n",
       "      <td>Turkish</td>\n",
       "      <td>Paragraph writing</td>\n",
       "      <td>In five sentences or less, give instructions o...</td>\n",
       "      <td>In my country we usually don't use tea bags. F...</td>\n",
       "      <td>278.0</td>\n",
       "      <td>5.0</td>\n",
       "      <td>14.400000</td>\n",
       "      <td>72.0</td>\n",
       "    </tr>\n",
       "    <tr>\n",
       "      <th>3</th>\n",
       "      <td>4</td>\n",
       "      <td>Turkish</td>\n",
       "      <td>Paragraph writing</td>\n",
       "      <td>How do you organize the instructions: by time,...</td>\n",
       "      <td>I organized the instructions by time.</td>\n",
       "      <td>37.0</td>\n",
       "      <td>1.0</td>\n",
       "      <td>7.000000</td>\n",
       "      <td>7.0</td>\n",
       "    </tr>\n",
       "    <tr>\n",
       "      <th>4</th>\n",
       "      <td>4</td>\n",
       "      <td>Korean</td>\n",
       "      <td>Paragraph writing</td>\n",
       "      <td>In five sentences or less, give instructions o...</td>\n",
       "      <td>First, prepare a port, loose tea, and cup.\\nSe...</td>\n",
       "      <td>290.0</td>\n",
       "      <td>5.0</td>\n",
       "      <td>15.600000</td>\n",
       "      <td>78.0</td>\n",
       "    </tr>\n",
       "  </tbody>\n",
       "</table>\n",
       "</div>"
      ],
      "text/plain": [
       "   level       L1      question_type  \\\n",
       "0      4   Arabic  Paragraph writing   \n",
       "1      4     Thai  Paragraph writing   \n",
       "2      4  Turkish  Paragraph writing   \n",
       "3      4  Turkish  Paragraph writing   \n",
       "4      4   Korean  Paragraph writing   \n",
       "\n",
       "                                            question  \\\n",
       "0  Write a paragraph  about a relatioship that is...   \n",
       "1  Write a paragraph  about a relatioship that is...   \n",
       "2  In five sentences or less, give instructions o...   \n",
       "3  How do you organize the instructions: by time,...   \n",
       "4  In five sentences or less, give instructions o...   \n",
       "\n",
       "                                              answer  length  num_sentences  \\\n",
       "0  I met my friend Nife while I was studying in a...   923.0           12.0   \n",
       "1  Ten years ago, I met a women on the train betw...   668.0           10.0   \n",
       "2  In my country we usually don't use tea bags. F...   278.0            5.0   \n",
       "3              I organized the instructions by time.    37.0            1.0   \n",
       "4  First, prepare a port, loose tea, and cup.\\nSe...   290.0            5.0   \n",
       "\n",
       "   avg_sentence_length  total_tokens  \n",
       "0            16.083333         193.0  \n",
       "1            15.600000         156.0  \n",
       "2            14.400000          72.0  \n",
       "3             7.000000           7.0  \n",
       "4            15.600000          78.0  "
      ]
     },
     "execution_count": 114,
     "metadata": {},
     "output_type": "execute_result"
    }
   ],
   "source": [
    "# Look at the head\n",
    "df.head()"
   ]
  },
  {
   "cell_type": "code",
   "execution_count": 115,
   "id": "71d5ebda",
   "metadata": {},
   "outputs": [
    {
     "name": "stdout",
     "output_type": "stream",
     "text": [
      "<class 'pandas.core.frame.DataFrame'>\n",
      "RangeIndex: 45775 entries, 0 to 45774\n",
      "Data columns (total 9 columns):\n",
      " #   Column               Non-Null Count  Dtype  \n",
      "---  ------               --------------  -----  \n",
      " 0   level                45775 non-null  int64  \n",
      " 1   L1                   45775 non-null  object \n",
      " 2   question_type        45775 non-null  object \n",
      " 3   question             45775 non-null  object \n",
      " 4   answer               45775 non-null  object \n",
      " 5   length               45775 non-null  float64\n",
      " 6   num_sentences        45775 non-null  float64\n",
      " 7   avg_sentence_length  45775 non-null  float64\n",
      " 8   total_tokens         45775 non-null  float64\n",
      "dtypes: float64(4), int64(1), object(4)\n",
      "memory usage: 3.1+ MB\n"
     ]
    }
   ],
   "source": [
    "# Look at the info\n",
    "df.info()"
   ]
  },
  {
   "cell_type": "code",
   "execution_count": 116,
   "id": "c6b86d97",
   "metadata": {},
   "outputs": [],
   "source": [
    "# Change the text columns to strings to make sure that they're processed properly later on;\n",
    "# Some of the objects contain integers, but when we do NLP, we want them to be treated as strings\n",
    "df['question'] = df['question'].astype('string')\n",
    "df['answer'] = df['answer'].astype('string')\n",
    "df['question_type'] = df['question_type'].astype('string')\n",
    "df['L1'] = df['L1'].astype('string')"
   ]
  },
  {
   "cell_type": "code",
   "execution_count": 117,
   "id": "c9572a3f",
   "metadata": {
    "scrolled": false
   },
   "outputs": [
    {
     "name": "stdout",
     "output_type": "stream",
     "text": [
      "<class 'pandas.core.frame.DataFrame'>\n",
      "RangeIndex: 45775 entries, 0 to 45774\n",
      "Data columns (total 9 columns):\n",
      " #   Column               Non-Null Count  Dtype  \n",
      "---  ------               --------------  -----  \n",
      " 0   level                45775 non-null  int64  \n",
      " 1   L1                   45775 non-null  string \n",
      " 2   question_type        45775 non-null  string \n",
      " 3   question             45775 non-null  string \n",
      " 4   answer               45775 non-null  string \n",
      " 5   length               45775 non-null  float64\n",
      " 6   num_sentences        45775 non-null  float64\n",
      " 7   avg_sentence_length  45775 non-null  float64\n",
      " 8   total_tokens         45775 non-null  float64\n",
      "dtypes: float64(4), int64(1), string(4)\n",
      "memory usage: 3.1 MB\n"
     ]
    }
   ],
   "source": [
    "# Look at the info again to make sure the types were changed\n",
    "df.info()"
   ]
  },
  {
   "cell_type": "markdown",
   "id": "18a766fa",
   "metadata": {},
   "source": [
    "Check to see if there are one-word answers in the dataframe."
   ]
  },
  {
   "cell_type": "code",
   "execution_count": 118,
   "id": "c68b0176",
   "metadata": {},
   "outputs": [
    {
     "data": {
      "text/plain": [
       "count    45775.000000\n",
       "mean       104.848192\n",
       "std        178.623361\n",
       "min          1.000000\n",
       "25%         10.000000\n",
       "50%         27.000000\n",
       "75%        130.000000\n",
       "max       2789.000000\n",
       "Name: total_tokens, dtype: float64"
      ]
     },
     "execution_count": 118,
     "metadata": {},
     "output_type": "execute_result"
    }
   ],
   "source": [
    "df.total_tokens.describe()"
   ]
  },
  {
   "cell_type": "markdown",
   "id": "7db588c1",
   "metadata": {},
   "source": [
    "The dataframe contains one-word answers. This project focuses on classifying ESL learner writing. To get good data for each level, we'll need the answer to contain at least a subject and a verb. Instead of setting an arbitrary minimum length, or a minimum number of sentences, I'm going to set filter out answers that don't contain at least one subject and verb. This way, I won't be throwing away data from the beginner levels that may be only one or two short sentences."
   ]
  },
  {
   "cell_type": "code",
   "execution_count": 119,
   "id": "aff470f4",
   "metadata": {},
   "outputs": [],
   "source": [
    "# Define a function to filter the data for answers that contain at least one subject and verb\n",
    "def contains_subject_and_verb(text):\n",
    "    '''\n",
    "    Checks to see if a document contains\n",
    "    at least one subject and one verb\n",
    "    '''\n",
    "    doc = nlp(text)\n",
    "    # Check if the text contains at least one subject and one verb\n",
    "    return any(token.dep_ == \"nsubj\" for token in doc) and any(token.pos_ == \"VERB\" for token in doc)\n",
    "\n",
    "def filter_rows_with_subject_and_verb(df):\n",
    "    '''\n",
    "    Applies the contains_subject_and_verb function\n",
    "    '''\n",
    "    # Apply the contains_subject_and_verb function to each row in the 'answer' column\n",
    "    mask = df['answer'].apply(contains_subject_and_verb)\n",
    "    # Filter the DataFrame to keep only the rows where the condition is True\n",
    "    return df[mask]"
   ]
  },
  {
   "cell_type": "code",
   "execution_count": 120,
   "id": "1fe9d6ae",
   "metadata": {},
   "outputs": [],
   "source": [
    "# Apply the function\n",
    "df = filter_rows_with_subject_and_verb(df)"
   ]
  },
  {
   "cell_type": "code",
   "execution_count": 121,
   "id": "445dc24b",
   "metadata": {},
   "outputs": [],
   "source": [
    "# Save it in a csv because the function takes a long time to run\n",
    "df.to_csv('../data/PELIC_sub_verb.csv')"
   ]
  },
  {
   "cell_type": "code",
   "execution_count": 5,
   "id": "790535d8",
   "metadata": {},
   "outputs": [],
   "source": [
    "df = pd.read_csv('../data/PELIC_sub_verb.csv').drop(['Unnamed: 0'],axis=1)"
   ]
  },
  {
   "cell_type": "code",
   "execution_count": 6,
   "id": "072ba588",
   "metadata": {},
   "outputs": [
    {
     "name": "stdout",
     "output_type": "stream",
     "text": [
      "<class 'pandas.core.frame.DataFrame'>\n",
      "RangeIndex: 35158 entries, 0 to 35157\n",
      "Data columns (total 9 columns):\n",
      " #   Column               Non-Null Count  Dtype  \n",
      "---  ------               --------------  -----  \n",
      " 0   level                35158 non-null  int64  \n",
      " 1   L1                   35158 non-null  object \n",
      " 2   question_type        35158 non-null  object \n",
      " 3   question             35158 non-null  object \n",
      " 4   answer               35158 non-null  object \n",
      " 5   length               35158 non-null  float64\n",
      " 6   num_sentences        35158 non-null  float64\n",
      " 7   avg_sentence_length  35158 non-null  float64\n",
      " 8   total_tokens         35158 non-null  float64\n",
      "dtypes: float64(4), int64(1), object(4)\n",
      "memory usage: 2.4+ MB\n"
     ]
    }
   ],
   "source": [
    "df.info()"
   ]
  },
  {
   "cell_type": "code",
   "execution_count": 7,
   "id": "050be361",
   "metadata": {},
   "outputs": [
    {
     "data": {
      "text/html": [
       "<div>\n",
       "<style scoped>\n",
       "    .dataframe tbody tr th:only-of-type {\n",
       "        vertical-align: middle;\n",
       "    }\n",
       "\n",
       "    .dataframe tbody tr th {\n",
       "        vertical-align: top;\n",
       "    }\n",
       "\n",
       "    .dataframe thead th {\n",
       "        text-align: right;\n",
       "    }\n",
       "</style>\n",
       "<table border=\"1\" class=\"dataframe\">\n",
       "  <thead>\n",
       "    <tr style=\"text-align: right;\">\n",
       "      <th></th>\n",
       "      <th>level</th>\n",
       "      <th>L1</th>\n",
       "      <th>question_type</th>\n",
       "      <th>question</th>\n",
       "      <th>answer</th>\n",
       "      <th>length</th>\n",
       "      <th>num_sentences</th>\n",
       "      <th>avg_sentence_length</th>\n",
       "      <th>total_tokens</th>\n",
       "    </tr>\n",
       "  </thead>\n",
       "  <tbody>\n",
       "    <tr>\n",
       "      <th>0</th>\n",
       "      <td>4</td>\n",
       "      <td>Arabic</td>\n",
       "      <td>Paragraph writing</td>\n",
       "      <td>Write a paragraph  about a relatioship that is...</td>\n",
       "      <td>I met my friend Nife while I was studying in a...</td>\n",
       "      <td>923.0</td>\n",
       "      <td>12.0</td>\n",
       "      <td>16.083333</td>\n",
       "      <td>193.0</td>\n",
       "    </tr>\n",
       "    <tr>\n",
       "      <th>1</th>\n",
       "      <td>4</td>\n",
       "      <td>Thai</td>\n",
       "      <td>Paragraph writing</td>\n",
       "      <td>Write a paragraph  about a relatioship that is...</td>\n",
       "      <td>Ten years ago, I met a women on the train betw...</td>\n",
       "      <td>668.0</td>\n",
       "      <td>10.0</td>\n",
       "      <td>15.600000</td>\n",
       "      <td>156.0</td>\n",
       "    </tr>\n",
       "    <tr>\n",
       "      <th>2</th>\n",
       "      <td>4</td>\n",
       "      <td>Turkish</td>\n",
       "      <td>Paragraph writing</td>\n",
       "      <td>In five sentences or less, give instructions o...</td>\n",
       "      <td>In my country we usually don't use tea bags. F...</td>\n",
       "      <td>278.0</td>\n",
       "      <td>5.0</td>\n",
       "      <td>14.400000</td>\n",
       "      <td>72.0</td>\n",
       "    </tr>\n",
       "    <tr>\n",
       "      <th>3</th>\n",
       "      <td>4</td>\n",
       "      <td>Turkish</td>\n",
       "      <td>Paragraph writing</td>\n",
       "      <td>How do you organize the instructions: by time,...</td>\n",
       "      <td>I organized the instructions by time.</td>\n",
       "      <td>37.0</td>\n",
       "      <td>1.0</td>\n",
       "      <td>7.000000</td>\n",
       "      <td>7.0</td>\n",
       "    </tr>\n",
       "    <tr>\n",
       "      <th>4</th>\n",
       "      <td>4</td>\n",
       "      <td>Korean</td>\n",
       "      <td>Paragraph writing</td>\n",
       "      <td>In five sentences or less, give instructions o...</td>\n",
       "      <td>First, prepare a port, loose tea, and cup.\\nSe...</td>\n",
       "      <td>290.0</td>\n",
       "      <td>5.0</td>\n",
       "      <td>15.600000</td>\n",
       "      <td>78.0</td>\n",
       "    </tr>\n",
       "  </tbody>\n",
       "</table>\n",
       "</div>"
      ],
      "text/plain": [
       "   level       L1      question_type  \\\n",
       "0      4   Arabic  Paragraph writing   \n",
       "1      4     Thai  Paragraph writing   \n",
       "2      4  Turkish  Paragraph writing   \n",
       "3      4  Turkish  Paragraph writing   \n",
       "4      4   Korean  Paragraph writing   \n",
       "\n",
       "                                            question  \\\n",
       "0  Write a paragraph  about a relatioship that is...   \n",
       "1  Write a paragraph  about a relatioship that is...   \n",
       "2  In five sentences or less, give instructions o...   \n",
       "3  How do you organize the instructions: by time,...   \n",
       "4  In five sentences or less, give instructions o...   \n",
       "\n",
       "                                              answer  length  num_sentences  \\\n",
       "0  I met my friend Nife while I was studying in a...   923.0           12.0   \n",
       "1  Ten years ago, I met a women on the train betw...   668.0           10.0   \n",
       "2  In my country we usually don't use tea bags. F...   278.0            5.0   \n",
       "3              I organized the instructions by time.    37.0            1.0   \n",
       "4  First, prepare a port, loose tea, and cup.\\nSe...   290.0            5.0   \n",
       "\n",
       "   avg_sentence_length  total_tokens  \n",
       "0            16.083333         193.0  \n",
       "1            15.600000         156.0  \n",
       "2            14.400000          72.0  \n",
       "3             7.000000           7.0  \n",
       "4            15.600000          78.0  "
      ]
     },
     "execution_count": 7,
     "metadata": {},
     "output_type": "execute_result"
    }
   ],
   "source": [
    "df.head()"
   ]
  },
  {
   "cell_type": "code",
   "execution_count": 8,
   "id": "bb3891bf",
   "metadata": {},
   "outputs": [],
   "source": [
    "# Drop any duplicates in the answer column\n",
    "df.drop_duplicates(subset=['answer'], inplace=True)\n",
    "df.reset_index(drop=True, inplace=True)"
   ]
  },
  {
   "cell_type": "code",
   "execution_count": 9,
   "id": "7dab0767",
   "metadata": {},
   "outputs": [
    {
     "name": "stdout",
     "output_type": "stream",
     "text": [
      "<class 'pandas.core.frame.DataFrame'>\n",
      "RangeIndex: 33612 entries, 0 to 33611\n",
      "Data columns (total 9 columns):\n",
      " #   Column               Non-Null Count  Dtype  \n",
      "---  ------               --------------  -----  \n",
      " 0   level                33612 non-null  int64  \n",
      " 1   L1                   33612 non-null  object \n",
      " 2   question_type        33612 non-null  object \n",
      " 3   question             33612 non-null  object \n",
      " 4   answer               33612 non-null  object \n",
      " 5   length               33612 non-null  float64\n",
      " 6   num_sentences        33612 non-null  float64\n",
      " 7   avg_sentence_length  33612 non-null  float64\n",
      " 8   total_tokens         33612 non-null  float64\n",
      "dtypes: float64(4), int64(1), object(4)\n",
      "memory usage: 2.3+ MB\n"
     ]
    }
   ],
   "source": [
    "df.info()"
   ]
  },
  {
   "cell_type": "code",
   "execution_count": 10,
   "id": "da184505",
   "metadata": {},
   "outputs": [
    {
     "data": {
      "text/plain": [
       "question_type\n",
       "Paragraph writing      15485\n",
       "Short answer           14236\n",
       "Essay                   3335\n",
       "Sentence completion      281\n",
       "Fill-in-the-blank        274\n",
       "Audio recording            1\n",
       "Name: count, dtype: int64"
      ]
     },
     "execution_count": 10,
     "metadata": {},
     "output_type": "execute_result"
    }
   ],
   "source": [
    "df.question_type.value_counts()"
   ]
  },
  {
   "cell_type": "code",
   "execution_count": 11,
   "id": "23876822",
   "metadata": {},
   "outputs": [
    {
     "name": "stdout",
     "output_type": "stream",
     "text": [
      "0    I met my friend Nife while I was studying in a...\n",
      "1    Ten years ago, I met a women on the train betw...\n",
      "2    In my country we usually don't use tea bags. F...\n",
      "3                I organized the instructions by time.\n",
      "4    First, prepare a port, loose tea, and cup.\\nSe...\n",
      "Name: answer, dtype: object\n",
      "\n",
      " level\n",
      "4    6782\n",
      "5    4527\n",
      "3    4071\n",
      "2     105\n",
      "Name: count, dtype: int64\n"
     ]
    }
   ],
   "source": [
    "# Take a look at the question types to see if we should keep them in the dataframe.\n",
    "# Paragraph writing\n",
    "print(df[df.question_type == 'Paragraph writing'].answer.head())\n",
    "print('\\n',df[df.question_type == 'Paragraph writing'].level.value_counts())"
   ]
  },
  {
   "cell_type": "code",
   "execution_count": 206,
   "id": "25f89489",
   "metadata": {},
   "outputs": [
    {
     "name": "stdout",
     "output_type": "stream",
     "text": [
      "31         Can you give me a opinion about this matter?\n",
      "32                       I own this car and this horse.\n",
      "33                                         I own a car.\n",
      "34                I don't have opinion about that thing\n",
      "35    The opinion is my ider. \\n\\nSometimes i think ...\n",
      "Name: answer, dtype: object\n",
      "\n",
      " level\n",
      "5    5055\n",
      "3    4374\n",
      "4    4047\n",
      "2     760\n",
      "Name: count, dtype: int64\n"
     ]
    }
   ],
   "source": [
    "# Short answer\n",
    "print(df[df.question_type == 'Short answer'].answer.head())\n",
    "print('\\n',df[df.question_type == 'Short answer'].level.value_counts())"
   ]
  },
  {
   "cell_type": "code",
   "execution_count": 207,
   "id": "003f912b",
   "metadata": {},
   "outputs": [
    {
     "name": "stdout",
     "output_type": "stream",
     "text": [
      "90    1. It has been said, \"Not all learning takes p...\n",
      "91    \"Not all learning takes place in the classroom...\n",
      "92    Some people prefer to eat at food stands or re...\n",
      "93    In Taiwan, we have a proverb, \"Far relative ca...\n",
      "94    Some people said, \"Not all learning takes plac...\n",
      "95    Some people prefer eat out and some like doing...\n",
      "96    \"Not all learning takes place in the classroom...\n",
      "97    There are many qualities of a good neighbor in...\n",
      "98    Neighbors\\nNeighbor is the people who live nea...\n",
      "99    Giving your body the necessary substances to i...\n",
      "Name: answer, dtype: object\n",
      "\n",
      " level\n",
      "4    1980\n",
      "5    1030\n",
      "3     271\n",
      "2      54\n",
      "Name: count, dtype: int64\n"
     ]
    }
   ],
   "source": [
    "# Essay\n",
    "print(df[df.question_type == 'Essay'].answer.head(10))\n",
    "print('\\n',df[df.question_type == 'Essay'].level.value_counts())"
   ]
  },
  {
   "cell_type": "code",
   "execution_count": 208,
   "id": "fdcc8514",
   "metadata": {},
   "outputs": [
    {
     "name": "stdout",
     "output_type": "stream",
     "text": [
      "3763                                  the research takes.\n",
      "3764                          I used to live is very old.\n",
      "3765                                which means so lucky.\n",
      "3773                                 I have to stay here.\n",
      "3774                              I live is so beautiful.\n",
      "3775                        , is where I am studying now.\n",
      "3776    the life of a winner will not be happy than he...\n",
      "3784                          i would stay in pittsburgh.\n",
      "3785                          is located pitts is so old.\n",
      "3795                  I stayed for an hour was very clean\n",
      "Name: answer, dtype: object\n",
      "\n",
      " level\n",
      "4    167\n",
      "5    114\n",
      "Name: count, dtype: int64\n"
     ]
    }
   ],
   "source": [
    "# Sentence completion\n",
    "print(df[df.question_type == 'Sentence completion'].answer.head(10))\n",
    "print('\\n',df[df.question_type == 'Sentence completion'].level.value_counts())"
   ]
  },
  {
   "cell_type": "code",
   "execution_count": 209,
   "id": "f07ad5e4",
   "metadata": {},
   "outputs": [
    {
     "name": "stdout",
     "output_type": "stream",
     "text": [
      "3761                                      who had studied\n",
      "3792                                         havn't taken\n",
      "3845                                    who were studying\n",
      "3880                                     who were studing\n",
      "3901                                   whom were studying\n",
      "3919                                    who were stydying\n",
      "4191      complain about the amout of homework they have.\n",
      "4192    is always complaining about the amount of home...\n",
      "4347                                  did she use to live\n",
      "4348                                     Is she living in\n",
      "Name: answer, dtype: object\n",
      "\n",
      " level\n",
      "3    260\n",
      "5     11\n",
      "4      3\n",
      "Name: count, dtype: int64\n"
     ]
    }
   ],
   "source": [
    "# Fill-in-the-blank\n",
    "print(df[df.question_type == 'Fill-in-the-blank'].answer.head(10))\n",
    "print('\\n',df[df.question_type == 'Fill-in-the-blank'].level.value_counts())"
   ]
  },
  {
   "cell_type": "code",
   "execution_count": 210,
   "id": "65d8af09",
   "metadata": {},
   "outputs": [
    {
     "name": "stdout",
     "output_type": "stream",
     "text": [
      "27160    My apartment is beautiful. I usually straighte...\n",
      "Name: answer, dtype: object\n",
      "\n",
      " level\n",
      "4    1\n",
      "Name: count, dtype: int64\n"
     ]
    }
   ],
   "source": [
    "# Audio recording\n",
    "print(df[df.question_type == 'Audio recording'].answer.head(10))\n",
    "print('\\n',df[df.question_type == 'Audio recording'].level.value_counts())"
   ]
  },
  {
   "cell_type": "markdown",
   "id": "32358f93",
   "metadata": {},
   "source": [
    "For the purposes of this project, I'm going to drop 'Audio recording,' 'Fill-in-the-blank,' and 'Sentence completion.' These answer types don't contain learner writing - rather, they contain learner answers to questions. We can see above that we're not throwing away a lot of data by removing 'Sentence completion' and 'Fill-in-the-blank.' Further, we don't want higher level answers to be represented by very short or incomplete answers."
   ]
  },
  {
   "cell_type": "code",
   "execution_count": 12,
   "id": "9808af5e",
   "metadata": {},
   "outputs": [],
   "source": [
    "# List of question types to drop\n",
    "question_types_to_drop = ['Audio recording', 'Fill-in-the-blank', 'Sentence completion']\n",
    "\n",
    "# Filter the DataFrame to keep only the rows where 'question_type' is not in the list\n",
    "df = df[~df['question_type'].isin(question_types_to_drop)]\n",
    "\n",
    "# If you want to reset the index after dropping rows\n",
    "df.reset_index(drop=True, inplace=True)"
   ]
  },
  {
   "cell_type": "code",
   "execution_count": 13,
   "id": "f548c8e5",
   "metadata": {},
   "outputs": [
    {
     "data": {
      "image/png": "[encoded data removed]",
      "text/plain": [
       "<Figure size 1000x600 with 1 Axes>"
      ]
     },
     "metadata": {},
     "output_type": "display_data"
    }
   ],
   "source": [
    "plt.figure(figsize=(10, 6))\n",
    "sns.countplot(x='level', hue='question_type', data=df)\n",
    "plt.title('Count Plot of Question Type by Level')\n",
    "plt.xlabel('Level')\n",
    "plt.ylabel('Count')\n",
    "plt.xticks(rotation=45)\n",
    "plt.legend(title='Question Type')\n",
    "plt.tight_layout()\n",
    "plt.show()"
   ]
  },
  {
   "cell_type": "code",
   "execution_count": 14,
   "id": "e06553a1",
   "metadata": {},
   "outputs": [],
   "source": [
    "# Add a column that indicates the dataset so that it can be easily identified later\n",
    "df['dataset'] = 'PELIC'"
   ]
  },
  {
   "cell_type": "code",
   "execution_count": 16,
   "id": "533a7043",
   "metadata": {},
   "outputs": [
    {
     "name": "stdout",
     "output_type": "stream",
     "text": [
      "<class 'pandas.core.frame.DataFrame'>\n",
      "RangeIndex: 33056 entries, 0 to 33055\n",
      "Data columns (total 10 columns):\n",
      " #   Column               Non-Null Count  Dtype  \n",
      "---  ------               --------------  -----  \n",
      " 0   level                33056 non-null  int64  \n",
      " 1   L1                   33056 non-null  object \n",
      " 2   question_type        33056 non-null  object \n",
      " 3   question             33056 non-null  object \n",
      " 4   answer               33056 non-null  object \n",
      " 5   length               33056 non-null  float64\n",
      " 6   num_sentences        33056 non-null  float64\n",
      " 7   avg_sentence_length  33056 non-null  float64\n",
      " 8   total_tokens         33056 non-null  float64\n",
      " 9   dataset              33056 non-null  object \n",
      "dtypes: float64(4), int64(1), object(5)\n",
      "memory usage: 2.5+ MB\n"
     ]
    }
   ],
   "source": [
    "df.info()"
   ]
  },
  {
   "cell_type": "code",
   "execution_count": 17,
   "id": "e48e274a",
   "metadata": {},
   "outputs": [
    {
     "data": {
      "text/plain": [
       "question_type\n",
       "Paragraph writing    15485\n",
       "Short answer         14236\n",
       "Essay                 3335\n",
       "Name: count, dtype: int64"
      ]
     },
     "execution_count": 17,
     "metadata": {},
     "output_type": "execute_result"
    }
   ],
   "source": [
    "df.question_type.value_counts()"
   ]
  },
  {
   "cell_type": "code",
   "execution_count": 25,
   "id": "342501a7",
   "metadata": {},
   "outputs": [
    {
     "data": {
      "text/plain": [
       "0"
      ]
     },
     "execution_count": 25,
     "metadata": {},
     "output_type": "execute_result"
    }
   ],
   "source": [
    "len(df[df.isnull().any(axis=1)])"
   ]
  },
  {
   "cell_type": "code",
   "execution_count": 26,
   "id": "c8cb213d",
   "metadata": {},
   "outputs": [],
   "source": [
    "df.to_csv('../data/PELIC_sub_verb_cleaned.csv')"
   ]
  }
 ],
 "metadata": {
  "kernelspec": {
   "display_name": "Python 3 (ipykernel)",
   "language": "python",
   "name": "python3"
  },
  "language_info": {
   "codemirror_mode": {
    "name": "ipython",
    "version": 3
   },
   "file_extension": ".py",
   "mimetype": "text/x-python",
   "name": "python",
   "nbconvert_exporter": "python",
   "pygments_lexer": "ipython3",
   "version": "3.11.5"
  }
 },
 "nbformat": 4,
 "nbformat_minor": 5
}
