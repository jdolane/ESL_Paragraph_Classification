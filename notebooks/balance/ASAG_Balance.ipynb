{
 "cells": [
  {
   "cell_type": "markdown",
   "id": "14745a26",
   "metadata": {},
   "source": [
    "# Balance the ASAG dataset\n",
    "This notebook is for balancing the ASAG dataset. Before balancing, some preprocessing steps are required."
   ]
  },
  {
   "cell_type": "code",
   "execution_count": 1,
   "id": "f69c6dad",
   "metadata": {},
   "outputs": [],
   "source": [
    "# Import libraries\n",
    "import pandas as pd\n",
    "import re\n",
    "import spacy"
   ]
  },
  {
   "cell_type": "code",
   "execution_count": 2,
   "id": "f7e54ef9",
   "metadata": {},
   "outputs": [],
   "source": [
    "nlp = spacy.load('en_core_web_sm')"
   ]
  },
  {
   "cell_type": "code",
   "execution_count": 3,
   "id": "de512141",
   "metadata": {},
   "outputs": [],
   "source": [
    "df = pd.read_csv('../data/ASAG_augmented.csv')\n",
    "df = df.drop(['Unnamed: 0'], axis=1)"
   ]
  },
  {
   "cell_type": "code",
   "execution_count": 4,
   "id": "e5866c04",
   "metadata": {},
   "outputs": [],
   "source": [
    "# Step 1: Replace text in 'answer' column with text from 'augmented_answer' column\n",
    "df['answer'] = df.apply(lambda row: row['augmented_answer'] if pd.notnull(row['augmented_answer']) else row['answer'], axis=1)\n",
    "\n",
    "# Step 2: Add a column indicating original (0) or augmented (1) answer\n",
    "df['is_augmented'] = df['augmented_answer'].notnull().astype(int)\n",
    "\n",
    "# Step 3: Drop the 'augmented_answer' column\n",
    "df.drop(columns=['augmented_answer'], inplace=True)"
   ]
  },
  {
   "cell_type": "code",
   "execution_count": 5,
   "id": "b1a0b0cd",
   "metadata": {},
   "outputs": [
    {
     "name": "stdout",
     "output_type": "stream",
     "text": [
      "<class 'pandas.core.frame.DataFrame'>\n",
      "RangeIndex: 185 entries, 0 to 184\n",
      "Data columns (total 7 columns):\n",
      " #   Column         Non-Null Count  Dtype  \n",
      "---  ------         --------------  -----  \n",
      " 0   L1             185 non-null    object \n",
      " 1   question       185 non-null    object \n",
      " 2   answer         185 non-null    object \n",
      " 3   level          185 non-null    int64  \n",
      " 4   question_type  185 non-null    object \n",
      " 5   num_sentences  185 non-null    float64\n",
      " 6   is_augmented   185 non-null    int32  \n",
      "dtypes: float64(1), int32(1), int64(1), object(4)\n",
      "memory usage: 9.5+ KB\n"
     ]
    }
   ],
   "source": [
    "df.info()"
   ]
  },
  {
   "cell_type": "markdown",
   "id": "b5bc693c",
   "metadata": {},
   "source": [
    "## Remove augmented answers with repeating phrases\n",
    "Let's take a look and see if we have augmented answers that have repeating phrases."
   ]
  },
  {
   "cell_type": "code",
   "execution_count": 6,
   "id": "d64ca454",
   "metadata": {},
   "outputs": [
    {
     "data": {
      "text/html": [
       "<div>\n",
       "<style scoped>\n",
       "    .dataframe tbody tr th:only-of-type {\n",
       "        vertical-align: middle;\n",
       "    }\n",
       "\n",
       "    .dataframe tbody tr th {\n",
       "        vertical-align: top;\n",
       "    }\n",
       "\n",
       "    .dataframe thead th {\n",
       "        text-align: right;\n",
       "    }\n",
       "</style>\n",
       "<table border=\"1\" class=\"dataframe\">\n",
       "  <thead>\n",
       "    <tr style=\"text-align: right;\">\n",
       "      <th></th>\n",
       "      <th>L1</th>\n",
       "      <th>question</th>\n",
       "      <th>answer</th>\n",
       "      <th>level</th>\n",
       "      <th>question_type</th>\n",
       "      <th>num_sentences</th>\n",
       "      <th>is_augmented</th>\n",
       "      <th>length</th>\n",
       "    </tr>\n",
       "  </thead>\n",
       "  <tbody>\n",
       "    <tr>\n",
       "      <th>179</th>\n",
       "      <td>French</td>\n",
       "      <td>Eating a balanced diet is the most important f...</td>\n",
       "      <td>It brings you everything you need ( vitamins, ...</td>\n",
       "      <td>5</td>\n",
       "      <td>Paragraph writing</td>\n",
       "      <td>5.0</td>\n",
       "      <td>1</td>\n",
       "      <td>1852</td>\n",
       "    </tr>\n",
       "    <tr>\n",
       "      <th>182</th>\n",
       "      <td>German</td>\n",
       "      <td>Eating a balanced diet is the most important f...</td>\n",
       "      <td>Eat well in the evening\\n\\n36. Eat well in the...</td>\n",
       "      <td>5</td>\n",
       "      <td>Paragraph writing</td>\n",
       "      <td>9.0</td>\n",
       "      <td>1</td>\n",
       "      <td>1415</td>\n",
       "    </tr>\n",
       "    <tr>\n",
       "      <th>177</th>\n",
       "      <td>French</td>\n",
       "      <td>Do people who live in the public eye have a ri...</td>\n",
       "      <td>I think that his writing skills are very good....</td>\n",
       "      <td>5</td>\n",
       "      <td>Paragraph writing</td>\n",
       "      <td>10.0</td>\n",
       "      <td>1</td>\n",
       "      <td>1374</td>\n",
       "    </tr>\n",
       "    <tr>\n",
       "      <th>180</th>\n",
       "      <td>French</td>\n",
       "      <td>Do people who live in the public eye have a ri...</td>\n",
       "      <td>They are either using it to get information, o...</td>\n",
       "      <td>5</td>\n",
       "      <td>Paragraph writing</td>\n",
       "      <td>6.0</td>\n",
       "      <td>1</td>\n",
       "      <td>1144</td>\n",
       "    </tr>\n",
       "    <tr>\n",
       "      <th>176</th>\n",
       "      <td>French</td>\n",
       "      <td>You are invited to a friend's birthday. You re...</td>\n",
       "      <td>There is no character limit, and the game is s...</td>\n",
       "      <td>5</td>\n",
       "      <td>Paragraph writing</td>\n",
       "      <td>6.0</td>\n",
       "      <td>1</td>\n",
       "      <td>632</td>\n",
       "    </tr>\n",
       "    <tr>\n",
       "      <th>178</th>\n",
       "      <td>French</td>\n",
       "      <td>What is the impact of social networks on relat...</td>\n",
       "      <td>I did not know that I was a bad person, and I ...</td>\n",
       "      <td>5</td>\n",
       "      <td>Paragraph writing</td>\n",
       "      <td>8.0</td>\n",
       "      <td>1</td>\n",
       "      <td>593</td>\n",
       "    </tr>\n",
       "    <tr>\n",
       "      <th>173</th>\n",
       "      <td>French</td>\n",
       "      <td>Do people who live in the public eye have a ri...</td>\n",
       "      <td>The government has shown that it can make peop...</td>\n",
       "      <td>5</td>\n",
       "      <td>Paragraph writing</td>\n",
       "      <td>3.0</td>\n",
       "      <td>1</td>\n",
       "      <td>360</td>\n",
       "    </tr>\n",
       "    <tr>\n",
       "      <th>175</th>\n",
       "      <td>French</td>\n",
       "      <td>What is the impact of social networks on relat...</td>\n",
       "      <td>I think we can say things that we really want ...</td>\n",
       "      <td>5</td>\n",
       "      <td>Paragraph writing</td>\n",
       "      <td>3.0</td>\n",
       "      <td>1</td>\n",
       "      <td>323</td>\n",
       "    </tr>\n",
       "    <tr>\n",
       "      <th>181</th>\n",
       "      <td>French</td>\n",
       "      <td>Eating a balanced diet is the most important f...</td>\n",
       "      <td>In addition, they have good health effects. Th...</td>\n",
       "      <td>5</td>\n",
       "      <td>Paragraph writing</td>\n",
       "      <td>3.0</td>\n",
       "      <td>1</td>\n",
       "      <td>284</td>\n",
       "    </tr>\n",
       "    <tr>\n",
       "      <th>174</th>\n",
       "      <td>French</td>\n",
       "      <td>Do people who live in the public eye have a ri...</td>\n",
       "      <td>It is guaranteed by the Constitution. The righ...</td>\n",
       "      <td>5</td>\n",
       "      <td>Paragraph writing</td>\n",
       "      <td>5.0</td>\n",
       "      <td>1</td>\n",
       "      <td>238</td>\n",
       "    </tr>\n",
       "  </tbody>\n",
       "</table>\n",
       "</div>"
      ],
      "text/plain": [
       "         L1                                           question  \\\n",
       "179  French  Eating a balanced diet is the most important f...   \n",
       "182  German  Eating a balanced diet is the most important f...   \n",
       "177  French  Do people who live in the public eye have a ri...   \n",
       "180  French  Do people who live in the public eye have a ri...   \n",
       "176  French  You are invited to a friend's birthday. You re...   \n",
       "178  French  What is the impact of social networks on relat...   \n",
       "173  French  Do people who live in the public eye have a ri...   \n",
       "175  French  What is the impact of social networks on relat...   \n",
       "181  French  Eating a balanced diet is the most important f...   \n",
       "174  French  Do people who live in the public eye have a ri...   \n",
       "\n",
       "                                                answer  level  \\\n",
       "179  It brings you everything you need ( vitamins, ...      5   \n",
       "182  Eat well in the evening\\n\\n36. Eat well in the...      5   \n",
       "177  I think that his writing skills are very good....      5   \n",
       "180  They are either using it to get information, o...      5   \n",
       "176  There is no character limit, and the game is s...      5   \n",
       "178  I did not know that I was a bad person, and I ...      5   \n",
       "173  The government has shown that it can make peop...      5   \n",
       "175  I think we can say things that we really want ...      5   \n",
       "181  In addition, they have good health effects. Th...      5   \n",
       "174  It is guaranteed by the Constitution. The righ...      5   \n",
       "\n",
       "         question_type  num_sentences  is_augmented  length  \n",
       "179  Paragraph writing            5.0             1    1852  \n",
       "182  Paragraph writing            9.0             1    1415  \n",
       "177  Paragraph writing           10.0             1    1374  \n",
       "180  Paragraph writing            6.0             1    1144  \n",
       "176  Paragraph writing            6.0             1     632  \n",
       "178  Paragraph writing            8.0             1     593  \n",
       "173  Paragraph writing            3.0             1     360  \n",
       "175  Paragraph writing            3.0             1     323  \n",
       "181  Paragraph writing            3.0             1     284  \n",
       "174  Paragraph writing            5.0             1     238  "
      ]
     },
     "execution_count": 6,
     "metadata": {},
     "output_type": "execute_result"
    }
   ],
   "source": [
    "# Filter the df for augmented answers and arrange them in descending order by length\n",
    "augmented = df[df['is_augmented'] == 1].copy()\n",
    "augmented['length'] = augmented['answer'].apply(len)\n",
    "augmented_sorted = augmented.sort_values(by='length', ascending=False)\n",
    "augmented_sorted.head(10)"
   ]
  },
  {
   "cell_type": "code",
   "execution_count": 7,
   "id": "18d9dc5a",
   "metadata": {},
   "outputs": [
    {
     "data": {
      "text/plain": [
       "'It brings you everything you need ( vitamins, calcium,... ) and keeps away illness. You get the nutrients you need in a healthy way. \\n- The \"healthy\" way to lose weight\\n\\n- The \"fat\" way to lose weight\\n\\n- The \"fat\" way to lose weight\\n\\n- The \"healthy\" way to lose weight\\n\\n- The \"healthy\" way to lose weight\\n\\n- The \"healthy\" way to lose weight\\n\\n- The \"healthy\" way to lose weight\\n\\n- The \"healthy\" way to lose weight\\n\\n- The \"healthy\" way to lose weight\\n\\n- The \"healthy\" way to lose weight\\n\\n- The \"healthy\" way to lose weight\\n\\n- The \"healthy\" way to lose weight\\n\\n- The \"healthy\" way to lose weight\\n\\n- The \"healthy\" way to lose weight\\n\\n- The \"healthy\" way to lose weight\\n\\n- The \"healthy\" way to lose weight\\n\\n- The \"healthy\" way to lose weight\\n\\n- The \"healthy\" way to lose weight\\n\\n- The \"healthy\" way to lose weight\\n\\n- The \"healthy\" way to lose weight\\n\\n- The \"healthy\" way to lose weight\\n\\n- The \"healthy\" way to lose weight\\n\\n- The \"healthy\" way to lose weight\\n\\n- The \"healthy\" way to lose weight\\n\\n- The \"healthy\" way to lose weight\\n\\n- The \"healthy\" way to lose weight\\n\\n- The \"healthy\" way to lose weight\\n\\n- The \"healthy\" way to lose weight\\n\\n- The \"healthy\" way to lose weight\\n\\n- The \"healthy\" way to lose weight\\n\\n- The \"healthy\" way to lose weight\\n\\n- The \"healthy\" way to lose weight\\n\\n- The \"healthy\" way to lose weight\\n\\n- The \"healthy\" way to lose weight\\n\\n- The \"healthy\" way to lose weight\\n\\n- The \"healthy\" way to lose weight\\n\\n- The \"healthy\" way to lose weight\\n\\n- The \"healthy\" way to lose weight\\n\\n- The \"healthy\" way to lose weight\\n\\n- The \"healthy\" way to lose weight\\n\\n- The \"healthy\" way to lose weight\\n\\n- The \"healthy\" way to lose weight\\n\\n- The \"healthy\" way to lose weight\\n\\n- The \"healthy\" way to lose weight\\n\\n- The \"healthy\" way to lose weight\\n\\n- The \"healthy\" way to lose weight\\n\\n- The \"healthy\" way to lose weight\\n\\n- The \"healthy\" way to lose weight'"
      ]
     },
     "execution_count": 7,
     "metadata": {},
     "output_type": "execute_result"
    }
   ],
   "source": [
    "sample_idx = 179\n",
    "sample = augmented_sorted.answer[sample_idx]\n",
    "sample"
   ]
  },
  {
   "cell_type": "markdown",
   "id": "4ae4c96f",
   "metadata": {},
   "source": [
    "Now, let's remove repeating sentences from the augmented answers."
   ]
  },
  {
   "cell_type": "code",
   "execution_count": 8,
   "id": "484895ac",
   "metadata": {},
   "outputs": [],
   "source": [
    "def split_into_sentences(text):\n",
    "    # Define regex pattern to find all sentences in the text\n",
    "    sentences = re.findall(r'[^.!?]+[.!?]', text)\n",
    "    return sentences\n",
    "\n",
    "def remove_repeating_sentence(text):\n",
    "    # Split the text into sentences using custom logic\n",
    "    sentences = split_into_sentences(text)\n",
    "\n",
    "    # Keep track of the last three unique sentences\n",
    "    unique_sentences = []\n",
    "\n",
    "    # Iterate through the sentences\n",
    "    for sentence in sentences:\n",
    "        # If the current sentence is not the same as any of the last three unique sentences, add it\n",
    "        if sentence not in unique_sentences:\n",
    "            unique_sentences.append(sentence)\n",
    "\n",
    "    # Join the remaining unique sentences into a single string\n",
    "    cleaned_text = ' '.join(unique_sentences)\n",
    "    return cleaned_text.strip()"
   ]
  },
  {
   "cell_type": "code",
   "execution_count": 9,
   "id": "cd3a76fb",
   "metadata": {},
   "outputs": [],
   "source": [
    "# Apply the function to rows where \"is_augmented\" is equal to 1\n",
    "df.loc[df['is_augmented'] == 1, 'answer'] = df[df['is_augmented'] == 1]['answer'].apply(remove_repeating_sentence)"
   ]
  },
  {
   "cell_type": "code",
   "execution_count": 10,
   "id": "a712dc59",
   "metadata": {},
   "outputs": [
    {
     "data": {
      "text/html": [
       "<div>\n",
       "<style scoped>\n",
       "    .dataframe tbody tr th:only-of-type {\n",
       "        vertical-align: middle;\n",
       "    }\n",
       "\n",
       "    .dataframe tbody tr th {\n",
       "        vertical-align: top;\n",
       "    }\n",
       "\n",
       "    .dataframe thead th {\n",
       "        text-align: right;\n",
       "    }\n",
       "</style>\n",
       "<table border=\"1\" class=\"dataframe\">\n",
       "  <thead>\n",
       "    <tr style=\"text-align: right;\">\n",
       "      <th></th>\n",
       "      <th>L1</th>\n",
       "      <th>question</th>\n",
       "      <th>answer</th>\n",
       "      <th>level</th>\n",
       "      <th>question_type</th>\n",
       "      <th>num_sentences</th>\n",
       "      <th>is_augmented</th>\n",
       "      <th>length</th>\n",
       "    </tr>\n",
       "  </thead>\n",
       "  <tbody>\n",
       "    <tr>\n",
       "      <th>182</th>\n",
       "      <td>German</td>\n",
       "      <td>Eating a balanced diet is the most important f...</td>\n",
       "      <td>Eat well in the evening\\n\\n36.  Eat well in th...</td>\n",
       "      <td>5</td>\n",
       "      <td>Paragraph writing</td>\n",
       "      <td>9.0</td>\n",
       "      <td>1</td>\n",
       "      <td>1438</td>\n",
       "    </tr>\n",
       "    <tr>\n",
       "      <th>177</th>\n",
       "      <td>French</td>\n",
       "      <td>Do people who live in the public eye have a ri...</td>\n",
       "      <td>I think that his writing skills are very good....</td>\n",
       "      <td>5</td>\n",
       "      <td>Paragraph writing</td>\n",
       "      <td>10.0</td>\n",
       "      <td>1</td>\n",
       "      <td>1394</td>\n",
       "    </tr>\n",
       "    <tr>\n",
       "      <th>180</th>\n",
       "      <td>French</td>\n",
       "      <td>Do people who live in the public eye have a ri...</td>\n",
       "      <td>They are either using it to get information, o...</td>\n",
       "      <td>5</td>\n",
       "      <td>Paragraph writing</td>\n",
       "      <td>6.0</td>\n",
       "      <td>1</td>\n",
       "      <td>1156</td>\n",
       "    </tr>\n",
       "    <tr>\n",
       "      <th>176</th>\n",
       "      <td>French</td>\n",
       "      <td>You are invited to a friend's birthday. You re...</td>\n",
       "      <td>There is no character limit, and the game is s...</td>\n",
       "      <td>5</td>\n",
       "      <td>Paragraph writing</td>\n",
       "      <td>6.0</td>\n",
       "      <td>1</td>\n",
       "      <td>640</td>\n",
       "    </tr>\n",
       "    <tr>\n",
       "      <th>178</th>\n",
       "      <td>French</td>\n",
       "      <td>What is the impact of social networks on relat...</td>\n",
       "      <td>I did not know that I was a bad person, and I ...</td>\n",
       "      <td>5</td>\n",
       "      <td>Paragraph writing</td>\n",
       "      <td>8.0</td>\n",
       "      <td>1</td>\n",
       "      <td>598</td>\n",
       "    </tr>\n",
       "    <tr>\n",
       "      <th>173</th>\n",
       "      <td>French</td>\n",
       "      <td>Do people who live in the public eye have a ri...</td>\n",
       "      <td>The government has shown that it can make peop...</td>\n",
       "      <td>5</td>\n",
       "      <td>Paragraph writing</td>\n",
       "      <td>3.0</td>\n",
       "      <td>1</td>\n",
       "      <td>363</td>\n",
       "    </tr>\n",
       "    <tr>\n",
       "      <th>175</th>\n",
       "      <td>French</td>\n",
       "      <td>What is the impact of social networks on relat...</td>\n",
       "      <td>I think we can say things that we really want ...</td>\n",
       "      <td>5</td>\n",
       "      <td>Paragraph writing</td>\n",
       "      <td>3.0</td>\n",
       "      <td>1</td>\n",
       "      <td>327</td>\n",
       "    </tr>\n",
       "    <tr>\n",
       "      <th>181</th>\n",
       "      <td>French</td>\n",
       "      <td>Eating a balanced diet is the most important f...</td>\n",
       "      <td>In addition, they have good health effects.  T...</td>\n",
       "      <td>5</td>\n",
       "      <td>Paragraph writing</td>\n",
       "      <td>3.0</td>\n",
       "      <td>1</td>\n",
       "      <td>288</td>\n",
       "    </tr>\n",
       "    <tr>\n",
       "      <th>174</th>\n",
       "      <td>French</td>\n",
       "      <td>Do people who live in the public eye have a ri...</td>\n",
       "      <td>It is guaranteed by the Constitution.  The rig...</td>\n",
       "      <td>5</td>\n",
       "      <td>Paragraph writing</td>\n",
       "      <td>5.0</td>\n",
       "      <td>1</td>\n",
       "      <td>240</td>\n",
       "    </tr>\n",
       "    <tr>\n",
       "      <th>184</th>\n",
       "      <td>French</td>\n",
       "      <td>Do people who live in the public eye have a ri...</td>\n",
       "      <td>9.  The media is not trustworthy.  \\nThe media...</td>\n",
       "      <td>5</td>\n",
       "      <td>Paragraph writing</td>\n",
       "      <td>7.0</td>\n",
       "      <td>1</td>\n",
       "      <td>223</td>\n",
       "    </tr>\n",
       "  </tbody>\n",
       "</table>\n",
       "</div>"
      ],
      "text/plain": [
       "         L1                                           question  \\\n",
       "182  German  Eating a balanced diet is the most important f...   \n",
       "177  French  Do people who live in the public eye have a ri...   \n",
       "180  French  Do people who live in the public eye have a ri...   \n",
       "176  French  You are invited to a friend's birthday. You re...   \n",
       "178  French  What is the impact of social networks on relat...   \n",
       "173  French  Do people who live in the public eye have a ri...   \n",
       "175  French  What is the impact of social networks on relat...   \n",
       "181  French  Eating a balanced diet is the most important f...   \n",
       "174  French  Do people who live in the public eye have a ri...   \n",
       "184  French  Do people who live in the public eye have a ri...   \n",
       "\n",
       "                                                answer  level  \\\n",
       "182  Eat well in the evening\\n\\n36.  Eat well in th...      5   \n",
       "177  I think that his writing skills are very good....      5   \n",
       "180  They are either using it to get information, o...      5   \n",
       "176  There is no character limit, and the game is s...      5   \n",
       "178  I did not know that I was a bad person, and I ...      5   \n",
       "173  The government has shown that it can make peop...      5   \n",
       "175  I think we can say things that we really want ...      5   \n",
       "181  In addition, they have good health effects.  T...      5   \n",
       "174  It is guaranteed by the Constitution.  The rig...      5   \n",
       "184  9.  The media is not trustworthy.  \\nThe media...      5   \n",
       "\n",
       "         question_type  num_sentences  is_augmented  length  \n",
       "182  Paragraph writing            9.0             1    1438  \n",
       "177  Paragraph writing           10.0             1    1394  \n",
       "180  Paragraph writing            6.0             1    1156  \n",
       "176  Paragraph writing            6.0             1     640  \n",
       "178  Paragraph writing            8.0             1     598  \n",
       "173  Paragraph writing            3.0             1     363  \n",
       "175  Paragraph writing            3.0             1     327  \n",
       "181  Paragraph writing            3.0             1     288  \n",
       "174  Paragraph writing            5.0             1     240  \n",
       "184  Paragraph writing            7.0             1     223  "
      ]
     },
     "execution_count": 10,
     "metadata": {},
     "output_type": "execute_result"
    }
   ],
   "source": [
    "# Check to see what the longest answers are now that the function has been applied\n",
    "augmented = df[df['is_augmented'] == 1].copy()\n",
    "augmented['length'] = augmented['answer'].apply(len)\n",
    "augmented_sorted = augmented.sort_values(by='length', ascending=False)\n",
    "augmented_sorted.head(10)"
   ]
  },
  {
   "cell_type": "code",
   "execution_count": 11,
   "id": "73a89d52",
   "metadata": {},
   "outputs": [
    {
     "data": {
      "text/plain": [
       "'Eat well in the evening\\n\\n36.  Eat well in the evening\\n\\n37.  Eat well in the evening\\n\\n38.  Eat well in the evening\\n\\n39.  Eat well in the evening\\n\\n40.  Eat well in the evening\\n\\n41.  Eat well in the evening\\n\\n42.  Eat well in the evening\\n\\n43.  Eat well in the evening\\n\\n44.  Eat well in the evening\\n\\n45.  Eat well in the evening\\n\\n46.  Eat well in the evening\\n\\n47.  Eat well in the evening\\n\\n48.  Eat well in the evening\\n\\n49.  Eat well in the evening\\n\\n50.  Eat well in the evening\\n\\n51.  Eat well in the evening\\n\\n52.  Eat well in the evening\\n\\n53.  Eat well in the evening\\n\\n54.  Eat well in the evening\\n\\n55.  Eat well in the evening\\n\\n56.  Eat well in the evening\\n\\n57.  Eat well in the evening\\n\\n58.  Eat well in the evening\\n\\n59.  Eat well in the evening\\n\\n60.  Eat well in the evening\\n\\n61.  Eat well in the evening\\n\\n62.  Eat well in the evening\\n\\n63.  Eat well in the evening\\n\\n64.  Eat well in the evening\\n\\n65.  Eat well in the evening\\n\\n66.  Eat well in the evening\\n\\n67.  Eat well in the evening\\n\\n68.  Eat well in the evening\\n\\n69.  Eat well in the evening\\n\\n70.  Eat well in the evening\\n\\n71.  Eat well in the evening\\n\\n72.  Eat well in the evening\\n\\n73.  Eat well in the evening\\n\\n74.  Eat well in the evening\\n\\n75.  Eat well in the evening\\n\\n76.  Eat well in the evening\\n\\n77.  Eat well in the evening\\n\\n78.  Eat well in the evening\\n\\n79.  Eat well in the evening\\n\\n80.  Eat well in the evening\\n\\n81.  Eat well in the evening\\n\\n82.  Eat well in the evening\\n\\n83.'"
      ]
     },
     "execution_count": 11,
     "metadata": {},
     "output_type": "execute_result"
    }
   ],
   "source": [
    "sample_idx = 182\n",
    "sample = augmented_sorted.answer[sample_idx]\n",
    "sample"
   ]
  },
  {
   "cell_type": "code",
   "execution_count": 12,
   "id": "0f2630ed",
   "metadata": {},
   "outputs": [
    {
     "data": {
      "text/plain": [
       "\"I think that his writing skills are very good.  The best thing about his writing is that he is very open about his sexuality and he doesn't talk about his sexuality too much.  He is very kind and he has a very open mind.  I think that he has the ability to make a lot of great, important and interesting things happen.  \\nI think that Charles Dickens is a great writer and a great person.  He is a very intelligent and very funny man.  I think he has the ability to be a very good teacher.  He is very smart and he has a great sense of humour.  I think that he has a great sense of humour, and he is very good at making things interesting.  \\nI have a friend who is a professional writer.  He is very good at making things interesting and he is very good at making people feel like they are living in a fantasy world.  I think that he is a great writer and a great person.  \\nI am very happy that I have met Charles Dickens.  He is very nice to talk to.  He is very kind and he has a very good sense of humour.  He is very good at making things interesting.  \\nI would like to thank my family and friends for all their support and encouragement.  I would also like to thank my wife, Anna, for her support and encouragement.  \\nThank you for taking the time to read this article.  \\nPlease follow and like us on Facebook and follow us on Twitter.  \\nPlease like us on Facebook and follow us on Twitter.\""
      ]
     },
     "execution_count": 12,
     "metadata": {},
     "output_type": "execute_result"
    }
   ],
   "source": [
    "sample_idx = 177\n",
    "sample = augmented_sorted.answer[sample_idx]\n",
    "sample"
   ]
  },
  {
   "cell_type": "code",
   "execution_count": 13,
   "id": "3276c80f",
   "metadata": {},
   "outputs": [
    {
     "data": {
      "text/plain": [
       "'They are either using it to get information, or are using it to get information about their activities, or are using it to do something else, or they are using it to use your phone to do something else.  It is a very confusing situation.  \\nSo, here is what I am trying to say, that I\\'m trying to help you with this situation.  I\\'m not saying that you should just use this tool, but that you should try to find the right person, and that you should use it as an effective tool.  You need to use it for your own personal gain, so that you can use it for the right purpose, and not for the interests of the people who use it.  If you want to learn more about what this tool is, I suggest you read my article, \"How to Use Google Now for Your Personal Use\".  \\nSo, the next step is to use the tool to find out the person you are talking to.  \\nThe next step is to find out who you are talking to.  \\nYou have to find out who you are talking to.  You have to find out what your phone is doing.  You have to find out who you are talking to.  You have to find out what your activities are doing.  So, you are basically using a tool to find out who you are talking to.'"
      ]
     },
     "execution_count": 13,
     "metadata": {},
     "output_type": "execute_result"
    }
   ],
   "source": [
    "sample_idx = 180\n",
    "sample = augmented_sorted.answer[sample_idx]\n",
    "sample"
   ]
  },
  {
   "cell_type": "markdown",
   "id": "9587df25",
   "metadata": {},
   "source": [
    "<p>The longest paragraphs in the dataframe are repetitive; however, there is only one remaining that has very repetitive sentences. We're going to remove that one data point.</p>"
   ]
  },
  {
   "cell_type": "code",
   "execution_count": 14,
   "id": "4b5395d2",
   "metadata": {},
   "outputs": [],
   "source": [
    "# Remove row with index 182\n",
    "df.drop(index=182, inplace=True)\n",
    "\n",
    "# Reset the index\n",
    "df.reset_index(drop=True, inplace=True)"
   ]
  },
  {
   "cell_type": "markdown",
   "id": "4a198dc2",
   "metadata": {},
   "source": [
    "<p>Since the augmented answers were added after the first time that the number of sentences was calculated, we now need to do a re-calculation. We also want to add a column for the length of each answer.</p>"
   ]
  },
  {
   "cell_type": "code",
   "execution_count": 15,
   "id": "680b99a6",
   "metadata": {},
   "outputs": [],
   "source": [
    "# Define a function to add the number of sentences per text\n",
    "def num_sentences(df):\n",
    "    # Create a copy of the DataFrame to avoid the SettingWithCopyWarning\n",
    "    df = df.copy()\n",
    "    # Iterate over rows in the DataFrame\n",
    "    for index, row in df.iterrows():\n",
    "        # Get the answer text from the DataFrame\n",
    "        answer_text = row['answer']\n",
    "        # Process the answer text with spaCy\n",
    "        doc = nlp(answer_text)\n",
    "        # Initialize variables to accumulate total tokens and count of sentences\n",
    "        num_sentences = 0\n",
    "        # Iterate over sentences and accumulate total tokens\n",
    "        for sentence in doc.sents:\n",
    "            num_sentences += 1\n",
    "        # Add num_sentences in the DataFrame\n",
    "        df.loc[index, 'num_sentences'] = num_sentences\n",
    "    return df"
   ]
  },
  {
   "cell_type": "code",
   "execution_count": 16,
   "id": "6fd989c0",
   "metadata": {},
   "outputs": [],
   "source": [
    "df = num_sentences(df)"
   ]
  },
  {
   "cell_type": "code",
   "execution_count": 17,
   "id": "3c1cc02f",
   "metadata": {},
   "outputs": [],
   "source": [
    "df['length'] = df['answer'].apply(len)"
   ]
  },
  {
   "cell_type": "markdown",
   "id": "72e5806e",
   "metadata": {},
   "source": [
    "I'm also going to add a column that indicates that the data from this set comes from the ASAG dataset, so that when I merge all the data later, it'll be easily identifiable."
   ]
  },
  {
   "cell_type": "code",
   "execution_count": 18,
   "id": "a2fedaf9",
   "metadata": {},
   "outputs": [],
   "source": [
    "df['dataset'] = 'ASAG'"
   ]
  },
  {
   "cell_type": "code",
   "execution_count": 19,
   "id": "f2de4ff1",
   "metadata": {},
   "outputs": [
    {
     "name": "stdout",
     "output_type": "stream",
     "text": [
      "<class 'pandas.core.frame.DataFrame'>\n",
      "RangeIndex: 184 entries, 0 to 183\n",
      "Data columns (total 9 columns):\n",
      " #   Column         Non-Null Count  Dtype  \n",
      "---  ------         --------------  -----  \n",
      " 0   L1             184 non-null    object \n",
      " 1   question       184 non-null    object \n",
      " 2   answer         184 non-null    object \n",
      " 3   level          184 non-null    int64  \n",
      " 4   question_type  184 non-null    object \n",
      " 5   num_sentences  184 non-null    float64\n",
      " 6   is_augmented   184 non-null    int32  \n",
      " 7   length         184 non-null    int64  \n",
      " 8   dataset        184 non-null    object \n",
      "dtypes: float64(1), int32(1), int64(2), object(5)\n",
      "memory usage: 12.3+ KB\n"
     ]
    }
   ],
   "source": [
    "df.info()"
   ]
  },
  {
   "cell_type": "code",
   "execution_count": 20,
   "id": "714393ca",
   "metadata": {},
   "outputs": [
    {
     "data": {
      "text/html": [
       "<div>\n",
       "<style scoped>\n",
       "    .dataframe tbody tr th:only-of-type {\n",
       "        vertical-align: middle;\n",
       "    }\n",
       "\n",
       "    .dataframe tbody tr th {\n",
       "        vertical-align: top;\n",
       "    }\n",
       "\n",
       "    .dataframe thead th {\n",
       "        text-align: right;\n",
       "    }\n",
       "</style>\n",
       "<table border=\"1\" class=\"dataframe\">\n",
       "  <thead>\n",
       "    <tr style=\"text-align: right;\">\n",
       "      <th></th>\n",
       "      <th>L1</th>\n",
       "      <th>question</th>\n",
       "      <th>answer</th>\n",
       "      <th>level</th>\n",
       "      <th>question_type</th>\n",
       "      <th>num_sentences</th>\n",
       "      <th>is_augmented</th>\n",
       "      <th>length</th>\n",
       "      <th>dataset</th>\n",
       "    </tr>\n",
       "  </thead>\n",
       "  <tbody>\n",
       "    <tr>\n",
       "      <th>0</th>\n",
       "      <td>French</td>\n",
       "      <td>What are your daily habits? What time do you g...</td>\n",
       "      <td>everyday i get up at 8 a clock. I always turn ...</td>\n",
       "      <td>2</td>\n",
       "      <td>Paragraph writing</td>\n",
       "      <td>9.0</td>\n",
       "      <td>0</td>\n",
       "      <td>248</td>\n",
       "      <td>ASAG</td>\n",
       "    </tr>\n",
       "    <tr>\n",
       "      <th>1</th>\n",
       "      <td>French</td>\n",
       "      <td>Describe your family.</td>\n",
       "      <td>I have one sister, she is married and she has ...</td>\n",
       "      <td>2</td>\n",
       "      <td>Paragraph writing</td>\n",
       "      <td>5.0</td>\n",
       "      <td>0</td>\n",
       "      <td>293</td>\n",
       "      <td>ASAG</td>\n",
       "    </tr>\n",
       "    <tr>\n",
       "      <th>2</th>\n",
       "      <td>French</td>\n",
       "      <td>Describe your family.</td>\n",
       "      <td>I have a mother and a father and they are stil...</td>\n",
       "      <td>2</td>\n",
       "      <td>Paragraph writing</td>\n",
       "      <td>3.0</td>\n",
       "      <td>0</td>\n",
       "      <td>204</td>\n",
       "      <td>ASAG</td>\n",
       "    </tr>\n",
       "    <tr>\n",
       "      <th>3</th>\n",
       "      <td>French</td>\n",
       "      <td>Describe your hobbies.</td>\n",
       "      <td>I really like playing video games online with ...</td>\n",
       "      <td>2</td>\n",
       "      <td>Paragraph writing</td>\n",
       "      <td>3.0</td>\n",
       "      <td>0</td>\n",
       "      <td>175</td>\n",
       "      <td>ASAG</td>\n",
       "    </tr>\n",
       "    <tr>\n",
       "      <th>4</th>\n",
       "      <td>French</td>\n",
       "      <td>Describe your family.</td>\n",
       "      <td>I have a little family, i live with my father ...</td>\n",
       "      <td>2</td>\n",
       "      <td>Paragraph writing</td>\n",
       "      <td>4.0</td>\n",
       "      <td>0</td>\n",
       "      <td>235</td>\n",
       "      <td>ASAG</td>\n",
       "    </tr>\n",
       "  </tbody>\n",
       "</table>\n",
       "</div>"
      ],
      "text/plain": [
       "       L1                                           question  \\\n",
       "0  French  What are your daily habits? What time do you g...   \n",
       "1  French                              Describe your family.   \n",
       "2  French                              Describe your family.   \n",
       "3  French                             Describe your hobbies.   \n",
       "4  French                              Describe your family.   \n",
       "\n",
       "                                              answer  level  \\\n",
       "0  everyday i get up at 8 a clock. I always turn ...      2   \n",
       "1  I have one sister, she is married and she has ...      2   \n",
       "2  I have a mother and a father and they are stil...      2   \n",
       "3  I really like playing video games online with ...      2   \n",
       "4  I have a little family, i live with my father ...      2   \n",
       "\n",
       "       question_type  num_sentences  is_augmented  length dataset  \n",
       "0  Paragraph writing            9.0             0     248    ASAG  \n",
       "1  Paragraph writing            5.0             0     293    ASAG  \n",
       "2  Paragraph writing            3.0             0     204    ASAG  \n",
       "3  Paragraph writing            3.0             0     175    ASAG  \n",
       "4  Paragraph writing            4.0             0     235    ASAG  "
      ]
     },
     "execution_count": 20,
     "metadata": {},
     "output_type": "execute_result"
    }
   ],
   "source": [
    "df.head()"
   ]
  },
  {
   "cell_type": "markdown",
   "id": "8560935b",
   "metadata": {},
   "source": [
    "## Balance the dataset by level"
   ]
  },
  {
   "cell_type": "code",
   "execution_count": 21,
   "id": "9d2ed6ea",
   "metadata": {},
   "outputs": [
    {
     "data": {
      "text/plain": [
       "level\n",
       "3    71\n",
       "2    50\n",
       "4    38\n",
       "5    25\n",
       "Name: count, dtype: int64"
      ]
     },
     "execution_count": 21,
     "metadata": {},
     "output_type": "execute_result"
    }
   ],
   "source": [
    "df.level.value_counts()"
   ]
  },
  {
   "cell_type": "code",
   "execution_count": 22,
   "id": "7dc46e75",
   "metadata": {},
   "outputs": [],
   "source": [
    "# Select 25 longest answers from level 2\n",
    "level_2_sorted = df[df.level == 2].sort_values(by='length', ascending=False)\n",
    "level_2_selected = level_2_sorted.head(25).copy()\n",
    "\n",
    "# Select 25 longest answers from level 3\n",
    "level_3_sorted = df[df.level == 3].sort_values(by='length', ascending=False)\n",
    "level_3_selected = level_3_sorted.head(25).copy()\n",
    "\n",
    "# Select 25 longest answers from level 4\n",
    "level_4_sorted = df[df.level == 4].sort_values(by='length', ascending=False)\n",
    "level_4_selected = level_4_sorted.head(25).copy()\n",
    "\n",
    "# Select all from level 5\n",
    "level_5_selected = df[df.level == 5].copy()"
   ]
  },
  {
   "cell_type": "code",
   "execution_count": 23,
   "id": "e79ac20a",
   "metadata": {},
   "outputs": [
    {
     "name": "stdout",
     "output_type": "stream",
     "text": [
      "25\n",
      "25\n",
      "25\n",
      "25\n"
     ]
    }
   ],
   "source": [
    "print(len(level_2_selected))\n",
    "print(len(level_3_selected))\n",
    "print(len(level_4_selected))\n",
    "print(len(level_5_selected))"
   ]
  },
  {
   "cell_type": "code",
   "execution_count": 24,
   "id": "ed6024d0",
   "metadata": {},
   "outputs": [],
   "source": [
    "# Merge all dataframes into a single dataframe\n",
    "merged_df = pd.concat([level_2_selected, level_3_selected, level_4_selected, level_5_selected])"
   ]
  },
  {
   "cell_type": "code",
   "execution_count": 25,
   "id": "56490ecd",
   "metadata": {},
   "outputs": [
    {
     "data": {
      "text/html": [
       "<div>\n",
       "<style scoped>\n",
       "    .dataframe tbody tr th:only-of-type {\n",
       "        vertical-align: middle;\n",
       "    }\n",
       "\n",
       "    .dataframe tbody tr th {\n",
       "        vertical-align: top;\n",
       "    }\n",
       "\n",
       "    .dataframe thead th {\n",
       "        text-align: right;\n",
       "    }\n",
       "</style>\n",
       "<table border=\"1\" class=\"dataframe\">\n",
       "  <thead>\n",
       "    <tr style=\"text-align: right;\">\n",
       "      <th></th>\n",
       "      <th>L1</th>\n",
       "      <th>question</th>\n",
       "      <th>answer</th>\n",
       "      <th>level</th>\n",
       "      <th>question_type</th>\n",
       "      <th>num_sentences</th>\n",
       "      <th>is_augmented</th>\n",
       "      <th>length</th>\n",
       "      <th>dataset</th>\n",
       "    </tr>\n",
       "  </thead>\n",
       "  <tbody>\n",
       "    <tr>\n",
       "      <th>124</th>\n",
       "      <td>French</td>\n",
       "      <td>Imagine your life in 10 years time. What will ...</td>\n",
       "      <td>My life in 10 years time will be Happy !!! i h...</td>\n",
       "      <td>2</td>\n",
       "      <td>Paragraph writing</td>\n",
       "      <td>20.0</td>\n",
       "      <td>0</td>\n",
       "      <td>1364</td>\n",
       "      <td>ASAG</td>\n",
       "    </tr>\n",
       "    <tr>\n",
       "      <th>90</th>\n",
       "      <td>French</td>\n",
       "      <td>Describe your family.</td>\n",
       "      <td>I'm seventy seven,years old. I've got a big fa...</td>\n",
       "      <td>2</td>\n",
       "      <td>Paragraph writing</td>\n",
       "      <td>16.0</td>\n",
       "      <td>0</td>\n",
       "      <td>869</td>\n",
       "      <td>ASAG</td>\n",
       "    </tr>\n",
       "    <tr>\n",
       "      <th>126</th>\n",
       "      <td>French</td>\n",
       "      <td>Share a memory of a holiday. Where was it, who...</td>\n",
       "      <td>Last year, I went to Antalya for ten days with...</td>\n",
       "      <td>2</td>\n",
       "      <td>Paragraph writing</td>\n",
       "      <td>10.0</td>\n",
       "      <td>0</td>\n",
       "      <td>625</td>\n",
       "      <td>ASAG</td>\n",
       "    </tr>\n",
       "    <tr>\n",
       "      <th>105</th>\n",
       "      <td>Arabic</td>\n",
       "      <td>Share a memory of a holiday. Where was it, who...</td>\n",
       "      <td>Idream to fly again to Moskow, where i was in ...</td>\n",
       "      <td>2</td>\n",
       "      <td>Paragraph writing</td>\n",
       "      <td>9.0</td>\n",
       "      <td>0</td>\n",
       "      <td>620</td>\n",
       "      <td>ASAG</td>\n",
       "    </tr>\n",
       "    <tr>\n",
       "      <th>9</th>\n",
       "      <td>French</td>\n",
       "      <td>Share a memory of a holiday. Where was it, who...</td>\n",
       "      <td>Last week was the easter break. The first real...</td>\n",
       "      <td>2</td>\n",
       "      <td>Paragraph writing</td>\n",
       "      <td>11.0</td>\n",
       "      <td>0</td>\n",
       "      <td>599</td>\n",
       "      <td>ASAG</td>\n",
       "    </tr>\n",
       "  </tbody>\n",
       "</table>\n",
       "</div>"
      ],
      "text/plain": [
       "         L1                                           question  \\\n",
       "124  French  Imagine your life in 10 years time. What will ...   \n",
       "90   French                              Describe your family.   \n",
       "126  French  Share a memory of a holiday. Where was it, who...   \n",
       "105  Arabic  Share a memory of a holiday. Where was it, who...   \n",
       "9    French  Share a memory of a holiday. Where was it, who...   \n",
       "\n",
       "                                                answer  level  \\\n",
       "124  My life in 10 years time will be Happy !!! i h...      2   \n",
       "90   I'm seventy seven,years old. I've got a big fa...      2   \n",
       "126  Last year, I went to Antalya for ten days with...      2   \n",
       "105  Idream to fly again to Moskow, where i was in ...      2   \n",
       "9    Last week was the easter break. The first real...      2   \n",
       "\n",
       "         question_type  num_sentences  is_augmented  length dataset  \n",
       "124  Paragraph writing           20.0             0    1364    ASAG  \n",
       "90   Paragraph writing           16.0             0     869    ASAG  \n",
       "126  Paragraph writing           10.0             0     625    ASAG  \n",
       "105  Paragraph writing            9.0             0     620    ASAG  \n",
       "9    Paragraph writing           11.0             0     599    ASAG  "
      ]
     },
     "execution_count": 25,
     "metadata": {},
     "output_type": "execute_result"
    }
   ],
   "source": [
    "merged_df.head()"
   ]
  },
  {
   "cell_type": "code",
   "execution_count": 26,
   "id": "68d57b85",
   "metadata": {},
   "outputs": [
    {
     "name": "stdout",
     "output_type": "stream",
     "text": [
      "<class 'pandas.core.frame.DataFrame'>\n",
      "Index: 100 entries, 124 to 183\n",
      "Data columns (total 9 columns):\n",
      " #   Column         Non-Null Count  Dtype  \n",
      "---  ------         --------------  -----  \n",
      " 0   L1             100 non-null    object \n",
      " 1   question       100 non-null    object \n",
      " 2   answer         100 non-null    object \n",
      " 3   level          100 non-null    int64  \n",
      " 4   question_type  100 non-null    object \n",
      " 5   num_sentences  100 non-null    float64\n",
      " 6   is_augmented   100 non-null    int32  \n",
      " 7   length         100 non-null    int64  \n",
      " 8   dataset        100 non-null    object \n",
      "dtypes: float64(1), int32(1), int64(2), object(5)\n",
      "memory usage: 7.4+ KB\n"
     ]
    }
   ],
   "source": [
    "merged_df.info()"
   ]
  },
  {
   "cell_type": "code",
   "execution_count": 27,
   "id": "60509ee0",
   "metadata": {},
   "outputs": [
    {
     "data": {
      "text/plain": [
       "level\n",
       "2    25\n",
       "3    25\n",
       "4    25\n",
       "5    25\n",
       "Name: count, dtype: int64"
      ]
     },
     "execution_count": 27,
     "metadata": {},
     "output_type": "execute_result"
    }
   ],
   "source": [
    "merged_df.level.value_counts()"
   ]
  },
  {
   "cell_type": "code",
   "execution_count": 29,
   "id": "ad80e8af",
   "metadata": {},
   "outputs": [],
   "source": [
    "merged_df.to_csv('../data/ASAG_balanced.csv')"
   ]
  }
 ],
 "metadata": {
  "kernelspec": {
   "display_name": "Python 3 (ipykernel)",
   "language": "python",
   "name": "python3"
  },
  "language_info": {
   "codemirror_mode": {
    "name": "ipython",
    "version": 3
   },
   "file_extension": ".py",
   "mimetype": "text/x-python",
   "name": "python",
   "nbconvert_exporter": "python",
   "pygments_lexer": "ipython3",
   "version": "3.11.5"
  }
 },
 "nbformat": 4,
 "nbformat_minor": 5
}
