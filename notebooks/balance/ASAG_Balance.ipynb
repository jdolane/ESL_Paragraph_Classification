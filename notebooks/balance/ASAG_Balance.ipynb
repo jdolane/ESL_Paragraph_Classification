{
 "cells": [
  {
   "cell_type": "markdown",
   "id": "8d3ad1dd",
   "metadata": {},
   "source": [
    "# Balance the ASAG Dataset\n",
    "This notebook is to balance the ASAG dataset"
   ]
  },
  {
   "cell_type": "code",
   "execution_count": 1,
   "id": "0a503197",
   "metadata": {},
   "outputs": [],
   "source": [
    "# Import libraries\n",
    "import pandas as pd\n",
    "import matplotlib.pyplot as plt\n",
    "import seaborn as sns"
   ]
  },
  {
   "cell_type": "code",
   "execution_count": 2,
   "id": "2e6c6630",
   "metadata": {},
   "outputs": [],
   "source": [
    "df = pd.read_csv('../data/ASAG_augmented.csv').drop(['Unnamed: 0'],axis=1)"
   ]
  },
  {
   "cell_type": "code",
   "execution_count": 3,
   "id": "ff2ba483",
   "metadata": {},
   "outputs": [
    {
     "name": "stdout",
     "output_type": "stream",
     "text": [
      "<class 'pandas.core.frame.DataFrame'>\n",
      "RangeIndex: 298 entries, 0 to 297\n",
      "Data columns (total 20 columns):\n",
      " #   Column           Non-Null Count  Dtype  \n",
      "---  ------           --------------  -----  \n",
      " 0   file_name        298 non-null    object \n",
      " 1   age_participant  298 non-null    int64  \n",
      " 2   sex_participant  298 non-null    object \n",
      " 3   education        298 non-null    object \n",
      " 4   L1               298 non-null    object \n",
      " 5   sex_examiner1    298 non-null    object \n",
      " 6   sex_examiner2    298 non-null    object \n",
      " 7   sex_examiner3    298 non-null    object \n",
      " 8   setting          298 non-null    object \n",
      " 9   question         298 non-null    object \n",
      " 10  word_limit       298 non-null    object \n",
      " 11  level_course     298 non-null    int64  \n",
      " 12  answer           298 non-null    object \n",
      " 13  grade_examiner1  298 non-null    int64  \n",
      " 14  grade_examiner2  296 non-null    float64\n",
      " 15  grade_examiner3  298 non-null    int64  \n",
      " 16  level            298 non-null    int64  \n",
      " 17  question_type    298 non-null    object \n",
      " 18  dataset          298 non-null    object \n",
      " 19  is_augmented     298 non-null    int64  \n",
      "dtypes: float64(1), int64(6), object(13)\n",
      "memory usage: 46.7+ KB\n"
     ]
    }
   ],
   "source": [
    "df.info()"
   ]
  },
  {
   "cell_type": "code",
   "execution_count": 4,
   "id": "a30e3792",
   "metadata": {},
   "outputs": [
    {
     "data": {
      "text/plain": [
       "level\n",
       "3    97\n",
       "4    67\n",
       "2    54\n",
       "5    28\n",
       "1    17\n",
       "6     5\n",
       "Name: count, dtype: int64"
      ]
     },
     "execution_count": 4,
     "metadata": {},
     "output_type": "execute_result"
    }
   ],
   "source": [
    "# Look at the level distribution for the non-augmented data\n",
    "df[df.is_augmented == 0].level.value_counts()"
   ]
  },
  {
   "cell_type": "code",
   "execution_count": 5,
   "id": "e00779be",
   "metadata": {},
   "outputs": [
    {
     "data": {
      "text/plain": [
       "level\n",
       "5    28\n",
       "2     2\n",
       "Name: count, dtype: int64"
      ]
     },
     "execution_count": 5,
     "metadata": {},
     "output_type": "execute_result"
    }
   ],
   "source": [
    "# Look at the level distribution for the augmented data\n",
    "df[df.is_augmented == 1].level.value_counts()"
   ]
  },
  {
   "cell_type": "code",
   "execution_count": 6,
   "id": "380a02d4",
   "metadata": {},
   "outputs": [
    {
     "data": {
      "text/plain": [
       "level\n",
       "3    97\n",
       "4    67\n",
       "2    56\n",
       "5    56\n",
       "1    17\n",
       "6     5\n",
       "Name: count, dtype: int64"
      ]
     },
     "execution_count": 6,
     "metadata": {},
     "output_type": "execute_result"
    }
   ],
   "source": [
    "# Look at the level distribution of all the data\n",
    "df.level.value_counts()"
   ]
  },
  {
   "cell_type": "code",
   "execution_count": 7,
   "id": "87722104",
   "metadata": {},
   "outputs": [
    {
     "data": {
      "image/png": "[encoded data removed]",
      "text/plain": [
       "<Figure size 1000x600 with 1 Axes>"
      ]
     },
     "metadata": {},
     "output_type": "display_data"
    }
   ],
   "source": [
    "# Create a count plot\n",
    "plt.figure(figsize=(10, 6))\n",
    "sns.countplot(data=df, x='level', hue='is_augmented')\n",
    "\n",
    "# Add labels and title\n",
    "plt.xlabel('Level')\n",
    "plt.ylabel('Count')\n",
    "plt.title('Count of Augmented Rows by Level')\n",
    "\n",
    "# Display the plot\n",
    "plt.show()"
   ]
  },
  {
   "cell_type": "code",
   "execution_count": 8,
   "id": "9eaa8a14",
   "metadata": {},
   "outputs": [],
   "source": [
    "# Divide the df by levels and order them by the longest answers\n",
    "level_2 = df[df.level == 2].copy()\n",
    "level_5 = df[df.level == 5].copy()\n",
    "\n",
    "level_3 = df[df.level == 3].copy()\n",
    "level_3['length'] = level_3['answer'].apply(len)\n",
    "level_3_sorted = level_3.sort_values(by='length', ascending=False)\n",
    "\n",
    "level_4 = df[df.level == 4].copy()\n",
    "level_4['length'] = level_4['answer'].apply(len)\n",
    "level_4_sorted = level_4.sort_values(by='length', ascending=False)"
   ]
  },
  {
   "cell_type": "code",
   "execution_count": 9,
   "id": "36edd8b4",
   "metadata": {},
   "outputs": [],
   "source": [
    "# Define a function to conserve answer length and question variability\n",
    "def select_unique_rows(df, num_answers):\n",
    "    '''\n",
    "    Iterates through the questions in the dataframe\n",
    "    and appends the row to a new dataframe,\n",
    "    only if the question is not already in the new dataframe.\n",
    "    If necessary, allows for repeats by selecting the longest answers.\n",
    "    '''\n",
    "    # Create an empty list to store unique rows\n",
    "    unique_rows = []\n",
    "\n",
    "    # Iterate through the DataFrame\n",
    "    for index, row in df.iterrows():\n",
    "        # Check if the question is already in unique_df\n",
    "        if row['question'] not in [r['question'] for r in unique_rows]:\n",
    "            # Append the row to unique_rows\n",
    "            unique_rows.append(row)\n",
    "            # Check if unique_df has reached the desired length\n",
    "            if len(unique_rows) == num_answers:\n",
    "                break\n",
    "\n",
    "    # If the desired number of answers has not been reached,\n",
    "    # allow repeats by selecting the longest answers\n",
    "    while len(unique_rows) < num_answers:\n",
    "        longest_answer_row = df.loc[df['answer'].apply(len).idxmax()]\n",
    "        unique_rows.append(longest_answer_row)\n",
    "    \n",
    "    # Convert the list of DataFrames to a DataFrame\n",
    "    unique_df = pd.DataFrame(unique_rows)\n",
    "    \n",
    "    return unique_df"
   ]
  },
  {
   "cell_type": "code",
   "execution_count": 10,
   "id": "09bedd04",
   "metadata": {},
   "outputs": [],
   "source": [
    "# Apply the function to each level\n",
    "level_3_selected = select_unique_rows(level_3_sorted, 56)\n",
    "level_4_selected = select_unique_rows(level_4_sorted, 56)"
   ]
  },
  {
   "cell_type": "code",
   "execution_count": 11,
   "id": "74b81e06",
   "metadata": {},
   "outputs": [],
   "source": [
    "# Merge all of the dataframes and reset the index\n",
    "merged_df = pd.concat([level_2, level_3_selected, level_4_selected, level_5]).reset_index(drop=True)\n",
    "# Drop the length column that had been added only for the purpose of the function\n",
    "merged_df = merged_df.drop(['length'],axis=1)"
   ]
  },
  {
   "cell_type": "code",
   "execution_count": 12,
   "id": "a9705da3",
   "metadata": {},
   "outputs": [
    {
     "name": "stdout",
     "output_type": "stream",
     "text": [
      "<class 'pandas.core.frame.DataFrame'>\n",
      "RangeIndex: 224 entries, 0 to 223\n",
      "Data columns (total 20 columns):\n",
      " #   Column           Non-Null Count  Dtype  \n",
      "---  ------           --------------  -----  \n",
      " 0   file_name        224 non-null    object \n",
      " 1   age_participant  224 non-null    int64  \n",
      " 2   sex_participant  224 non-null    object \n",
      " 3   education        224 non-null    object \n",
      " 4   L1               224 non-null    object \n",
      " 5   sex_examiner1    224 non-null    object \n",
      " 6   sex_examiner2    224 non-null    object \n",
      " 7   sex_examiner3    224 non-null    object \n",
      " 8   setting          224 non-null    object \n",
      " 9   question         224 non-null    object \n",
      " 10  word_limit       224 non-null    object \n",
      " 11  level_course     224 non-null    int64  \n",
      " 12  answer           224 non-null    object \n",
      " 13  grade_examiner1  224 non-null    int64  \n",
      " 14  grade_examiner2  222 non-null    float64\n",
      " 15  grade_examiner3  224 non-null    int64  \n",
      " 16  level            224 non-null    int64  \n",
      " 17  question_type    224 non-null    object \n",
      " 18  dataset          224 non-null    object \n",
      " 19  is_augmented     224 non-null    int64  \n",
      "dtypes: float64(1), int64(6), object(13)\n",
      "memory usage: 35.1+ KB\n"
     ]
    }
   ],
   "source": [
    "merged_df.info()"
   ]
  },
  {
   "cell_type": "code",
   "execution_count": 13,
   "id": "843e8c88",
   "metadata": {},
   "outputs": [
    {
     "data": {
      "text/plain": [
       "level\n",
       "2    56\n",
       "3    56\n",
       "4    56\n",
       "5    56\n",
       "Name: count, dtype: int64"
      ]
     },
     "execution_count": 13,
     "metadata": {},
     "output_type": "execute_result"
    }
   ],
   "source": [
    "# Look at the level distribution after the data selection\n",
    "merged_df.level.value_counts()"
   ]
  },
  {
   "cell_type": "code",
   "execution_count": 14,
   "id": "71d3399e",
   "metadata": {},
   "outputs": [
    {
     "data": {
      "image/png": "[encoded data removed]",
      "text/plain": [
       "<Figure size 1000x600 with 1 Axes>"
      ]
     },
     "metadata": {},
     "output_type": "display_data"
    }
   ],
   "source": [
    "# Create a count plot\n",
    "plt.figure(figsize=(10, 6))\n",
    "sns.countplot(data=merged_df, x='level', hue='is_augmented')\n",
    "\n",
    "# Add labels and title\n",
    "plt.xlabel('Level')\n",
    "plt.ylabel('Count')\n",
    "plt.title('Count of Augmented Rows by Level')\n",
    "\n",
    "# Display the plot\n",
    "plt.show()"
   ]
  },
  {
   "cell_type": "code",
   "execution_count": 15,
   "id": "08b767d9",
   "metadata": {},
   "outputs": [],
   "source": [
    "merged_df.to_csv('../data/ASAG_balanced.csv')"
   ]
  }
 ],
 "metadata": {
  "kernelspec": {
   "display_name": "Python 3 (ipykernel)",
   "language": "python",
   "name": "python3"
  },
  "language_info": {
   "codemirror_mode": {
    "name": "ipython",
    "version": 3
   },
   "file_extension": ".py",
   "mimetype": "text/x-python",
   "name": "python",
   "nbconvert_exporter": "python",
   "pygments_lexer": "ipython3",
   "version": "3.11.5"
  }
 },
 "nbformat": 4,
 "nbformat_minor": 5
}
