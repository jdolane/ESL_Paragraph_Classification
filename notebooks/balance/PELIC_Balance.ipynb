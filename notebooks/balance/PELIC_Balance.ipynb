{
 "cells": [
  {
   "cell_type": "markdown",
   "id": "d4ea1b4d",
   "metadata": {},
   "source": [
    "# Balance the PELIC Dataset\n",
    "This notebook is to balance the augmented PELIC dataset."
   ]
  },
  {
   "cell_type": "code",
   "execution_count": 1,
   "id": "c3164105",
   "metadata": {},
   "outputs": [],
   "source": [
    "# Import libraries\n",
    "import pandas as pd\n",
    "import matplotlib.pyplot as plt\n",
    "import seaborn as sns"
   ]
  },
  {
   "cell_type": "code",
   "execution_count": 2,
   "id": "c8a71130",
   "metadata": {},
   "outputs": [],
   "source": [
    "df = pd.read_csv('../data/PELIC_augmented.csv').drop(['Unnamed: 0'],axis=1)"
   ]
  },
  {
   "cell_type": "code",
   "execution_count": 3,
   "id": "a7adaf92",
   "metadata": {},
   "outputs": [
    {
     "name": "stdout",
     "output_type": "stream",
     "text": [
      "<class 'pandas.core.frame.DataFrame'>\n",
      "RangeIndex: 31948 entries, 0 to 31947\n",
      "Data columns (total 19 columns):\n",
      " #   Column            Non-Null Count  Dtype  \n",
      "---  ------            --------------  -----  \n",
      " 0   answer_id         31948 non-null  int64  \n",
      " 1   question_id       31948 non-null  int64  \n",
      " 2   anon_id           31948 non-null  object \n",
      " 3   course_id         31948 non-null  int64  \n",
      " 4   created_date      31948 non-null  object \n",
      " 5   text_len          31948 non-null  int64  \n",
      " 6   answer            31931 non-null  object \n",
      " 7   tokens            31948 non-null  object \n",
      " 8   tok_lem_POS       31948 non-null  object \n",
      " 9   question_type_id  31948 non-null  float64\n",
      " 10  question          31948 non-null  object \n",
      " 11  allow_text        31948 non-null  float64\n",
      " 12  gender            31948 non-null  object \n",
      " 13  L1                31948 non-null  object \n",
      " 14  class_id          31948 non-null  object \n",
      " 15  level             31948 non-null  int64  \n",
      " 16  question_type     31948 non-null  object \n",
      " 17  dataset           31948 non-null  object \n",
      " 18  is_augmented      31948 non-null  int64  \n",
      "dtypes: float64(2), int64(6), object(11)\n",
      "memory usage: 4.6+ MB\n"
     ]
    }
   ],
   "source": [
    "df.info()"
   ]
  },
  {
   "cell_type": "code",
   "execution_count": 4,
   "id": "d287976a",
   "metadata": {},
   "outputs": [
    {
     "data": {
      "text/plain": [
       "level\n",
       "4    12163\n",
       "5    10094\n",
       "3     7993\n",
       "2      849\n",
       "Name: count, dtype: int64"
      ]
     },
     "execution_count": 4,
     "metadata": {},
     "output_type": "execute_result"
    }
   ],
   "source": [
    "# Look at the level distribution for the non-augmented data\n",
    "df[df.is_augmented == 0].level.value_counts()"
   ]
  },
  {
   "cell_type": "code",
   "execution_count": 5,
   "id": "fc1b8d81",
   "metadata": {},
   "outputs": [
    {
     "data": {
      "text/plain": [
       "level\n",
       "2    849\n",
       "Name: count, dtype: int64"
      ]
     },
     "execution_count": 5,
     "metadata": {},
     "output_type": "execute_result"
    }
   ],
   "source": [
    "# Look at the level distribution for the augmented data\n",
    "df[df.is_augmented == 1].level.value_counts()"
   ]
  },
  {
   "cell_type": "code",
   "execution_count": 6,
   "id": "b72daf09",
   "metadata": {},
   "outputs": [
    {
     "data": {
      "text/plain": [
       "level\n",
       "4    12163\n",
       "5    10094\n",
       "3     7993\n",
       "2     1698\n",
       "Name: count, dtype: int64"
      ]
     },
     "execution_count": 6,
     "metadata": {},
     "output_type": "execute_result"
    }
   ],
   "source": [
    "# Look at the level distribution of all the data\n",
    "df.level.value_counts()"
   ]
  },
  {
   "cell_type": "code",
   "execution_count": 7,
   "id": "3dfa9a6f",
   "metadata": {},
   "outputs": [
    {
     "data": {
      "image/png": "[encoded data removed]",
      "text/plain": [
       "<Figure size 1000x600 with 1 Axes>"
      ]
     },
     "metadata": {},
     "output_type": "display_data"
    }
   ],
   "source": [
    "# Create a count plot\n",
    "plt.figure(figsize=(10, 6))\n",
    "sns.countplot(data=df, x='level', hue='is_augmented')\n",
    "\n",
    "# Add labels and title\n",
    "plt.xlabel('Level')\n",
    "plt.ylabel('Count')\n",
    "plt.title('Count of Augmented Rows by Level')\n",
    "\n",
    "# Display the plot\n",
    "plt.show()"
   ]
  },
  {
   "cell_type": "code",
   "execution_count": 8,
   "id": "8f2ad143",
   "metadata": {},
   "outputs": [],
   "source": [
    "# Divide the df by levels and order them by the longest answers\n",
    "level_2 = df[df.level == 2].copy()\n",
    "\n",
    "level_3 = df[df.level == 3].copy()\n",
    "level_3['length'] = level_3['answer'].apply(len)\n",
    "level_3_sorted = level_3.sort_values(by='length', ascending=False)\n",
    "\n",
    "level_4 = df[df.level == 4].copy()\n",
    "level_4['length'] = level_4['answer'].apply(len)\n",
    "level_4_sorted = level_4.sort_values(by='length', ascending=False)\n",
    "\n",
    "level_5 = df[df.level == 5].copy()\n",
    "level_5['length'] = level_5['answer'].apply(len)\n",
    "level_5_sorted = level_5.sort_values(by='length', ascending=False)"
   ]
  },
  {
   "cell_type": "code",
   "execution_count": 9,
   "id": "29aa5429",
   "metadata": {},
   "outputs": [],
   "source": [
    "# Define a function to conserve answer length and question variability\n",
    "def select_unique_rows(df, num_answers):\n",
    "    '''\n",
    "    Iterates through the questions in the dataframe\n",
    "    and appends the row to a new dataframe,\n",
    "    only if the question is not already in the new dataframe.\n",
    "    If necessary, allows for repeats by selecting the longest answers.\n",
    "    '''\n",
    "    # Create an empty list to store unique rows\n",
    "    unique_rows = []\n",
    "\n",
    "    # Iterate through the DataFrame\n",
    "    for index, row in df.iterrows():\n",
    "        # Check if the question is already in unique_df\n",
    "        if row['question'] not in [r['question'] for r in unique_rows]:\n",
    "            # Append the row to unique_rows\n",
    "            unique_rows.append(row)\n",
    "            # Check if unique_df has reached the desired length\n",
    "            if len(unique_rows) == num_answers:\n",
    "                break\n",
    "\n",
    "    # If the desired number of answers has not been reached,\n",
    "    # allow repeats by selecting the longest answers\n",
    "    while len(unique_rows) < num_answers:\n",
    "        longest_answer_row = df.loc[df['answer'].apply(len).idxmax()]\n",
    "        unique_rows.append(longest_answer_row)\n",
    "    \n",
    "    # Convert the list of DataFrames to a DataFrame\n",
    "    unique_df = pd.DataFrame(unique_rows)\n",
    "    \n",
    "    return unique_df"
   ]
  },
  {
   "cell_type": "code",
   "execution_count": 10,
   "id": "25b4701b",
   "metadata": {},
   "outputs": [],
   "source": [
    "# Apply the function to each level\n",
    "level_3_selected = select_unique_rows(level_3_sorted, 1698)\n",
    "level_4_selected = select_unique_rows(level_4_sorted, 1698)\n",
    "level_5_selected = select_unique_rows(level_5_sorted, 1698)"
   ]
  },
  {
   "cell_type": "code",
   "execution_count": 11,
   "id": "1a5c1efe",
   "metadata": {},
   "outputs": [],
   "source": [
    "# Merge all of the dataframes and reset the index\n",
    "merged_df = pd.concat([level_2, level_3_selected, level_4_selected, level_5_selected]).reset_index(drop=True)\n",
    "# Drop the length column that had been added only for the purpose of the function\n",
    "merged_df = merged_df.drop(['length'],axis=1)"
   ]
  },
  {
   "cell_type": "code",
   "execution_count": 12,
   "id": "3c9df6ef",
   "metadata": {},
   "outputs": [
    {
     "name": "stdout",
     "output_type": "stream",
     "text": [
      "<class 'pandas.core.frame.DataFrame'>\n",
      "RangeIndex: 6792 entries, 0 to 6791\n",
      "Data columns (total 19 columns):\n",
      " #   Column            Non-Null Count  Dtype  \n",
      "---  ------            --------------  -----  \n",
      " 0   answer_id         6792 non-null   int64  \n",
      " 1   question_id       6792 non-null   int64  \n",
      " 2   anon_id           6792 non-null   object \n",
      " 3   course_id         6792 non-null   int64  \n",
      " 4   created_date      6792 non-null   object \n",
      " 5   text_len          6792 non-null   int64  \n",
      " 6   answer            6775 non-null   object \n",
      " 7   tokens            6792 non-null   object \n",
      " 8   tok_lem_POS       6792 non-null   object \n",
      " 9   question_type_id  6792 non-null   float64\n",
      " 10  question          6792 non-null   object \n",
      " 11  allow_text        6792 non-null   float64\n",
      " 12  gender            6792 non-null   object \n",
      " 13  L1                6792 non-null   object \n",
      " 14  class_id          6792 non-null   object \n",
      " 15  level             6792 non-null   int64  \n",
      " 16  question_type     6792 non-null   object \n",
      " 17  dataset           6792 non-null   object \n",
      " 18  is_augmented      6792 non-null   int64  \n",
      "dtypes: float64(2), int64(6), object(11)\n",
      "memory usage: 1008.3+ KB\n"
     ]
    }
   ],
   "source": [
    "merged_df.info()"
   ]
  },
  {
   "cell_type": "code",
   "execution_count": 13,
   "id": "4bf92fa6",
   "metadata": {},
   "outputs": [
    {
     "data": {
      "text/plain": [
       "level\n",
       "2    1698\n",
       "3    1698\n",
       "4    1698\n",
       "5    1698\n",
       "Name: count, dtype: int64"
      ]
     },
     "execution_count": 13,
     "metadata": {},
     "output_type": "execute_result"
    }
   ],
   "source": [
    "# Look at the level distribution after the data selection\n",
    "merged_df.level.value_counts()"
   ]
  },
  {
   "cell_type": "code",
   "execution_count": 14,
   "id": "2c52dbff",
   "metadata": {
    "scrolled": true
   },
   "outputs": [
    {
     "data": {
      "image/png": "[encoded data removed]",
      "text/plain": [
       "<Figure size 1000x600 with 1 Axes>"
      ]
     },
     "metadata": {},
     "output_type": "display_data"
    }
   ],
   "source": [
    "# Create a count plot\n",
    "plt.figure(figsize=(10, 6))\n",
    "sns.countplot(data=merged_df, x='level', hue='is_augmented')\n",
    "\n",
    "# Add labels and title\n",
    "plt.xlabel('Level')\n",
    "plt.ylabel('Count')\n",
    "plt.title('Count of Augmented Rows by Level')\n",
    "\n",
    "# Display the plot\n",
    "plt.show()"
   ]
  },
  {
   "cell_type": "code",
   "execution_count": 15,
   "id": "b604ddbf",
   "metadata": {},
   "outputs": [],
   "source": [
    "merged_df.to_csv('../data/PELIC_balanced.csv')"
   ]
  }
 ],
 "metadata": {
  "kernelspec": {
   "display_name": "Python 3 (ipykernel)",
   "language": "python",
   "name": "python3"
  },
  "language_info": {
   "codemirror_mode": {
    "name": "ipython",
    "version": 3
   },
   "file_extension": ".py",
   "mimetype": "text/x-python",
   "name": "python",
   "nbconvert_exporter": "python",
   "pygments_lexer": "ipython3",
   "version": "3.11.5"
  }
 },
 "nbformat": 4,
 "nbformat_minor": 5
}
