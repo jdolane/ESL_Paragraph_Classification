{
 "cells": [
  {
   "cell_type": "markdown",
   "metadata": {
    "id": "m_zh756Z0idt"
   },
   "source": [
    "# Final Project - Jeremy - Level Classification of English Learner Texts"
   ]
  },
  {
   "cell_type": "code",
   "execution_count": 1,
   "metadata": {
    "colab": {
     "base_uri": "https://localhost:8080/"
    },
    "id": "AKkORCX2EC3f",
    "outputId": "a041164f-9b10-4ee1-a142-ea39d495cc99"
   },
   "outputs": [],
   "source": [
    "# Mount Google Drive\n",
    "# from google.colab import drive\n",
    "# drive.mount('/content/drive/')"
   ]
  },
  {
   "cell_type": "code",
   "execution_count": 2,
   "metadata": {
    "id": "cpW1zg74EPxr"
   },
   "outputs": [],
   "source": [
    "# Import libraries\n",
    "import pandas as pd\n",
    "import os\n",
    "from bs4 import BeautifulSoup as bs\n",
    "import matplotlib.pyplot as plt\n",
    "import seaborn as sns"
   ]
  },
  {
   "cell_type": "code",
   "execution_count": 3,
   "metadata": {
    "id": "6sq5RzD2EvIg"
   },
   "outputs": [],
   "source": [
    "# Define file paths\n",
    "pelic_path = 'data/'\n",
    "cefr_labelled_path = 'data/cefr-asag-dataset-1.0.1/corpus/release-1.0/labelled/'\n",
    "cefr_unlabelled_path = 'data/cefr-asag-dataset-1.0.1/corpus/release-1.0/unlabelled/'"
   ]
  },
  {
   "cell_type": "markdown",
   "metadata": {
    "id": "ykTusPpD0uVS"
   },
   "source": [
    "## Load PELIC Data\n",
    "\n",
    "<p>The PELIC dataset is found on GitHub, here: <a href=\"https://github.com/ELI-Data-Mining-Group/PELIC-dataset/\">https://github.com/ELI-Data-Mining-Group/PELIC-dataset/</a></p>\n",
    "\n",
    "<p>I still have a lot of information on this GitHub to go through to get all of the information that I need. For now, I have loaded the main compiled CSV.</p>"
   ]
  },
  {
   "cell_type": "code",
   "execution_count": 4,
   "metadata": {
    "id": "y7lVUvbtEbHH"
   },
   "outputs": [],
   "source": [
    "pelic = pd.read_csv(pelic_path + 'PELIC_compiled.txt')"
   ]
  },
  {
   "cell_type": "code",
   "execution_count": 5,
   "metadata": {
    "colab": {
     "base_uri": "https://localhost:8080/",
     "height": 379
    },
    "id": "dO57rogZEkcX",
    "outputId": "ecb511c4-cae5-4370-c197-09fa5acaecec",
    "scrolled": true
   },
   "outputs": [
    {
     "data": {
      "text/html": [
       "<div>\n",
       "<style scoped>\n",
       "    .dataframe tbody tr th:only-of-type {\n",
       "        vertical-align: middle;\n",
       "    }\n",
       "\n",
       "    .dataframe tbody tr th {\n",
       "        vertical-align: top;\n",
       "    }\n",
       "\n",
       "    .dataframe thead th {\n",
       "        text-align: right;\n",
       "    }\n",
       "</style>\n",
       "<table border=\"1\" class=\"dataframe\">\n",
       "  <thead>\n",
       "    <tr style=\"text-align: right;\">\n",
       "      <th></th>\n",
       "      <th>answer_id</th>\n",
       "      <th>anon_id</th>\n",
       "      <th>L1</th>\n",
       "      <th>gender</th>\n",
       "      <th>semester</th>\n",
       "      <th>placement_test</th>\n",
       "      <th>course_id</th>\n",
       "      <th>level_id</th>\n",
       "      <th>class_id</th>\n",
       "      <th>question_id</th>\n",
       "      <th>version</th>\n",
       "      <th>text_len</th>\n",
       "      <th>text</th>\n",
       "      <th>tokens</th>\n",
       "      <th>tok_lem_POS</th>\n",
       "    </tr>\n",
       "  </thead>\n",
       "  <tbody>\n",
       "    <tr>\n",
       "      <th>0</th>\n",
       "      <td>1</td>\n",
       "      <td>eq0</td>\n",
       "      <td>Arabic</td>\n",
       "      <td>Male</td>\n",
       "      <td>2006_fall</td>\n",
       "      <td>NaN</td>\n",
       "      <td>149</td>\n",
       "      <td>4</td>\n",
       "      <td>g</td>\n",
       "      <td>5</td>\n",
       "      <td>1</td>\n",
       "      <td>177</td>\n",
       "      <td>I met my friend Nife while I was studying in a...</td>\n",
       "      <td>['I', 'met', 'my', 'friend', 'Nife', 'while', ...</td>\n",
       "      <td>[('I', 'I', 'PRP'), ('met', 'meet', 'VBD'), ('...</td>\n",
       "    </tr>\n",
       "    <tr>\n",
       "      <th>1</th>\n",
       "      <td>2</td>\n",
       "      <td>am8</td>\n",
       "      <td>Thai</td>\n",
       "      <td>Female</td>\n",
       "      <td>2006_fall</td>\n",
       "      <td>NaN</td>\n",
       "      <td>149</td>\n",
       "      <td>4</td>\n",
       "      <td>g</td>\n",
       "      <td>5</td>\n",
       "      <td>1</td>\n",
       "      <td>137</td>\n",
       "      <td>Ten years ago, I met a women on the train betw...</td>\n",
       "      <td>['Ten', 'years', 'ago', ',', 'I', 'met', 'a', ...</td>\n",
       "      <td>[('Ten', 'ten', 'CD'), ('years', 'year', 'NNS'...</td>\n",
       "    </tr>\n",
       "    <tr>\n",
       "      <th>2</th>\n",
       "      <td>3</td>\n",
       "      <td>dk5</td>\n",
       "      <td>Turkish</td>\n",
       "      <td>Female</td>\n",
       "      <td>2006_fall</td>\n",
       "      <td>NaN</td>\n",
       "      <td>115</td>\n",
       "      <td>4</td>\n",
       "      <td>w</td>\n",
       "      <td>12</td>\n",
       "      <td>1</td>\n",
       "      <td>63</td>\n",
       "      <td>In my country we usually don't use tea bags. F...</td>\n",
       "      <td>['In', 'my', 'country', 'we', 'usually', 'do',...</td>\n",
       "      <td>[('In', 'in', 'IN'), ('my', 'my', 'PRP$'), ('c...</td>\n",
       "    </tr>\n",
       "    <tr>\n",
       "      <th>3</th>\n",
       "      <td>4</td>\n",
       "      <td>dk5</td>\n",
       "      <td>Turkish</td>\n",
       "      <td>Female</td>\n",
       "      <td>2006_fall</td>\n",
       "      <td>NaN</td>\n",
       "      <td>115</td>\n",
       "      <td>4</td>\n",
       "      <td>w</td>\n",
       "      <td>13</td>\n",
       "      <td>1</td>\n",
       "      <td>6</td>\n",
       "      <td>I organized the instructions by time.</td>\n",
       "      <td>['I', 'organized', 'the', 'instructions', 'by'...</td>\n",
       "      <td>[('I', 'I', 'PRP'), ('organized', 'organize', ...</td>\n",
       "    </tr>\n",
       "    <tr>\n",
       "      <th>4</th>\n",
       "      <td>5</td>\n",
       "      <td>ad1</td>\n",
       "      <td>Korean</td>\n",
       "      <td>Female</td>\n",
       "      <td>2006_fall</td>\n",
       "      <td>NaN</td>\n",
       "      <td>115</td>\n",
       "      <td>4</td>\n",
       "      <td>w</td>\n",
       "      <td>12</td>\n",
       "      <td>1</td>\n",
       "      <td>59</td>\n",
       "      <td>First, prepare a port, loose tea, and cup.\\nSe...</td>\n",
       "      <td>['First', ',', 'prepare', 'a', 'port', ',', 'l...</td>\n",
       "      <td>[('First', 'first', 'RB'), (',', ',', ','), ('...</td>\n",
       "    </tr>\n",
       "  </tbody>\n",
       "</table>\n",
       "</div>"
      ],
      "text/plain": [
       "   answer_id anon_id       L1  gender   semester  placement_test  course_id  \\\n",
       "0          1     eq0   Arabic    Male  2006_fall             NaN        149   \n",
       "1          2     am8     Thai  Female  2006_fall             NaN        149   \n",
       "2          3     dk5  Turkish  Female  2006_fall             NaN        115   \n",
       "3          4     dk5  Turkish  Female  2006_fall             NaN        115   \n",
       "4          5     ad1   Korean  Female  2006_fall             NaN        115   \n",
       "\n",
       "   level_id class_id  question_id  version  text_len  \\\n",
       "0         4        g            5        1       177   \n",
       "1         4        g            5        1       137   \n",
       "2         4        w           12        1        63   \n",
       "3         4        w           13        1         6   \n",
       "4         4        w           12        1        59   \n",
       "\n",
       "                                                text  \\\n",
       "0  I met my friend Nife while I was studying in a...   \n",
       "1  Ten years ago, I met a women on the train betw...   \n",
       "2  In my country we usually don't use tea bags. F...   \n",
       "3              I organized the instructions by time.   \n",
       "4  First, prepare a port, loose tea, and cup.\\nSe...   \n",
       "\n",
       "                                              tokens  \\\n",
       "0  ['I', 'met', 'my', 'friend', 'Nife', 'while', ...   \n",
       "1  ['Ten', 'years', 'ago', ',', 'I', 'met', 'a', ...   \n",
       "2  ['In', 'my', 'country', 'we', 'usually', 'do',...   \n",
       "3  ['I', 'organized', 'the', 'instructions', 'by'...   \n",
       "4  ['First', ',', 'prepare', 'a', 'port', ',', 'l...   \n",
       "\n",
       "                                         tok_lem_POS  \n",
       "0  [('I', 'I', 'PRP'), ('met', 'meet', 'VBD'), ('...  \n",
       "1  [('Ten', 'ten', 'CD'), ('years', 'year', 'NNS'...  \n",
       "2  [('In', 'in', 'IN'), ('my', 'my', 'PRP$'), ('c...  \n",
       "3  [('I', 'I', 'PRP'), ('organized', 'organize', ...  \n",
       "4  [('First', 'first', 'RB'), (',', ',', ','), ('...  "
      ]
     },
     "execution_count": 5,
     "metadata": {},
     "output_type": "execute_result"
    }
   ],
   "source": [
    "pelic.head()"
   ]
  },
  {
   "cell_type": "code",
   "execution_count": 6,
   "metadata": {},
   "outputs": [
    {
     "name": "stdout",
     "output_type": "stream",
     "text": [
      "<class 'pandas.core.frame.DataFrame'>\n",
      "RangeIndex: 46204 entries, 0 to 46203\n",
      "Data columns (total 15 columns):\n",
      " #   Column          Non-Null Count  Dtype  \n",
      "---  ------          --------------  -----  \n",
      " 0   answer_id       46204 non-null  int64  \n",
      " 1   anon_id         46204 non-null  object \n",
      " 2   L1              46204 non-null  object \n",
      " 3   gender          46204 non-null  object \n",
      " 4   semester        46204 non-null  object \n",
      " 5   placement_test  23563 non-null  float64\n",
      " 6   course_id       46204 non-null  int64  \n",
      " 7   level_id        46204 non-null  int64  \n",
      " 8   class_id        46204 non-null  object \n",
      " 9   question_id     46204 non-null  int64  \n",
      " 10  version         46204 non-null  int64  \n",
      " 11  text_len        46204 non-null  int64  \n",
      " 12  text            46201 non-null  object \n",
      " 13  tokens          46204 non-null  object \n",
      " 14  tok_lem_POS     46204 non-null  object \n",
      "dtypes: float64(1), int64(6), object(8)\n",
      "memory usage: 5.3+ MB\n"
     ]
    }
   ],
   "source": [
    "pelic.info()"
   ]
  },
  {
   "cell_type": "code",
   "execution_count": 7,
   "metadata": {},
   "outputs": [
    {
     "data": {
      "text/html": [
       "<div>\n",
       "<style scoped>\n",
       "    .dataframe tbody tr th:only-of-type {\n",
       "        vertical-align: middle;\n",
       "    }\n",
       "\n",
       "    .dataframe tbody tr th {\n",
       "        vertical-align: top;\n",
       "    }\n",
       "\n",
       "    .dataframe thead th {\n",
       "        text-align: right;\n",
       "    }\n",
       "</style>\n",
       "<table border=\"1\" class=\"dataframe\">\n",
       "  <thead>\n",
       "    <tr style=\"text-align: right;\">\n",
       "      <th></th>\n",
       "      <th>answer_id</th>\n",
       "      <th>placement_test</th>\n",
       "      <th>course_id</th>\n",
       "      <th>level_id</th>\n",
       "      <th>question_id</th>\n",
       "      <th>version</th>\n",
       "      <th>text_len</th>\n",
       "    </tr>\n",
       "  </thead>\n",
       "  <tbody>\n",
       "    <tr>\n",
       "      <th>count</th>\n",
       "      <td>46204.000000</td>\n",
       "      <td>23563.000000</td>\n",
       "      <td>46204.000000</td>\n",
       "      <td>46204.000000</td>\n",
       "      <td>46204.000000</td>\n",
       "      <td>46204.000000</td>\n",
       "      <td>46204.000000</td>\n",
       "    </tr>\n",
       "    <tr>\n",
       "      <th>mean</th>\n",
       "      <td>24277.193576</td>\n",
       "      <td>58.868650</td>\n",
       "      <td>504.587893</td>\n",
       "      <td>4.031188</td>\n",
       "      <td>3184.517877</td>\n",
       "      <td>1.112501</td>\n",
       "      <td>91.241126</td>\n",
       "    </tr>\n",
       "    <tr>\n",
       "      <th>std</th>\n",
       "      <td>13967.355597</td>\n",
       "      <td>13.949785</td>\n",
       "      <td>255.209544</td>\n",
       "      <td>0.858291</td>\n",
       "      <td>1756.716471</td>\n",
       "      <td>0.353671</td>\n",
       "      <td>155.427213</td>\n",
       "    </tr>\n",
       "    <tr>\n",
       "      <th>min</th>\n",
       "      <td>1.000000</td>\n",
       "      <td>20.000000</td>\n",
       "      <td>96.000000</td>\n",
       "      <td>2.000000</td>\n",
       "      <td>1.000000</td>\n",
       "      <td>1.000000</td>\n",
       "      <td>0.000000</td>\n",
       "    </tr>\n",
       "    <tr>\n",
       "      <th>25%</th>\n",
       "      <td>12217.750000</td>\n",
       "      <td>47.000000</td>\n",
       "      <td>276.000000</td>\n",
       "      <td>3.000000</td>\n",
       "      <td>1773.000000</td>\n",
       "      <td>1.000000</td>\n",
       "      <td>9.000000</td>\n",
       "    </tr>\n",
       "    <tr>\n",
       "      <th>50%</th>\n",
       "      <td>24207.500000</td>\n",
       "      <td>58.000000</td>\n",
       "      <td>508.000000</td>\n",
       "      <td>4.000000</td>\n",
       "      <td>3162.000000</td>\n",
       "      <td>1.000000</td>\n",
       "      <td>23.000000</td>\n",
       "    </tr>\n",
       "    <tr>\n",
       "      <th>75%</th>\n",
       "      <td>36438.250000</td>\n",
       "      <td>70.000000</td>\n",
       "      <td>672.000000</td>\n",
       "      <td>5.000000</td>\n",
       "      <td>4732.000000</td>\n",
       "      <td>1.000000</td>\n",
       "      <td>114.000000</td>\n",
       "    </tr>\n",
       "    <tr>\n",
       "      <th>max</th>\n",
       "      <td>48420.000000</td>\n",
       "      <td>90.000000</td>\n",
       "      <td>1068.000000</td>\n",
       "      <td>5.000000</td>\n",
       "      <td>6139.000000</td>\n",
       "      <td>3.000000</td>\n",
       "      <td>2432.000000</td>\n",
       "    </tr>\n",
       "  </tbody>\n",
       "</table>\n",
       "</div>"
      ],
      "text/plain": [
       "          answer_id  placement_test     course_id      level_id   question_id  \\\n",
       "count  46204.000000    23563.000000  46204.000000  46204.000000  46204.000000   \n",
       "mean   24277.193576       58.868650    504.587893      4.031188   3184.517877   \n",
       "std    13967.355597       13.949785    255.209544      0.858291   1756.716471   \n",
       "min        1.000000       20.000000     96.000000      2.000000      1.000000   \n",
       "25%    12217.750000       47.000000    276.000000      3.000000   1773.000000   \n",
       "50%    24207.500000       58.000000    508.000000      4.000000   3162.000000   \n",
       "75%    36438.250000       70.000000    672.000000      5.000000   4732.000000   \n",
       "max    48420.000000       90.000000   1068.000000      5.000000   6139.000000   \n",
       "\n",
       "            version      text_len  \n",
       "count  46204.000000  46204.000000  \n",
       "mean       1.112501     91.241126  \n",
       "std        0.353671    155.427213  \n",
       "min        1.000000      0.000000  \n",
       "25%        1.000000      9.000000  \n",
       "50%        1.000000     23.000000  \n",
       "75%        1.000000    114.000000  \n",
       "max        3.000000   2432.000000  "
      ]
     },
     "execution_count": 7,
     "metadata": {},
     "output_type": "execute_result"
    }
   ],
   "source": [
    "pelic.describe()"
   ]
  },
  {
   "cell_type": "code",
   "execution_count": 8,
   "metadata": {},
   "outputs": [
    {
     "data": {
      "text/plain": [
       "(46204, 15)"
      ]
     },
     "execution_count": 8,
     "metadata": {},
     "output_type": "execute_result"
    }
   ],
   "source": [
    "pelic.shape"
   ]
  },
  {
   "cell_type": "markdown",
   "metadata": {},
   "source": [
    "<p>The levels in this dataset range from A2 to B2:</p>\n",
    "<ul>\n",
    "    <li>2 = A2</li>\n",
    "    <li>3 = B1</li>\n",
    "    <li>4 = B2</li>\n",
    "    <li>5 = C1</li>\n",
    "</ul>"
   ]
  },
  {
   "cell_type": "code",
   "execution_count": 9,
   "metadata": {},
   "outputs": [
    {
     "data": {
      "text/plain": [
       "<Axes: >"
      ]
     },
     "execution_count": 9,
     "metadata": {},
     "output_type": "execute_result"
    },
    {
     "data": {
      "image/png": "[encoded data removed]",
      "text/plain": [
       "<Figure size 640x480 with 1 Axes>"
      ]
     },
     "metadata": {},
     "output_type": "display_data"
    }
   ],
   "source": [
    "pelic.level_id.hist()"
   ]
  },
  {
   "cell_type": "code",
   "execution_count": 10,
   "metadata": {},
   "outputs": [
    {
     "data": {
      "text/plain": [
       "level_id\n",
       "4    16836\n",
       "5    16190\n",
       "3    11607\n",
       "2     1571\n",
       "Name: count, dtype: int64"
      ]
     },
     "execution_count": 10,
     "metadata": {},
     "output_type": "execute_result"
    }
   ],
   "source": [
    "pelic.level_id.value_counts()"
   ]
  },
  {
   "cell_type": "code",
   "execution_count": 11,
   "metadata": {},
   "outputs": [
    {
     "data": {
      "text/plain": [
       "question_id\n",
       "3437    44\n",
       "2281    41\n",
       "5530    37\n",
       "5533    37\n",
       "4304    36\n",
       "        ..\n",
       "648      1\n",
       "649      1\n",
       "178      1\n",
       "650      1\n",
       "424      1\n",
       "Name: count, Length: 4545, dtype: int64"
      ]
     },
     "execution_count": 11,
     "metadata": {},
     "output_type": "execute_result"
    }
   ],
   "source": [
    "pelic.question_id.value_counts()"
   ]
  },
  {
   "cell_type": "code",
   "execution_count": 12,
   "metadata": {},
   "outputs": [
    {
     "data": {
      "text/plain": [
       "L1\n",
       "Arabic               16831\n",
       "Korean                9208\n",
       "Chinese               8503\n",
       "Japanese              2782\n",
       "Spanish               1909\n",
       "Turkish               1537\n",
       "Thai                  1376\n",
       "Taiwanese              678\n",
       "Portuguese             603\n",
       "Other                  493\n",
       "French                 477\n",
       "Italian                393\n",
       "Russian                193\n",
       "Hebrew                 189\n",
       "English                154\n",
       "Farsi                  144\n",
       "Mongol                 144\n",
       "Vietnamese             104\n",
       "German                  85\n",
       "Indonesian              71\n",
       "Romanian                69\n",
       "Russian,Ukrainian       62\n",
       "Azerbaijani             45\n",
       "Suundi                  41\n",
       "Swedish                 31\n",
       "Montenegrin             27\n",
       "Zulu                    25\n",
       "Polish                  20\n",
       "Hindi                    6\n",
       "Swahili                  4\n",
       "Name: count, dtype: int64"
      ]
     },
     "execution_count": 12,
     "metadata": {},
     "output_type": "execute_result"
    }
   ],
   "source": [
    "pelic.L1.value_counts()"
   ]
  },
  {
   "cell_type": "markdown",
   "metadata": {
    "id": "BiuxHxMKg54I"
   },
   "source": [
    "## Load CEFR Data\n",
    "\n",
    "<p>The CEFR dataset is found here: <a href=\"https://cental.uclouvain.be/team/atack/cefr-asag/\">https://cental.uclouvain.be/team/atack/cefr-asag/</a></p>\n",
    "\n",
    "<p>I've extracted the data from the XML files into two dataframes: One for the labelled data and the other for the unlabelled data.</p>\n",
    "\n",
    "<p>The next step will be to combine the PELIC and CEFR datasets.</p>"
   ]
  },
  {
   "cell_type": "code",
   "execution_count": 13,
   "metadata": {
    "id": "QBDGomOcjqtR"
   },
   "outputs": [],
   "source": [
    "# Create a function that reads the CEFR data from the XML files into a Pandas DataFrame\n",
    "def create_cefr_df(path):\n",
    "    '''\n",
    "    This function reads the CEFR data\n",
    "    from XML files in the directory\n",
    "    to a Pandas DataFrame\n",
    "    '''\n",
    "\n",
    "    # Define DataFrame columns\n",
    "    df_columns = ['file_name', 'age_participant','sex_participant', 'education', 'L1', 'sex_examiner1', 'sex_examiner2', 'sex_examiner3', 'setting', 'question', 'word_limit', 'level', 'answer', 'grade_examiner1', 'grade_examiner2', 'grade_examiner3', 'grade_majority_vote']\n",
    "\n",
    "    # Create an empty list to store dictionaries\n",
    "    all_data = []\n",
    "\n",
    "    # Loop through XML files in the directory\n",
    "    for filename in os.listdir(path):\n",
    "        if filename.endswith('.xml'):\n",
    "            file_path = os.path.join(path, filename)\n",
    "\n",
    "            # Read XML file\n",
    "            with open(file_path, 'r') as file:\n",
    "                contents = file.read()\n",
    "\n",
    "            # Parse XML\n",
    "            soup = bs(contents, 'xml')\n",
    "\n",
    "            # Extract data from XML\n",
    "            age_participant = soup.find('person', {'role': 'participant'})\n",
    "            sex_participant = age_participant.get('sex') if age_participant else None\n",
    "            age_participant = age_participant.get('age') if age_participant else None\n",
    "            education = soup.find('education').get('type') if soup.find('education') else None\n",
    "            L1 = soup.find('langKnown').get('tag') if soup.find('langKnown') else None\n",
    "            sex_examiner1 = soup.find('person', {'xml:id': 'examiner.1'}).get('sex') if soup.find('person', {'xml:id': 'examiner.1'}) else None\n",
    "            sex_examiner2 = soup.find('person', {'xml:id': 'examiner.2'}).get('sex') if soup.find('person', {'xml:id': 'examiner.2'}) else None\n",
    "            sex_examiner3 = soup.find('person', {'xml:id': 'examiner.3'}).get('sex') if soup.find('person', {'xml:id': 'examiner.3'}) else None\n",
    "            setting = soup.find('settingDesc').find('p').text if soup.find('settingDesc') else None\n",
    "            question = soup.find('div', {'type': 'question'}).find('p').text if soup.find('div', {'type': 'question'}) else None\n",
    "            word_limit = soup.find('note', {'type': 'word-limit'}).text if soup.find('note', {'type': 'word-limit'}) else None\n",
    "            level = soup.find('label', {'type': 'level'}).find('span').text if soup.find('label', {'type': 'level'}) else None\n",
    "            answer = soup.find('div', {'type': 'answer'}).find('p').text if soup.find('div', {'type': 'answer'}) else None\n",
    "            grade_examiner1 = soup.find('label', {'corresp': '#examiner.1'}).find('span').text if soup.find('label', {'corresp': '#examiner.1'}) else None\n",
    "            grade_examiner2 = soup.find('label', {'corresp': '#examiner.2'}).find('span').text if soup.find('label', {'corresp': '#examiner.2'}) else None\n",
    "            grade_examiner3 = soup.find('label', {'corresp': '#examiner.3'}).find('span').text if soup.find('label', {'corresp': '#examiner.3'}) else None\n",
    "            grade_majority_vote = soup.find('label', {'subtype': 'majority-vote'}).find('span').text if soup.find('label', {'subtype': 'majority-vote'}) else None\n",
    "\n",
    "            # Append data to list as a dictionary\n",
    "            all_data.append({\n",
    "                'file_name': filename,\n",
    "                'age_participant': age_participant,\n",
    "                'sex_participant': sex_participant,\n",
    "                'education': education,\n",
    "                'L1': L1,\n",
    "                'sex_examiner1': sex_examiner1,\n",
    "                'sex_examiner2': sex_examiner2,\n",
    "                'sex_examiner3': sex_examiner3,\n",
    "                'setting': setting,\n",
    "                'question': question,\n",
    "                'word_limit': word_limit,\n",
    "                'level': level,\n",
    "                'answer': answer,\n",
    "                'grade_examiner1': grade_examiner1,\n",
    "                'grade_examiner2': grade_examiner2,\n",
    "                'grade_examiner3': grade_examiner3,\n",
    "                'grade_majority_vote': grade_majority_vote\n",
    "            })\n",
    "\n",
    "    # Create DataFrame from the list of dictionaries\n",
    "    df_all = pd.DataFrame(all_data)\n",
    "\n",
    "    return df_all"
   ]
  },
  {
   "cell_type": "markdown",
   "metadata": {},
   "source": [
    "### CEFR Labelled Data"
   ]
  },
  {
   "cell_type": "code",
   "execution_count": 14,
   "metadata": {
    "colab": {
     "base_uri": "https://localhost:8080/",
     "height": 851
    },
    "id": "YeeuDN6SjqwL",
    "outputId": "4680620d-c95c-4669-eaa2-84493121cd9a"
   },
   "outputs": [
    {
     "data": {
      "text/html": [
       "<div>\n",
       "<style scoped>\n",
       "    .dataframe tbody tr th:only-of-type {\n",
       "        vertical-align: middle;\n",
       "    }\n",
       "\n",
       "    .dataframe tbody tr th {\n",
       "        vertical-align: top;\n",
       "    }\n",
       "\n",
       "    .dataframe thead th {\n",
       "        text-align: right;\n",
       "    }\n",
       "</style>\n",
       "<table border=\"1\" class=\"dataframe\">\n",
       "  <thead>\n",
       "    <tr style=\"text-align: right;\">\n",
       "      <th></th>\n",
       "      <th>file_name</th>\n",
       "      <th>age_participant</th>\n",
       "      <th>sex_participant</th>\n",
       "      <th>education</th>\n",
       "      <th>L1</th>\n",
       "      <th>sex_examiner1</th>\n",
       "      <th>sex_examiner2</th>\n",
       "      <th>sex_examiner3</th>\n",
       "      <th>setting</th>\n",
       "      <th>question</th>\n",
       "      <th>word_limit</th>\n",
       "      <th>level</th>\n",
       "      <th>answer</th>\n",
       "      <th>grade_examiner1</th>\n",
       "      <th>grade_examiner2</th>\n",
       "      <th>grade_examiner3</th>\n",
       "      <th>grade_majority_vote</th>\n",
       "    </tr>\n",
       "  </thead>\n",
       "  <tbody>\n",
       "    <tr>\n",
       "      <th>0</th>\n",
       "      <td>0001.xml</td>\n",
       "      <td>18</td>\n",
       "      <td>M</td>\n",
       "      <td>higher-secondary</td>\n",
       "      <td>fr</td>\n",
       "      <td>F</td>\n",
       "      <td>F</td>\n",
       "      <td>F</td>\n",
       "      <td>collected in a university-level language learn...</td>\n",
       "      <td>What are your daily habits? What time do you g...</td>\n",
       "      <td>(at least 30 words)</td>\n",
       "      <td>A1</td>\n",
       "      <td>everyday i get up at 8 a clock. I always turn ...</td>\n",
       "      <td>A1</td>\n",
       "      <td>A2</td>\n",
       "      <td>A2</td>\n",
       "      <td>A2</td>\n",
       "    </tr>\n",
       "    <tr>\n",
       "      <th>1</th>\n",
       "      <td>0002.xml</td>\n",
       "      <td>19</td>\n",
       "      <td>F</td>\n",
       "      <td>higher-secondary</td>\n",
       "      <td>fr</td>\n",
       "      <td>F</td>\n",
       "      <td>F</td>\n",
       "      <td>F</td>\n",
       "      <td>collected in a university-level language learn...</td>\n",
       "      <td>Describe your family.</td>\n",
       "      <td>(at least 30 words)</td>\n",
       "      <td>A1</td>\n",
       "      <td>My family is very small. I have a big borther....</td>\n",
       "      <td>A1</td>\n",
       "      <td>A1</td>\n",
       "      <td>A1</td>\n",
       "      <td>A1</td>\n",
       "    </tr>\n",
       "    <tr>\n",
       "      <th>2</th>\n",
       "      <td>0003.xml</td>\n",
       "      <td>22</td>\n",
       "      <td>F</td>\n",
       "      <td>lower-secondary</td>\n",
       "      <td>fr</td>\n",
       "      <td>F</td>\n",
       "      <td>F</td>\n",
       "      <td>F</td>\n",
       "      <td>collected in a university-level language learn...</td>\n",
       "      <td>Describe your family.</td>\n",
       "      <td>(at least 30 words)</td>\n",
       "      <td>A1</td>\n",
       "      <td>My name is {name}</td>\n",
       "      <td>A1</td>\n",
       "      <td>A1</td>\n",
       "      <td>A1</td>\n",
       "      <td>A1</td>\n",
       "    </tr>\n",
       "    <tr>\n",
       "      <th>3</th>\n",
       "      <td>0004.xml</td>\n",
       "      <td>21</td>\n",
       "      <td>F</td>\n",
       "      <td>higher-secondary</td>\n",
       "      <td>fr</td>\n",
       "      <td>F</td>\n",
       "      <td>F</td>\n",
       "      <td>F</td>\n",
       "      <td>collected in a university-level language learn...</td>\n",
       "      <td>Describe your hobbies.</td>\n",
       "      <td>(at least 30 words)</td>\n",
       "      <td>A1</td>\n",
       "      <td>Hi my name is {name},</td>\n",
       "      <td>A2</td>\n",
       "      <td>A2</td>\n",
       "      <td>A2</td>\n",
       "      <td>A2</td>\n",
       "    </tr>\n",
       "    <tr>\n",
       "      <th>4</th>\n",
       "      <td>0005.xml</td>\n",
       "      <td>18</td>\n",
       "      <td>F</td>\n",
       "      <td>higher-secondary</td>\n",
       "      <td>fr</td>\n",
       "      <td>F</td>\n",
       "      <td>F</td>\n",
       "      <td>F</td>\n",
       "      <td>collected in a university-level language learn...</td>\n",
       "      <td>Describe your family.</td>\n",
       "      <td>(at least 30 words)</td>\n",
       "      <td>A1</td>\n",
       "      <td>I have one sister, she is married and she has ...</td>\n",
       "      <td>A2</td>\n",
       "      <td>A1</td>\n",
       "      <td>A2</td>\n",
       "      <td>A2</td>\n",
       "    </tr>\n",
       "  </tbody>\n",
       "</table>\n",
       "</div>"
      ],
      "text/plain": [
       "  file_name age_participant sex_participant         education  L1  \\\n",
       "0  0001.xml              18               M  higher-secondary  fr   \n",
       "1  0002.xml              19               F  higher-secondary  fr   \n",
       "2  0003.xml              22               F   lower-secondary  fr   \n",
       "3  0004.xml              21               F  higher-secondary  fr   \n",
       "4  0005.xml              18               F  higher-secondary  fr   \n",
       "\n",
       "  sex_examiner1 sex_examiner2 sex_examiner3  \\\n",
       "0             F             F             F   \n",
       "1             F             F             F   \n",
       "2             F             F             F   \n",
       "3             F             F             F   \n",
       "4             F             F             F   \n",
       "\n",
       "                                             setting  \\\n",
       "0  collected in a university-level language learn...   \n",
       "1  collected in a university-level language learn...   \n",
       "2  collected in a university-level language learn...   \n",
       "3  collected in a university-level language learn...   \n",
       "4  collected in a university-level language learn...   \n",
       "\n",
       "                                            question           word_limit  \\\n",
       "0  What are your daily habits? What time do you g...  (at least 30 words)   \n",
       "1                              Describe your family.  (at least 30 words)   \n",
       "2                              Describe your family.  (at least 30 words)   \n",
       "3                             Describe your hobbies.  (at least 30 words)   \n",
       "4                              Describe your family.  (at least 30 words)   \n",
       "\n",
       "  level                                             answer grade_examiner1  \\\n",
       "0    A1  everyday i get up at 8 a clock. I always turn ...              A1   \n",
       "1    A1  My family is very small. I have a big borther....              A1   \n",
       "2    A1                                  My name is {name}              A1   \n",
       "3    A1                              Hi my name is {name},              A2   \n",
       "4    A1  I have one sister, she is married and she has ...              A2   \n",
       "\n",
       "  grade_examiner2 grade_examiner3 grade_majority_vote  \n",
       "0              A2              A2                  A2  \n",
       "1              A1              A1                  A1  \n",
       "2              A1              A1                  A1  \n",
       "3              A2              A2                  A2  \n",
       "4              A1              A2                  A2  "
      ]
     },
     "execution_count": 14,
     "metadata": {},
     "output_type": "execute_result"
    }
   ],
   "source": [
    "# Call the function and display the resulting DataFrame\n",
    "cefr_labelled = create_cefr_df(cefr_labelled_path)\n",
    "cefr_labelled.head()"
   ]
  },
  {
   "cell_type": "code",
   "execution_count": 15,
   "metadata": {
    "scrolled": true
   },
   "outputs": [
    {
     "name": "stdout",
     "output_type": "stream",
     "text": [
      "<class 'pandas.core.frame.DataFrame'>\n",
      "RangeIndex: 299 entries, 0 to 298\n",
      "Data columns (total 17 columns):\n",
      " #   Column               Non-Null Count  Dtype \n",
      "---  ------               --------------  ----- \n",
      " 0   file_name            299 non-null    object\n",
      " 1   age_participant      299 non-null    object\n",
      " 2   sex_participant      299 non-null    object\n",
      " 3   education            299 non-null    object\n",
      " 4   L1                   299 non-null    object\n",
      " 5   sex_examiner1        299 non-null    object\n",
      " 6   sex_examiner2        299 non-null    object\n",
      " 7   sex_examiner3        299 non-null    object\n",
      " 8   setting              299 non-null    object\n",
      " 9   question             299 non-null    object\n",
      " 10  word_limit           299 non-null    object\n",
      " 11  level                299 non-null    object\n",
      " 12  answer               299 non-null    object\n",
      " 13  grade_examiner1      299 non-null    object\n",
      " 14  grade_examiner2      299 non-null    object\n",
      " 15  grade_examiner3      299 non-null    object\n",
      " 16  grade_majority_vote  299 non-null    object\n",
      "dtypes: object(17)\n",
      "memory usage: 39.8+ KB\n"
     ]
    }
   ],
   "source": [
    "cefr_labelled.info()"
   ]
  },
  {
   "cell_type": "code",
   "execution_count": 16,
   "metadata": {},
   "outputs": [
    {
     "data": {
      "text/html": [
       "<div>\n",
       "<style scoped>\n",
       "    .dataframe tbody tr th:only-of-type {\n",
       "        vertical-align: middle;\n",
       "    }\n",
       "\n",
       "    .dataframe tbody tr th {\n",
       "        vertical-align: top;\n",
       "    }\n",
       "\n",
       "    .dataframe thead th {\n",
       "        text-align: right;\n",
       "    }\n",
       "</style>\n",
       "<table border=\"1\" class=\"dataframe\">\n",
       "  <thead>\n",
       "    <tr style=\"text-align: right;\">\n",
       "      <th></th>\n",
       "      <th>file_name</th>\n",
       "      <th>age_participant</th>\n",
       "      <th>sex_participant</th>\n",
       "      <th>education</th>\n",
       "      <th>L1</th>\n",
       "      <th>sex_examiner1</th>\n",
       "      <th>sex_examiner2</th>\n",
       "      <th>sex_examiner3</th>\n",
       "      <th>setting</th>\n",
       "      <th>question</th>\n",
       "      <th>word_limit</th>\n",
       "      <th>level</th>\n",
       "      <th>answer</th>\n",
       "      <th>grade_examiner1</th>\n",
       "      <th>grade_examiner2</th>\n",
       "      <th>grade_examiner3</th>\n",
       "      <th>grade_majority_vote</th>\n",
       "    </tr>\n",
       "  </thead>\n",
       "  <tbody>\n",
       "    <tr>\n",
       "      <th>count</th>\n",
       "      <td>299</td>\n",
       "      <td>299</td>\n",
       "      <td>299</td>\n",
       "      <td>299</td>\n",
       "      <td>299</td>\n",
       "      <td>299</td>\n",
       "      <td>299</td>\n",
       "      <td>299</td>\n",
       "      <td>299</td>\n",
       "      <td>299</td>\n",
       "      <td>299</td>\n",
       "      <td>299</td>\n",
       "      <td>299</td>\n",
       "      <td>299</td>\n",
       "      <td>299</td>\n",
       "      <td>299</td>\n",
       "      <td>299</td>\n",
       "    </tr>\n",
       "    <tr>\n",
       "      <th>unique</th>\n",
       "      <td>299</td>\n",
       "      <td>58</td>\n",
       "      <td>2</td>\n",
       "      <td>6</td>\n",
       "      <td>11</td>\n",
       "      <td>1</td>\n",
       "      <td>1</td>\n",
       "      <td>1</td>\n",
       "      <td>2</td>\n",
       "      <td>16</td>\n",
       "      <td>5</td>\n",
       "      <td>6</td>\n",
       "      <td>296</td>\n",
       "      <td>6</td>\n",
       "      <td>7</td>\n",
       "      <td>6</td>\n",
       "      <td>6</td>\n",
       "    </tr>\n",
       "    <tr>\n",
       "      <th>top</th>\n",
       "      <td>0001.xml</td>\n",
       "      <td>21</td>\n",
       "      <td>F</td>\n",
       "      <td>higher-secondary</td>\n",
       "      <td>fr</td>\n",
       "      <td>F</td>\n",
       "      <td>F</td>\n",
       "      <td>F</td>\n",
       "      <td>collected in a university-level language learn...</td>\n",
       "      <td>What is the impact of social networks on relat...</td>\n",
       "      <td>(at least 150 words)</td>\n",
       "      <td>A2</td>\n",
       "      <td>The most important factor of a healthy life</td>\n",
       "      <td>B1</td>\n",
       "      <td>B1</td>\n",
       "      <td>B1</td>\n",
       "      <td>B1</td>\n",
       "    </tr>\n",
       "    <tr>\n",
       "      <th>freq</th>\n",
       "      <td>1</td>\n",
       "      <td>44</td>\n",
       "      <td>184</td>\n",
       "      <td>180</td>\n",
       "      <td>279</td>\n",
       "      <td>299</td>\n",
       "      <td>299</td>\n",
       "      <td>299</td>\n",
       "      <td>154</td>\n",
       "      <td>29</td>\n",
       "      <td>77</td>\n",
       "      <td>72</td>\n",
       "      <td>3</td>\n",
       "      <td>115</td>\n",
       "      <td>119</td>\n",
       "      <td>109</td>\n",
       "      <td>113</td>\n",
       "    </tr>\n",
       "  </tbody>\n",
       "</table>\n",
       "</div>"
      ],
      "text/plain": [
       "       file_name age_participant sex_participant         education   L1  \\\n",
       "count        299             299             299               299  299   \n",
       "unique       299              58               2                 6   11   \n",
       "top     0001.xml              21               F  higher-secondary   fr   \n",
       "freq           1              44             184               180  279   \n",
       "\n",
       "       sex_examiner1 sex_examiner2 sex_examiner3  \\\n",
       "count            299           299           299   \n",
       "unique             1             1             1   \n",
       "top                F             F             F   \n",
       "freq             299           299           299   \n",
       "\n",
       "                                                  setting  \\\n",
       "count                                                 299   \n",
       "unique                                                  2   \n",
       "top     collected in a university-level language learn...   \n",
       "freq                                                  154   \n",
       "\n",
       "                                                 question  \\\n",
       "count                                                 299   \n",
       "unique                                                 16   \n",
       "top     What is the impact of social networks on relat...   \n",
       "freq                                                   29   \n",
       "\n",
       "                  word_limit level  \\\n",
       "count                    299   299   \n",
       "unique                     5     6   \n",
       "top     (at least 150 words)    A2   \n",
       "freq                      77    72   \n",
       "\n",
       "                                             answer grade_examiner1  \\\n",
       "count                                           299             299   \n",
       "unique                                          296               6   \n",
       "top     The most important factor of a healthy life              B1   \n",
       "freq                                              3             115   \n",
       "\n",
       "       grade_examiner2 grade_examiner3 grade_majority_vote  \n",
       "count              299             299                 299  \n",
       "unique               7               6                   6  \n",
       "top                 B1              B1                  B1  \n",
       "freq               119             109                 113  "
      ]
     },
     "execution_count": 16,
     "metadata": {},
     "output_type": "execute_result"
    }
   ],
   "source": [
    "cefr_labelled.describe()"
   ]
  },
  {
   "cell_type": "code",
   "execution_count": 17,
   "metadata": {},
   "outputs": [
    {
     "data": {
      "text/plain": [
       "(299, 17)"
      ]
     },
     "execution_count": 17,
     "metadata": {},
     "output_type": "execute_result"
    }
   ],
   "source": [
    "cefr_labelled.shape"
   ]
  },
  {
   "cell_type": "code",
   "execution_count": 18,
   "metadata": {},
   "outputs": [
    {
     "data": {
      "text/plain": [
       "<Axes: >"
      ]
     },
     "execution_count": 18,
     "metadata": {},
     "output_type": "execute_result"
    },
    {
     "data": {
      "image/png": "[encoded data removed]",
      "text/plain": [
       "<Figure size 640x480 with 1 Axes>"
      ]
     },
     "metadata": {},
     "output_type": "display_data"
    }
   ],
   "source": [
    "cefr_labelled.grade_majority_vote.hist()"
   ]
  },
  {
   "cell_type": "code",
   "execution_count": 19,
   "metadata": {},
   "outputs": [
    {
     "data": {
      "text/plain": [
       "grade_majority_vote\n",
       "B1    113\n",
       "B2     74\n",
       "A2     59\n",
       "C1     30\n",
       "A1     18\n",
       "C2      5\n",
       "Name: count, dtype: int64"
      ]
     },
     "execution_count": 19,
     "metadata": {},
     "output_type": "execute_result"
    }
   ],
   "source": [
    "cefr_labelled.grade_majority_vote.value_counts()"
   ]
  },
  {
   "cell_type": "code",
   "execution_count": 20,
   "metadata": {},
   "outputs": [
    {
     "data": {
      "text/plain": [
       "question\n",
       "What is the impact of social networks on relationships?                                                                         29\n",
       "Eating a balanced diet is the most important factor for a healthy life. Explain your point of view.                             28\n",
       "Do people who live in the public eye have a right to privacy? Explain your point of view.                                       20\n",
       "You are invited to a friend's birthday. You respond thanking him/her. Suggest some different ways that you can help him/her.    19\n",
       "What is the best book you've ever read and why?                                                                                 19\n",
       "If you had 1 million euros, what would you do with it?                                                                          19\n",
       "Should study abroad be a compulsory part of education? Explain your point of view.                                              19\n",
       "What advice would you give to help improve the environment?                                                                     19\n",
       "Share a memory of a holiday. Where was it, who went, what happened?                                                             19\n",
       "Imagine your life in 10 years time. What will it look like?                                                                     18\n",
       "You attended an event. Write an article for your blog.                                                                          18\n",
       "Do you think it is more important to have an enjoyable job or to make money? Explain your point of view.                        18\n",
       "Describe your hobbies.                                                                                                          17\n",
       "Share a memory of a holiday. Where was it, who went, what happenedâ€¦?                                                          16\n",
       "Describe your family.                                                                                                           14\n",
       "What are your daily habits? What time do you get up, etc.?                                                                       7\n",
       "Name: count, dtype: int64"
      ]
     },
     "execution_count": 20,
     "metadata": {},
     "output_type": "execute_result"
    }
   ],
   "source": [
    "cefr_labelled.question.value_counts()"
   ]
  },
  {
   "cell_type": "code",
   "execution_count": 21,
   "metadata": {},
   "outputs": [
    {
     "data": {
      "text/plain": [
       "L1\n",
       "fr     279\n",
       "es       8\n",
       "de       4\n",
       "it       1\n",
       "ru       1\n",
       "sw       1\n",
       "ar       1\n",
       "kab      1\n",
       "fa       1\n",
       "nl       1\n",
       "bg       1\n",
       "Name: count, dtype: int64"
      ]
     },
     "execution_count": 21,
     "metadata": {},
     "output_type": "execute_result"
    }
   ],
   "source": [
    "cefr_labelled.L1.value_counts()"
   ]
  },
  {
   "cell_type": "markdown",
   "metadata": {},
   "source": [
    "### CEFR Unlabelled Data"
   ]
  },
  {
   "cell_type": "code",
   "execution_count": 22,
   "metadata": {
    "colab": {
     "base_uri": "https://localhost:8080/",
     "height": 660
    },
    "id": "KnZ52d5L95Jv",
    "outputId": "695e3195-a6e3-45ce-b46c-813230b4068e"
   },
   "outputs": [
    {
     "data": {
      "text/html": [
       "<div>\n",
       "<style scoped>\n",
       "    .dataframe tbody tr th:only-of-type {\n",
       "        vertical-align: middle;\n",
       "    }\n",
       "\n",
       "    .dataframe tbody tr th {\n",
       "        vertical-align: top;\n",
       "    }\n",
       "\n",
       "    .dataframe thead th {\n",
       "        text-align: right;\n",
       "    }\n",
       "</style>\n",
       "<table border=\"1\" class=\"dataframe\">\n",
       "  <thead>\n",
       "    <tr style=\"text-align: right;\">\n",
       "      <th></th>\n",
       "      <th>file_name</th>\n",
       "      <th>age_participant</th>\n",
       "      <th>sex_participant</th>\n",
       "      <th>education</th>\n",
       "      <th>L1</th>\n",
       "      <th>sex_examiner1</th>\n",
       "      <th>sex_examiner2</th>\n",
       "      <th>sex_examiner3</th>\n",
       "      <th>setting</th>\n",
       "      <th>question</th>\n",
       "      <th>word_limit</th>\n",
       "      <th>level</th>\n",
       "      <th>answer</th>\n",
       "      <th>grade_examiner1</th>\n",
       "      <th>grade_examiner2</th>\n",
       "      <th>grade_examiner3</th>\n",
       "      <th>grade_majority_vote</th>\n",
       "    </tr>\n",
       "  </thead>\n",
       "  <tbody>\n",
       "    <tr>\n",
       "      <th>0</th>\n",
       "      <td>0016.xml</td>\n",
       "      <td>18</td>\n",
       "      <td>M</td>\n",
       "      <td>higher-secondary</td>\n",
       "      <td>fr</td>\n",
       "      <td>None</td>\n",
       "      <td>None</td>\n",
       "      <td>None</td>\n",
       "      <td>collected in a university-level language learn...</td>\n",
       "      <td>You are invited to a friend's birthday. You re...</td>\n",
       "      <td>(at least 60 words)</td>\n",
       "      <td>A2</td>\n",
       "      <td>Hi my dear friend !</td>\n",
       "      <td>None</td>\n",
       "      <td>None</td>\n",
       "      <td>None</td>\n",
       "      <td>None</td>\n",
       "    </tr>\n",
       "    <tr>\n",
       "      <th>1</th>\n",
       "      <td>0017.xml</td>\n",
       "      <td>19</td>\n",
       "      <td>M</td>\n",
       "      <td>higher-secondary</td>\n",
       "      <td>fr</td>\n",
       "      <td>None</td>\n",
       "      <td>None</td>\n",
       "      <td>None</td>\n",
       "      <td>collected in a university-level language learn...</td>\n",
       "      <td>Share a memory of a holiday. Where was it, who...</td>\n",
       "      <td>(at least 60 words)</td>\n",
       "      <td>A2</td>\n",
       "      <td>I will write about my holiday in Iceland. I an...</td>\n",
       "      <td>None</td>\n",
       "      <td>None</td>\n",
       "      <td>None</td>\n",
       "      <td>None</td>\n",
       "    </tr>\n",
       "    <tr>\n",
       "      <th>2</th>\n",
       "      <td>0018.xml</td>\n",
       "      <td>18</td>\n",
       "      <td>F</td>\n",
       "      <td>higher-secondary</td>\n",
       "      <td>fr</td>\n",
       "      <td>None</td>\n",
       "      <td>None</td>\n",
       "      <td>None</td>\n",
       "      <td>collected in a university-level language learn...</td>\n",
       "      <td>You are invited to a friend's birthday. You re...</td>\n",
       "      <td>(at least 60 words)</td>\n",
       "      <td>A2</td>\n",
       "      <td>Hello {name}!!</td>\n",
       "      <td>None</td>\n",
       "      <td>None</td>\n",
       "      <td>None</td>\n",
       "      <td>None</td>\n",
       "    </tr>\n",
       "    <tr>\n",
       "      <th>3</th>\n",
       "      <td>0020.xml</td>\n",
       "      <td>18</td>\n",
       "      <td>F</td>\n",
       "      <td>higher-secondary</td>\n",
       "      <td>fr</td>\n",
       "      <td>None</td>\n",
       "      <td>None</td>\n",
       "      <td>None</td>\n",
       "      <td>collected in a university-level language learn...</td>\n",
       "      <td>You are invited to a friend's birthday. You re...</td>\n",
       "      <td>(at least 60 words)</td>\n",
       "      <td>A2</td>\n",
       "      <td>Hi! How are you?</td>\n",
       "      <td>None</td>\n",
       "      <td>None</td>\n",
       "      <td>None</td>\n",
       "      <td>None</td>\n",
       "    </tr>\n",
       "    <tr>\n",
       "      <th>4</th>\n",
       "      <td>0021.xml</td>\n",
       "      <td>18</td>\n",
       "      <td>F</td>\n",
       "      <td>higher-secondary</td>\n",
       "      <td>fr</td>\n",
       "      <td>None</td>\n",
       "      <td>None</td>\n",
       "      <td>None</td>\n",
       "      <td>collected in a university-level language learn...</td>\n",
       "      <td>You are invited to a friend's birthday. You re...</td>\n",
       "      <td>(at least 60 words)</td>\n",
       "      <td>A2</td>\n",
       "      <td>Hey!</td>\n",
       "      <td>None</td>\n",
       "      <td>None</td>\n",
       "      <td>None</td>\n",
       "      <td>None</td>\n",
       "    </tr>\n",
       "  </tbody>\n",
       "</table>\n",
       "</div>"
      ],
      "text/plain": [
       "  file_name age_participant sex_participant         education  L1  \\\n",
       "0  0016.xml              18               M  higher-secondary  fr   \n",
       "1  0017.xml              19               M  higher-secondary  fr   \n",
       "2  0018.xml              18               F  higher-secondary  fr   \n",
       "3  0020.xml              18               F  higher-secondary  fr   \n",
       "4  0021.xml              18               F  higher-secondary  fr   \n",
       "\n",
       "  sex_examiner1 sex_examiner2 sex_examiner3  \\\n",
       "0          None          None          None   \n",
       "1          None          None          None   \n",
       "2          None          None          None   \n",
       "3          None          None          None   \n",
       "4          None          None          None   \n",
       "\n",
       "                                             setting  \\\n",
       "0  collected in a university-level language learn...   \n",
       "1  collected in a university-level language learn...   \n",
       "2  collected in a university-level language learn...   \n",
       "3  collected in a university-level language learn...   \n",
       "4  collected in a university-level language learn...   \n",
       "\n",
       "                                            question           word_limit  \\\n",
       "0  You are invited to a friend's birthday. You re...  (at least 60 words)   \n",
       "1  Share a memory of a holiday. Where was it, who...  (at least 60 words)   \n",
       "2  You are invited to a friend's birthday. You re...  (at least 60 words)   \n",
       "3  You are invited to a friend's birthday. You re...  (at least 60 words)   \n",
       "4  You are invited to a friend's birthday. You re...  (at least 60 words)   \n",
       "\n",
       "  level                                             answer grade_examiner1  \\\n",
       "0    A2                                Hi my dear friend !            None   \n",
       "1    A2  I will write about my holiday in Iceland. I an...            None   \n",
       "2    A2                                     Hello {name}!!            None   \n",
       "3    A2                                   Hi! How are you?            None   \n",
       "4    A2                                               Hey!            None   \n",
       "\n",
       "  grade_examiner2 grade_examiner3 grade_majority_vote  \n",
       "0            None            None                None  \n",
       "1            None            None                None  \n",
       "2            None            None                None  \n",
       "3            None            None                None  \n",
       "4            None            None                None  "
      ]
     },
     "execution_count": 22,
     "metadata": {},
     "output_type": "execute_result"
    }
   ],
   "source": [
    "# Call the function and display the resulting DataFrame\n",
    "cefr_unlabelled = create_cefr_df(cefr_unlabelled_path)\n",
    "cefr_unlabelled.head()"
   ]
  },
  {
   "cell_type": "code",
   "execution_count": 23,
   "metadata": {},
   "outputs": [
    {
     "name": "stdout",
     "output_type": "stream",
     "text": [
      "<class 'pandas.core.frame.DataFrame'>\n",
      "RangeIndex: 409 entries, 0 to 408\n",
      "Data columns (total 17 columns):\n",
      " #   Column               Non-Null Count  Dtype \n",
      "---  ------               --------------  ----- \n",
      " 0   file_name            409 non-null    object\n",
      " 1   age_participant      409 non-null    object\n",
      " 2   sex_participant      409 non-null    object\n",
      " 3   education            409 non-null    object\n",
      " 4   L1                   409 non-null    object\n",
      " 5   sex_examiner1        0 non-null      object\n",
      " 6   sex_examiner2        0 non-null      object\n",
      " 7   sex_examiner3        0 non-null      object\n",
      " 8   setting              409 non-null    object\n",
      " 9   question             409 non-null    object\n",
      " 10  word_limit           409 non-null    object\n",
      " 11  level                409 non-null    object\n",
      " 12  answer               409 non-null    object\n",
      " 13  grade_examiner1      0 non-null      object\n",
      " 14  grade_examiner2      0 non-null      object\n",
      " 15  grade_examiner3      0 non-null      object\n",
      " 16  grade_majority_vote  0 non-null      object\n",
      "dtypes: object(17)\n",
      "memory usage: 54.4+ KB\n"
     ]
    }
   ],
   "source": [
    "cefr_unlabelled.info()"
   ]
  },
  {
   "cell_type": "code",
   "execution_count": 24,
   "metadata": {},
   "outputs": [
    {
     "data": {
      "text/html": [
       "<div>\n",
       "<style scoped>\n",
       "    .dataframe tbody tr th:only-of-type {\n",
       "        vertical-align: middle;\n",
       "    }\n",
       "\n",
       "    .dataframe tbody tr th {\n",
       "        vertical-align: top;\n",
       "    }\n",
       "\n",
       "    .dataframe thead th {\n",
       "        text-align: right;\n",
       "    }\n",
       "</style>\n",
       "<table border=\"1\" class=\"dataframe\">\n",
       "  <thead>\n",
       "    <tr style=\"text-align: right;\">\n",
       "      <th></th>\n",
       "      <th>file_name</th>\n",
       "      <th>age_participant</th>\n",
       "      <th>sex_participant</th>\n",
       "      <th>education</th>\n",
       "      <th>L1</th>\n",
       "      <th>sex_examiner1</th>\n",
       "      <th>sex_examiner2</th>\n",
       "      <th>sex_examiner3</th>\n",
       "      <th>setting</th>\n",
       "      <th>question</th>\n",
       "      <th>word_limit</th>\n",
       "      <th>level</th>\n",
       "      <th>answer</th>\n",
       "      <th>grade_examiner1</th>\n",
       "      <th>grade_examiner2</th>\n",
       "      <th>grade_examiner3</th>\n",
       "      <th>grade_majority_vote</th>\n",
       "    </tr>\n",
       "  </thead>\n",
       "  <tbody>\n",
       "    <tr>\n",
       "      <th>count</th>\n",
       "      <td>409</td>\n",
       "      <td>409</td>\n",
       "      <td>409</td>\n",
       "      <td>409</td>\n",
       "      <td>409</td>\n",
       "      <td>0</td>\n",
       "      <td>0</td>\n",
       "      <td>0</td>\n",
       "      <td>409</td>\n",
       "      <td>409</td>\n",
       "      <td>409</td>\n",
       "      <td>409</td>\n",
       "      <td>409</td>\n",
       "      <td>0</td>\n",
       "      <td>0</td>\n",
       "      <td>0</td>\n",
       "      <td>0</td>\n",
       "    </tr>\n",
       "    <tr>\n",
       "      <th>unique</th>\n",
       "      <td>409</td>\n",
       "      <td>54</td>\n",
       "      <td>2</td>\n",
       "      <td>6</td>\n",
       "      <td>14</td>\n",
       "      <td>0</td>\n",
       "      <td>0</td>\n",
       "      <td>0</td>\n",
       "      <td>2</td>\n",
       "      <td>13</td>\n",
       "      <td>4</td>\n",
       "      <td>4</td>\n",
       "      <td>403</td>\n",
       "      <td>0</td>\n",
       "      <td>0</td>\n",
       "      <td>0</td>\n",
       "      <td>0</td>\n",
       "    </tr>\n",
       "    <tr>\n",
       "      <th>top</th>\n",
       "      <td>0016.xml</td>\n",
       "      <td>20</td>\n",
       "      <td>F</td>\n",
       "      <td>higher-secondary</td>\n",
       "      <td>fr</td>\n",
       "      <td>NaN</td>\n",
       "      <td>NaN</td>\n",
       "      <td>NaN</td>\n",
       "      <td>collected in a university-level language learn...</td>\n",
       "      <td>If you had 1 million euros, what would you do ...</td>\n",
       "      <td>(at least 80 words)</td>\n",
       "      <td>B1</td>\n",
       "      <td>Job is something you will have to do in your a...</td>\n",
       "      <td>NaN</td>\n",
       "      <td>NaN</td>\n",
       "      <td>NaN</td>\n",
       "      <td>NaN</td>\n",
       "    </tr>\n",
       "    <tr>\n",
       "      <th>freq</th>\n",
       "      <td>1</td>\n",
       "      <td>65</td>\n",
       "      <td>227</td>\n",
       "      <td>266</td>\n",
       "      <td>389</td>\n",
       "      <td>NaN</td>\n",
       "      <td>NaN</td>\n",
       "      <td>NaN</td>\n",
       "      <td>264</td>\n",
       "      <td>70</td>\n",
       "      <td>166</td>\n",
       "      <td>166</td>\n",
       "      <td>3</td>\n",
       "      <td>NaN</td>\n",
       "      <td>NaN</td>\n",
       "      <td>NaN</td>\n",
       "      <td>NaN</td>\n",
       "    </tr>\n",
       "  </tbody>\n",
       "</table>\n",
       "</div>"
      ],
      "text/plain": [
       "       file_name age_participant sex_participant         education   L1  \\\n",
       "count        409             409             409               409  409   \n",
       "unique       409              54               2                 6   14   \n",
       "top     0016.xml              20               F  higher-secondary   fr   \n",
       "freq           1              65             227               266  389   \n",
       "\n",
       "       sex_examiner1 sex_examiner2 sex_examiner3  \\\n",
       "count              0             0             0   \n",
       "unique             0             0             0   \n",
       "top              NaN           NaN           NaN   \n",
       "freq             NaN           NaN           NaN   \n",
       "\n",
       "                                                  setting  \\\n",
       "count                                                 409   \n",
       "unique                                                  2   \n",
       "top     collected in a university-level language learn...   \n",
       "freq                                                  264   \n",
       "\n",
       "                                                 question  \\\n",
       "count                                                 409   \n",
       "unique                                                 13   \n",
       "top     If you had 1 million euros, what would you do ...   \n",
       "freq                                                   70   \n",
       "\n",
       "                 word_limit level  \\\n",
       "count                   409   409   \n",
       "unique                    4     4   \n",
       "top     (at least 80 words)    B1   \n",
       "freq                    166   166   \n",
       "\n",
       "                                                   answer grade_examiner1  \\\n",
       "count                                                 409               0   \n",
       "unique                                                403               0   \n",
       "top     Job is something you will have to do in your a...             NaN   \n",
       "freq                                                    3             NaN   \n",
       "\n",
       "       grade_examiner2 grade_examiner3 grade_majority_vote  \n",
       "count                0               0                   0  \n",
       "unique               0               0                   0  \n",
       "top                NaN             NaN                 NaN  \n",
       "freq               NaN             NaN                 NaN  "
      ]
     },
     "execution_count": 24,
     "metadata": {},
     "output_type": "execute_result"
    }
   ],
   "source": [
    "cefr_unlabelled.describe()"
   ]
  },
  {
   "cell_type": "code",
   "execution_count": 25,
   "metadata": {},
   "outputs": [
    {
     "data": {
      "text/plain": [
       "(409, 17)"
      ]
     },
     "execution_count": 25,
     "metadata": {},
     "output_type": "execute_result"
    }
   ],
   "source": [
    "cefr_unlabelled.shape"
   ]
  },
  {
   "cell_type": "code",
   "execution_count": 26,
   "metadata": {
    "colab": {
     "base_uri": "https://localhost:8080/"
    },
    "id": "R75Z52E5DLfW",
    "outputId": "1ecac206-f874-4e45-9fee-0fe5e24f3a6e"
   },
   "outputs": [
    {
     "data": {
      "text/plain": [
       "question\n",
       "If you had 1 million euros, what would you do with it?                                                                          70\n",
       "What is the best book you've ever read and why?                                                                                 55\n",
       "Do you think it is more important to have an enjoyable job or to make money? Explain your point of view.                        47\n",
       "Imagine your life in 10 years time. What will it look like?                                                                     41\n",
       "You attended an event. Write an article for your blog.                                                                          41\n",
       "Should study abroad be a compulsory part of education? Explain your point of view.                                              34\n",
       "You are invited to a friend's birthday. You respond thanking him/her. Suggest some different ways that you can help him/her.    30\n",
       "What advice would you give to help improve the environment?                                                                     24\n",
       "Share a memory of a holiday. Where was it, who went, what happenedâ€¦?                                                          22\n",
       "What is the impact of social networks on relationships?                                                                         21\n",
       "Eating a balanced diet is the most important factor for a healthy life. Explain your point of view.                              9\n",
       "Share a memory of a holiday. Where was it, who went, what happened?                                                              9\n",
       "Do people who live in the public eye have a right to privacy? Explain your point of view.                                        6\n",
       "Name: count, dtype: int64"
      ]
     },
     "execution_count": 26,
     "metadata": {},
     "output_type": "execute_result"
    }
   ],
   "source": [
    "cefr_unlabelled.question.value_counts()"
   ]
  },
  {
   "cell_type": "code",
   "execution_count": 27,
   "metadata": {},
   "outputs": [
    {
     "data": {
      "text/plain": [
       "L1\n",
       "fr       389\n",
       "de         6\n",
       "ro         2\n",
       "ru         2\n",
       "es         1\n",
       "ar         1\n",
       "pl         1\n",
       "en         1\n",
       "az         1\n",
       "pt         1\n",
       "nl         1\n",
       "bg         1\n",
       "vi         1\n",
       "ar_LB      1\n",
       "Name: count, dtype: int64"
      ]
     },
     "execution_count": 27,
     "metadata": {},
     "output_type": "execute_result"
    }
   ],
   "source": [
    "cefr_unlabelled.L1.value_counts()"
   ]
  },
  {
   "cell_type": "code",
   "execution_count": null,
   "metadata": {},
   "outputs": [],
   "source": []
  }
 ],
 "metadata": {
  "colab": {
   "provenance": []
  },
  "kernelspec": {
   "display_name": "Python 3 (ipykernel)",
   "language": "python",
   "name": "python3"
  },
  "language_info": {
   "codemirror_mode": {
    "name": "ipython",
    "version": 3
   },
   "file_extension": ".py",
   "mimetype": "text/x-python",
   "name": "python",
   "nbconvert_exporter": "python",
   "pygments_lexer": "ipython3",
   "version": "3.11.5"
  }
 },
 "nbformat": 4,
 "nbformat_minor": 1
}
